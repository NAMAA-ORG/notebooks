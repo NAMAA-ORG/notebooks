{
 "cells": [
  {
   "cell_type": "code",
   "execution_count": null,
   "id": "6c8a8cac-5a67-46cf-8846-8e85fa82eb0d",
   "metadata": {
    "tags": []
   },
   "outputs": [],
   "source": [
    "pip install wandb --upgrade"
   ]
  },
  {
   "cell_type": "code",
   "execution_count": null,
   "id": "03eb4f05-f1d2-4003-a3e7-638bc71e008d",
   "metadata": {
    "tags": []
   },
   "outputs": [],
   "source": [
    "!pip install accelerate"
   ]
  },
  {
   "cell_type": "code",
   "execution_count": null,
   "id": "c9abd45c-1147-47f7-af02-4c0ee7b8653c",
   "metadata": {
    "tags": []
   },
   "outputs": [],
   "source": [
    "!pip install sacremoses"
   ]
  },
  {
   "cell_type": "code",
   "execution_count": null,
   "id": "ea7ca640-cc30-4bfe-b647-19ed3fece8f2",
   "metadata": {
    "tags": []
   },
   "outputs": [],
   "source": [
    "!pip install evaluate"
   ]
  },
  {
   "cell_type": "code",
   "execution_count": null,
   "id": "fd6cfbae-4dc1-4609-9af1-fcbb3c3cfbdb",
   "metadata": {
    "tags": []
   },
   "outputs": [],
   "source": [
    "outputName = \"masrawy-english-arabic-translator-opus-big-v1\""
   ]
  },
  {
   "cell_type": "code",
   "execution_count": null,
   "id": "ffd1cb38-9c44-4ab5-936d-143c6191eac8",
   "metadata": {
    "tags": []
   },
   "outputs": [],
   "source": [
    "from transformers import AutoTokenizer\n",
    "from transformers import AutoModelForSeq2SeqLM, Seq2SeqTrainingArguments, Seq2SeqTrainer, AutoModel\n",
    "\n",
    "modelName = \"Helsinki-NLP/opus-mt-tc-big-en-ar\"\n",
    "tokenizer = AutoTokenizer.from_pretrained(modelName)\n",
    "model = AutoModelForSeq2SeqLM.from_pretrained(modelName)"
   ]
  },
  {
   "cell_type": "code",
   "execution_count": null,
   "id": "a781d144-25f5-42f0-a3ea-761818c641b4",
   "metadata": {
    "tags": []
   },
   "outputs": [],
   "source": [
    "from datasets import load_dataset\n",
    "dataset = load_dataset(\"dataset\") ##columns should include arabic, english\n",
    "dataset = dataset.shuffle(seed=50)\n",
    "print(dataset['train'][0], dataset['train'][5])\n",
    "dataset = dataset[\"train\"].train_test_split(test_size=0.05)"
   ]
  },
  {
   "cell_type": "code",
   "execution_count": null,
   "id": "6cad9ede-e0bd-461d-8420-a8784efcf02c",
   "metadata": {
    "tags": []
   },
   "outputs": [],
   "source": []
  },
  {
   "cell_type": "code",
   "execution_count": null,
   "id": "b82391f5-9c23-43fb-bae0-9bb2b7f21787",
   "metadata": {
    "tags": []
   },
   "outputs": [],
   "source": [
    "source_lang = \"english\"\n",
    "target_lang = \"arabic\"\n",
    "prefix = \"\" ## if needed\n",
    "\n",
    "def preprocess_function(examples):\n",
    "    inputs = [prefix + example for example in examples[source_lang]]\n",
    "    targets = [example for example in examples[target_lang]]\n",
    "   \n",
    "    model_inputs = tokenizer(inputs, max_length=512, truncation=True, add_special_tokens=True)\n",
    "\n",
    "    with tokenizer.as_target_tokenizer():\n",
    "        labels = tokenizer(targets, max_length=512, truncation=True, add_special_tokens=True)\n",
    "\n",
    "    model_inputs[\"labels\"] = labels[\"input_ids\"]\n",
    "    return model_inputs\n",
    "tokenized_dataset = dataset.map(preprocess_function, batched=True)"
   ]
  },
  {
   "cell_type": "code",
   "execution_count": null,
   "id": "d4ce8d7d-4f81-438c-af2d-d1c27270124d",
   "metadata": {
    "tags": []
   },
   "outputs": [],
   "source": [
    "from transformers import DataCollatorForSeq2Seq\n",
    "\n",
    "data_collator = DataCollatorForSeq2Seq(tokenizer=tokenizer, model=model)"
   ]
  },
  {
   "cell_type": "code",
   "execution_count": null,
   "id": "09a12bdf-058b-41b6-8760-0aa696ab88a2",
   "metadata": {
    "scrolled": true,
    "tags": []
   },
   "outputs": [],
   "source": [
    "training_args = Seq2SeqTrainingArguments(\n",
    "    output_dir=\"./\"+ outputName,\n",
    "    evaluation_strategy=\"steps\",\n",
    "    per_device_train_batch_size=64,\n",
    "    per_device_eval_batch_size=64,\n",
    "    save_total_limit=3,\n",
    "    num_train_epochs=10,\n",
    "    eval_steps=1000,\n",
    "    save_steps=100,\n",
    "    gradient_checkpointing=True,\n",
    ")\n",
    "\n",
    "trainer = Seq2SeqTrainer(\n",
    "    model=model,\n",
    "    args=training_args,\n",
    "    train_dataset=tokenized_dataset[\"train\"],\n",
    "    eval_dataset=tokenized_dataset[\"test\"],\n",
    "    tokenizer=tokenizer,\n",
    "    data_collator=data_collator,\n",
    ")\n",
    "\n",
    "# To continue training from checkpoint\n",
    "# trainer.train(resume_from_checkpoint=True)\n",
    "\n",
    "# To start training fresh\n",
    "trainer.train()\n"
   ]
  },
  {
   "cell_type": "code",
   "execution_count": null,
   "id": "941a1f6b-af0f-4884-b93d-5b3f8d8dc650",
   "metadata": {
    "tags": []
   },
   "outputs": [],
   "source": [
    "trainer.push_to_hub(\"oddadmix/\"+outputName)"
   ]
  }
 ],
 "metadata": {
  "kernelspec": {
   "display_name": "Python 3 (ipykernel)",
   "language": "python",
   "name": "python3"
  },
  "language_info": {
   "codemirror_mode": {
    "name": "ipython",
    "version": 3
   },
   "file_extension": ".py",
   "mimetype": "text/x-python",
   "name": "python",
   "nbconvert_exporter": "python",
   "pygments_lexer": "ipython3",
   "version": "3.11.7"
  }
 },
 "nbformat": 4,
 "nbformat_minor": 5
}
