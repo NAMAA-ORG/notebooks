{
 "cells": [
  {
   "cell_type": "code",
   "execution_count": 1,
   "id": "7ec4278d-3970-4e3e-b086-de16c4ddfbb1",
   "metadata": {
    "tags": []
   },
   "outputs": [
    {
     "name": "stdout",
     "output_type": "stream",
     "text": [
      ">>> Installing ollama to /usr/local\n",
      ">>> Downloading Linux amd64 bundle\n",
      "######################################################################## 100.0%   12.4%################                                    53.2%                59.6%\n",
      ">>> Creating ollama user...\n",
      ">>> Adding ollama user to render group...\n",
      ">>> Adding ollama user to video group...\n",
      ">>> Adding current user to ollama group...\n",
      ">>> Creating ollama systemd service...\n",
      "WARNING: Unable to detect NVIDIA/AMD GPU. Install lspci or lshw to automatically detect and install GPU dependencies.\n",
      ">>> The Ollama API is now available at 127.0.0.1:11434.\n",
      ">>> Install complete. Run \"ollama\" from the command line.\n"
     ]
    }
   ],
   "source": [
    "!curl -fsSL https://ollama.com/install.sh | sh "
   ]
  },
  {
   "cell_type": "code",
   "execution_count": 2,
   "id": "77f57f1e-c955-4897-a23a-b0c071a99434",
   "metadata": {
    "tags": []
   },
   "outputs": [],
   "source": [
    "## Run `ollama serve` in one terminal\n",
    "## Run `ollama run llama3.1:8b-instruct-fp16`\n",
    "## Run `ollama run gemma2:9b-instruct-fp16`"
   ]
  },
  {
   "cell_type": "code",
   "execution_count": 3,
   "id": "85684737-f5a3-4875-a2c8-d106e86ae271",
   "metadata": {
    "tags": []
   },
   "outputs": [
    {
     "name": "stdout",
     "output_type": "stream",
     "text": [
      "Collecting OpenAI\n",
      "  Downloading openai-1.54.3-py3-none-any.whl.metadata (24 kB)\n",
      "Requirement already satisfied: datasets in /usr/local/lib/python3.11/dist-packages (2.14.5)\n",
      "Collecting rich\n",
      "  Downloading rich-13.9.4-py3-none-any.whl.metadata (18 kB)\n",
      "Requirement already satisfied: anyio<5,>=3.5.0 in /usr/local/lib/python3.11/dist-packages (from OpenAI) (4.2.0)\n",
      "Requirement already satisfied: distro<2,>=1.7.0 in /usr/lib/python3/dist-packages (from OpenAI) (1.7.0)\n",
      "Collecting httpx<1,>=0.23.0 (from OpenAI)\n",
      "  Downloading httpx-0.27.2-py3-none-any.whl.metadata (7.1 kB)\n",
      "Collecting jiter<1,>=0.4.0 (from OpenAI)\n",
      "  Downloading jiter-0.7.0-cp311-cp311-manylinux_2_17_x86_64.manylinux2014_x86_64.whl.metadata (5.2 kB)\n",
      "Requirement already satisfied: pydantic<3,>=1.9.0 in /usr/local/lib/python3.11/dist-packages (from OpenAI) (1.10.14)\n",
      "Requirement already satisfied: sniffio in /usr/local/lib/python3.11/dist-packages (from OpenAI) (1.3.0)\n",
      "Requirement already satisfied: tqdm>4 in /usr/local/lib/python3.11/dist-packages (from OpenAI) (4.66.1)\n",
      "Collecting typing-extensions<5,>=4.11 (from OpenAI)\n",
      "  Downloading typing_extensions-4.12.2-py3-none-any.whl.metadata (3.0 kB)\n",
      "Requirement already satisfied: numpy>=1.17 in /usr/local/lib/python3.11/dist-packages (from datasets) (1.26.3)\n",
      "Requirement already satisfied: pyarrow>=8.0.0 in /usr/local/lib/python3.11/dist-packages (from datasets) (15.0.0)\n",
      "Requirement already satisfied: dill<0.3.8,>=0.3.0 in /usr/local/lib/python3.11/dist-packages (from datasets) (0.3.7)\n",
      "Requirement already satisfied: pandas in /usr/local/lib/python3.11/dist-packages (from datasets) (2.2.0)\n",
      "Requirement already satisfied: requests>=2.19.0 in /usr/local/lib/python3.11/dist-packages (from datasets) (2.31.0)\n",
      "Requirement already satisfied: xxhash in /usr/local/lib/python3.11/dist-packages (from datasets) (3.4.1)\n",
      "Requirement already satisfied: multiprocess in /usr/local/lib/python3.11/dist-packages (from datasets) (0.70.15)\n",
      "Requirement already satisfied: fsspec<2023.9.0,>=2023.1.0 in /usr/local/lib/python3.11/dist-packages (from fsspec[http]<2023.9.0,>=2023.1.0->datasets) (2023.6.0)\n",
      "Requirement already satisfied: aiohttp in /usr/local/lib/python3.11/dist-packages (from datasets) (3.9.1)\n",
      "Requirement already satisfied: huggingface-hub<1.0.0,>=0.14.0 in /usr/local/lib/python3.11/dist-packages (from datasets) (0.20.3)\n",
      "Requirement already satisfied: packaging in /usr/local/lib/python3.11/dist-packages (from datasets) (23.2)\n",
      "Requirement already satisfied: pyyaml>=5.1 in /usr/lib/python3/dist-packages (from datasets) (5.4.1)\n",
      "Collecting markdown-it-py>=2.2.0 (from rich)\n",
      "  Downloading markdown_it_py-3.0.0-py3-none-any.whl.metadata (6.9 kB)\n",
      "Requirement already satisfied: pygments<3.0.0,>=2.13.0 in /usr/local/lib/python3.11/dist-packages (from rich) (2.17.2)\n",
      "Requirement already satisfied: idna>=2.8 in /usr/lib/python3/dist-packages (from anyio<5,>=3.5.0->OpenAI) (3.3)\n",
      "Requirement already satisfied: attrs>=17.3.0 in /usr/local/lib/python3.11/dist-packages (from aiohttp->datasets) (23.1.0)\n",
      "Requirement already satisfied: multidict<7.0,>=4.5 in /usr/local/lib/python3.11/dist-packages (from aiohttp->datasets) (6.0.4)\n",
      "Requirement already satisfied: yarl<2.0,>=1.0 in /usr/local/lib/python3.11/dist-packages (from aiohttp->datasets) (1.9.4)\n",
      "Requirement already satisfied: frozenlist>=1.1.1 in /usr/local/lib/python3.11/dist-packages (from aiohttp->datasets) (1.4.1)\n",
      "Requirement already satisfied: aiosignal>=1.1.2 in /usr/local/lib/python3.11/dist-packages (from aiohttp->datasets) (1.3.1)\n",
      "Requirement already satisfied: certifi in /usr/lib/python3/dist-packages (from httpx<1,>=0.23.0->OpenAI) (2020.6.20)\n",
      "Collecting httpcore==1.* (from httpx<1,>=0.23.0->OpenAI)\n",
      "  Downloading httpcore-1.0.6-py3-none-any.whl.metadata (21 kB)\n",
      "Collecting h11<0.15,>=0.13 (from httpcore==1.*->httpx<1,>=0.23.0->OpenAI)\n",
      "  Downloading h11-0.14.0-py3-none-any.whl.metadata (8.2 kB)\n",
      "Requirement already satisfied: filelock in /usr/local/lib/python3.11/dist-packages (from huggingface-hub<1.0.0,>=0.14.0->datasets) (3.13.1)\n",
      "Collecting mdurl~=0.1 (from markdown-it-py>=2.2.0->rich)\n",
      "  Downloading mdurl-0.1.2-py3-none-any.whl.metadata (1.6 kB)\n",
      "Requirement already satisfied: charset-normalizer<4,>=2 in /usr/local/lib/python3.11/dist-packages (from requests>=2.19.0->datasets) (3.3.2)\n",
      "Requirement already satisfied: urllib3<3,>=1.21.1 in /usr/local/lib/python3.11/dist-packages (from requests>=2.19.0->datasets) (2.0.7)\n",
      "Requirement already satisfied: python-dateutil>=2.8.2 in /usr/local/lib/python3.11/dist-packages (from pandas->datasets) (2.8.2)\n",
      "Requirement already satisfied: pytz>=2020.1 in /usr/lib/python3/dist-packages (from pandas->datasets) (2022.1)\n",
      "Requirement already satisfied: tzdata>=2022.7 in /usr/local/lib/python3.11/dist-packages (from pandas->datasets) (2023.4)\n",
      "Requirement already satisfied: six>=1.5 in /usr/lib/python3/dist-packages (from python-dateutil>=2.8.2->pandas->datasets) (1.16.0)\n",
      "Downloading openai-1.54.3-py3-none-any.whl (389 kB)\n",
      "\u001b[2K   \u001b[90m━━━━━━━━━━━━━━━━━━━━━━━━━━━━━━━━━━━━━━━━\u001b[0m \u001b[32m389.6/389.6 kB\u001b[0m \u001b[31m49.3 MB/s\u001b[0m eta \u001b[36m0:00:00\u001b[0m\n",
      "\u001b[?25hDownloading rich-13.9.4-py3-none-any.whl (242 kB)\n",
      "\u001b[2K   \u001b[90m━━━━━━━━━━━━━━━━━━━━━━━━━━━━━━━━━━━━━━━━\u001b[0m \u001b[32m242.4/242.4 kB\u001b[0m \u001b[31m47.5 MB/s\u001b[0m eta \u001b[36m0:00:00\u001b[0m\n",
      "\u001b[?25hDownloading httpx-0.27.2-py3-none-any.whl (76 kB)\n",
      "\u001b[2K   \u001b[90m━━━━━━━━━━━━━━━━━━━━━━━━━━━━━━━━━━━━━━━━\u001b[0m \u001b[32m76.4/76.4 kB\u001b[0m \u001b[31m21.0 MB/s\u001b[0m eta \u001b[36m0:00:00\u001b[0m\n",
      "\u001b[?25hDownloading httpcore-1.0.6-py3-none-any.whl (78 kB)\n",
      "\u001b[2K   \u001b[90m━━━━━━━━━━━━━━━━━━━━━━━━━━━━━━━━━━━━━━━━\u001b[0m \u001b[32m78.0/78.0 kB\u001b[0m \u001b[31m20.3 MB/s\u001b[0m eta \u001b[36m0:00:00\u001b[0m\n",
      "\u001b[?25hDownloading jiter-0.7.0-cp311-cp311-manylinux_2_17_x86_64.manylinux2014_x86_64.whl (327 kB)\n",
      "\u001b[2K   \u001b[90m━━━━━━━━━━━━━━━━━━━━━━━━━━━━━━━━━━━━━━━━\u001b[0m \u001b[32m327.3/327.3 kB\u001b[0m \u001b[31m64.0 MB/s\u001b[0m eta \u001b[36m0:00:00\u001b[0m\n",
      "\u001b[?25hDownloading markdown_it_py-3.0.0-py3-none-any.whl (87 kB)\n",
      "\u001b[2K   \u001b[90m━━━━━━━━━━━━━━━━━━━━━━━━━━━━━━━━━━━━━━━━\u001b[0m \u001b[32m87.5/87.5 kB\u001b[0m \u001b[31m23.8 MB/s\u001b[0m eta \u001b[36m0:00:00\u001b[0m\n",
      "\u001b[?25hDownloading typing_extensions-4.12.2-py3-none-any.whl (37 kB)\n",
      "Downloading mdurl-0.1.2-py3-none-any.whl (10.0 kB)\n",
      "Downloading h11-0.14.0-py3-none-any.whl (58 kB)\n",
      "\u001b[2K   \u001b[90m━━━━━━━━━━━━━━━━━━━━━━━━━━━━━━━━━━━━━━━━\u001b[0m \u001b[32m58.3/58.3 kB\u001b[0m \u001b[31m14.8 MB/s\u001b[0m eta \u001b[36m0:00:00\u001b[0m\n",
      "\u001b[?25hInstalling collected packages: typing-extensions, mdurl, jiter, h11, markdown-it-py, httpcore, rich, httpx, OpenAI\n",
      "  Attempting uninstall: typing-extensions\n",
      "    Found existing installation: typing_extensions 4.9.0\n",
      "    Uninstalling typing_extensions-4.9.0:\n",
      "      Successfully uninstalled typing_extensions-4.9.0\n",
      "Successfully installed OpenAI-1.54.3 h11-0.14.0 httpcore-1.0.6 httpx-0.27.2 jiter-0.7.0 markdown-it-py-3.0.0 mdurl-0.1.2 rich-13.9.4 typing-extensions-4.12.2\n",
      "\u001b[33mWARNING: Running pip as the 'root' user can result in broken permissions and conflicting behaviour with the system package manager. It is recommended to use a virtual environment instead: https://pip.pypa.io/warnings/venv\u001b[0m\u001b[33m\n",
      "\u001b[0m"
     ]
    }
   ],
   "source": [
    "!pip install OpenAI datasets rich"
   ]
  },
  {
   "cell_type": "code",
   "execution_count": 4,
   "id": "9d50ce56-588b-43e3-96b7-23deb454d0ca",
   "metadata": {
    "tags": []
   },
   "outputs": [],
   "source": [
    "from rich import print\n",
    "import os\n",
    "from openai import OpenAI\n",
    "from datasets import Dataset, DatasetDict, load_dataset\n",
    "import json"
   ]
  },
  {
   "cell_type": "code",
   "execution_count": 5,
   "id": "551c1147-0a52-4133-8a1e-3d4aa43b1e28",
   "metadata": {
    "tags": []
   },
   "outputs": [],
   "source": [
    "modelName = \"llama3.1:8b-instruct-fp16\""
   ]
  },
  {
   "cell_type": "code",
   "execution_count": 15,
   "id": "216d3e79-423b-4433-8a37-1212a35d354e",
   "metadata": {
    "tags": []
   },
   "outputs": [
    {
     "data": {
      "text/html": [
       "<pre style=\"white-space:pre;overflow-x:auto;line-height:normal;font-family:Menlo,'DejaVu Sans Mono',consolas,'Courier New',monospace\">synthetic_data-Science.jsonl\n",
       "</pre>\n"
      ],
      "text/plain": [
       "synthetic_data-Science.jsonl\n"
      ]
     },
     "metadata": {},
     "output_type": "display_data"
    }
   ],
   "source": [
    "topic = \"Science\"\n",
    "fileName = f'synthetic_data-{topic}.jsonl'.format(topic)\n",
    "print(fileName)\n",
    "n_subtopics = 14\n",
    "n_questions = 2\n",
    "\n",
    "client = OpenAI(\n",
    "   base_url = 'http://localhost:11434/v1', ## using ollama local endpoint\n",
    "    api_key='ollama', # required, but unused\n",
    ")"
   ]
  },
  {
   "cell_type": "code",
   "execution_count": 16,
   "id": "2b4c7819-6058-4902-a69a-774d22714c33",
   "metadata": {
    "tags": []
   },
   "outputs": [
    {
     "data": {
      "text/html": [
       "<pre style=\"white-space:pre;overflow-x:auto;line-height:normal;font-family:Menlo,'DejaVu Sans Mono',consolas,'Courier New',monospace\"><span style=\"font-weight: bold\">[</span>\n",
       "    <span style=\"color: #008000; text-decoration-color: #008000\">'علم الفلك'</span>,\n",
       "    <span style=\"color: #008000; text-decoration-color: #008000\">'الجزيئات والكيمياء'</span>,\n",
       "    <span style=\"color: #008000; text-decoration-color: #008000\">''</span>,\n",
       "    <span style=\"color: #008000; text-decoration-color: #008000\">'الفيزياء'</span>,\n",
       "    <span style=\"color: #008000; text-decoration-color: #008000\">'الكيمياء الحيوية'</span>,\n",
       "    <span style=\"color: #008000; text-decoration-color: #008000\">''</span>,\n",
       "    <span style=\"color: #008000; text-decoration-color: #008000\">'التكنولوجيا'</span>,\n",
       "    <span style=\"color: #008000; text-decoration-color: #008000\">'البيئة والمناخ'</span>,\n",
       "    <span style=\"color: #008000; text-decoration-color: #008000\">''</span>,\n",
       "    <span style=\"color: #008000; text-decoration-color: #008000\">'الرياضيات'</span>,\n",
       "    <span style=\"color: #008000; text-decoration-color: #008000\">'الجيولوجيا'</span>,\n",
       "    <span style=\"color: #008000; text-decoration-color: #008000\">''</span>,\n",
       "    <span style=\"color: #008000; text-decoration-color: #008000\">'الأحياء'</span>,\n",
       "    <span style=\"color: #008000; text-decoration-color: #008000\">'الطب'</span>\n",
       "<span style=\"font-weight: bold\">]</span>\n",
       "<span style=\"color: #008080; text-decoration-color: #008080; font-weight: bold\">14</span>\n",
       "</pre>\n"
      ],
      "text/plain": [
       "\u001b[1m[\u001b[0m\n",
       "    \u001b[32m'علم الفلك'\u001b[0m,\n",
       "    \u001b[32m'الجزيئات والكيمياء'\u001b[0m,\n",
       "    \u001b[32m''\u001b[0m,\n",
       "    \u001b[32m'الفيزياء'\u001b[0m,\n",
       "    \u001b[32m'الكيمياء الحيوية'\u001b[0m,\n",
       "    \u001b[32m''\u001b[0m,\n",
       "    \u001b[32m'التكنولوجيا'\u001b[0m,\n",
       "    \u001b[32m'البيئة والمناخ'\u001b[0m,\n",
       "    \u001b[32m''\u001b[0m,\n",
       "    \u001b[32m'الرياضيات'\u001b[0m,\n",
       "    \u001b[32m'الجيولوجيا'\u001b[0m,\n",
       "    \u001b[32m''\u001b[0m,\n",
       "    \u001b[32m'الأحياء'\u001b[0m,\n",
       "    \u001b[32m'الطب'\u001b[0m\n",
       "\u001b[1m]\u001b[0m\n",
       "\u001b[1;36m14\u001b[0m\n"
      ]
     },
     "metadata": {},
     "output_type": "display_data"
    }
   ],
   "source": [
    "# 1. Subtopics Generation\n",
    "\n",
    "TOPIC_GENERATION_PROMPT_TEMPLATE = \"\"\"\\\n",
    "Given a topic, generate a list of {n_subtopics} topics make it simple and subtopics in Arabic that are formally related to the topic.\n",
    "\n",
    "The topic is: {topic}\n",
    "\n",
    "Only provide the list of subtopics, without numbers, descriptions, or any additional text. Separate each subtopic with newline\n",
    "\"\"\"\n",
    "\n",
    "def generate_subtopics(client, topic, n_subtopics):\n",
    "    prompt = TOPIC_GENERATION_PROMPT_TEMPLATE.format(topic=topic, n_subtopics=n_subtopics)\n",
    "    response = client.chat.completions.create(\n",
    "        model=modelName,\n",
    "        messages=[\n",
    "            {\"role\": \"user\",\n",
    "             \"content\": prompt}\n",
    "        ],\n",
    "        temperature=0.2,\n",
    "        top_p=0.7,\n",
    "        max_tokens=1024,\n",
    "    )\n",
    "    return response\n",
    "\n",
    "responses = generate_subtopics(client, topic=topic, n_subtopics=n_subtopics)\n",
    "print(responses.choices[0].message.content.split('\\n'), len(responses.choices[0].message.content.split('\\n')))"
   ]
  },
  {
   "cell_type": "code",
   "execution_count": 18,
   "id": "3cc39624-259b-4cb7-9b66-34395613cb53",
   "metadata": {
    "tags": []
   },
   "outputs": [
    {
     "data": {
      "text/html": [
       "<pre style=\"white-space:pre;overflow-x:auto;line-height:normal;font-family:Menlo,'DejaVu Sans Mono',consolas,'Courier New',monospace\">ما هي أهمية علم الفلك في فهم تشكل الكون وتطوره؟\n",
       "كيف يمكن استخدام تقنيات الفضاء الحديثة لتحسين معرفتنا بظواهر الفلك والنجوم؟\n",
       "</pre>\n"
      ],
      "text/plain": [
       "ما هي أهمية علم الفلك في فهم تشكل الكون وتطوره؟\n",
       "كيف يمكن استخدام تقنيات الفضاء الحديثة لتحسين معرفتنا بظواهر الفلك والنجوم؟\n"
      ]
     },
     "metadata": {},
     "output_type": "display_data"
    },
    {
     "data": {
      "text/html": [
       "<pre style=\"white-space:pre;overflow-x:auto;line-height:normal;font-family:Menlo,'DejaVu Sans Mono',consolas,'Courier New',monospace\">ما هي خصائص الجزيئات في الكيمياء؟\n",
       "\n",
       "كم عدد أنواع الجزيئات الموجودة في الطبيعة؟\n",
       "</pre>\n"
      ],
      "text/plain": [
       "ما هي خصائص الجزيئات في الكيمياء؟\n",
       "\n",
       "كم عدد أنواع الجزيئات الموجودة في الطبيعة؟\n"
      ]
     },
     "metadata": {},
     "output_type": "display_data"
    },
    {
     "data": {
      "text/html": [
       "<pre style=\"white-space:pre;overflow-x:auto;line-height:normal;font-family:Menlo,'DejaVu Sans Mono',consolas,'Courier New',monospace\">ما هي أهمية تطبيق مبادئ التنمية المستدامة في المجتمعات الحضرية؟ \n",
       "كيف يمكن أن يؤثر نمو السكان على الموارد الطبيعية والبيئة في المناطق الحضرية؟\n",
       "</pre>\n"
      ],
      "text/plain": [
       "ما هي أهمية تطبيق مبادئ التنمية المستدامة في المجتمعات الحضرية؟ \n",
       "كيف يمكن أن يؤثر نمو السكان على الموارد الطبيعية والبيئة في المناطق الحضرية؟\n"
      ]
     },
     "metadata": {},
     "output_type": "display_data"
    },
    {
     "data": {
      "text/html": [
       "<pre style=\"white-space:pre;overflow-x:auto;line-height:normal;font-family:Menlo,'DejaVu Sans Mono',consolas,'Courier New',monospace\">ما هي العلاقة بين القوة والجاذبية فيزيائياً؟\n",
       "\n",
       "هل يمكن أن تؤثر الظروف البيئية على قياس المادة في الفيزياء؟\n",
       "</pre>\n"
      ],
      "text/plain": [
       "ما هي العلاقة بين القوة والجاذبية فيزيائياً؟\n",
       "\n",
       "هل يمكن أن تؤثر الظروف البيئية على قياس المادة في الفيزياء؟\n"
      ]
     },
     "metadata": {},
     "output_type": "display_data"
    },
    {
     "data": {
      "text/html": [
       "<pre style=\"white-space:pre;overflow-x:auto;line-height:normal;font-family:Menlo,'DejaVu Sans Mono',consolas,'Courier New',monospace\">ما هي العوامل التي تؤثر على توازن المكونات في الخلايا الحية؟\n",
       "كيف يتفاعل الجينوم مع البيئة الخارجية لتحقيق التوازن البيولوجي؟\n",
       "</pre>\n"
      ],
      "text/plain": [
       "ما هي العوامل التي تؤثر على توازن المكونات في الخلايا الحية؟\n",
       "كيف يتفاعل الجينوم مع البيئة الخارجية لتحقيق التوازن البيولوجي؟\n"
      ]
     },
     "metadata": {},
     "output_type": "display_data"
    },
    {
     "data": {
      "text/html": [
       "<pre style=\"white-space:pre;overflow-x:auto;line-height:normal;font-family:Menlo,'DejaVu Sans Mono',consolas,'Courier New',monospace\">ما هي أهمية تعزيز الوعي بالصحة النفسية في المجتمع؟ \n",
       "كيف يمكن أن تؤثر التكنولوجيا على صحة النفس البشرية؟\n",
       "</pre>\n"
      ],
      "text/plain": [
       "ما هي أهمية تعزيز الوعي بالصحة النفسية في المجتمع؟ \n",
       "كيف يمكن أن تؤثر التكنولوجيا على صحة النفس البشرية؟\n"
      ]
     },
     "metadata": {},
     "output_type": "display_data"
    },
    {
     "data": {
      "text/html": [
       "<pre style=\"white-space:pre;overflow-x:auto;line-height:normal;font-family:Menlo,'DejaVu Sans Mono',consolas,'Courier New',monospace\">ما هي دورة حياة المنتجات التكنولوجية وتأثيرها على الصناعة؟\n",
       "\n",
       "كيف يمكن للتقنيات الجديدة مثل الذكاء الاصطناعي والروبوتيات أن تؤثر على سوق العمل في المستقبل؟\n",
       "</pre>\n"
      ],
      "text/plain": [
       "ما هي دورة حياة المنتجات التكنولوجية وتأثيرها على الصناعة؟\n",
       "\n",
       "كيف يمكن للتقنيات الجديدة مثل الذكاء الاصطناعي والروبوتيات أن تؤثر على سوق العمل في المستقبل؟\n"
      ]
     },
     "metadata": {},
     "output_type": "display_data"
    },
    {
     "data": {
      "text/html": [
       "<pre style=\"white-space:pre;overflow-x:auto;line-height:normal;font-family:Menlo,'DejaVu Sans Mono',consolas,'Courier New',monospace\">ما هي أهمية الحفاظ على التنوع البيئي في مواجهة تغير المناخ؟\n",
       "\n",
       "كيف يمكن للسياسات الاقتصادية أن تؤثر على جودة الهواء والتربة في المجتمعات المحلية؟\n",
       "</pre>\n"
      ],
      "text/plain": [
       "ما هي أهمية الحفاظ على التنوع البيئي في مواجهة تغير المناخ؟\n",
       "\n",
       "كيف يمكن للسياسات الاقتصادية أن تؤثر على جودة الهواء والتربة في المجتمعات المحلية؟\n"
      ]
     },
     "metadata": {},
     "output_type": "display_data"
    },
    {
     "data": {
      "text/html": [
       "<pre style=\"white-space:pre;overflow-x:auto;line-height:normal;font-family:Menlo,'DejaVu Sans Mono',consolas,'Courier New',monospace\">ما هي أهمية دراسة تأثيرات التغير المناخي على البيئة في الدول النامية؟\n",
       "\n",
       "هل يمكن أن يؤدي زيادة مستويات الطاقة الشمسية إلى تقليل الاعتماد على الوقود الأحفوري؟\n",
       "</pre>\n"
      ],
      "text/plain": [
       "ما هي أهمية دراسة تأثيرات التغير المناخي على البيئة في الدول النامية؟\n",
       "\n",
       "هل يمكن أن يؤدي زيادة مستويات الطاقة الشمسية إلى تقليل الاعتماد على الوقود الأحفوري؟\n"
      ]
     },
     "metadata": {},
     "output_type": "display_data"
    },
    {
     "data": {
      "text/html": [
       "<pre style=\"white-space:pre;overflow-x:auto;line-height:normal;font-family:Menlo,'DejaVu Sans Mono',consolas,'Courier New',monospace\">ما هي أهمية التعلم الرياضي في الحياة اليومية؟\n",
       "كيف يمكن أن تُستخدم الرياضيات في حل المشكلات البيئية؟\n",
       "</pre>\n"
      ],
      "text/plain": [
       "ما هي أهمية التعلم الرياضي في الحياة اليومية؟\n",
       "كيف يمكن أن تُستخدم الرياضيات في حل المشكلات البيئية؟\n"
      ]
     },
     "metadata": {},
     "output_type": "display_data"
    },
    {
     "data": {
      "text/html": [
       "<pre style=\"white-space:pre;overflow-x:auto;line-height:normal;font-family:Menlo,'DejaVu Sans Mono',consolas,'Courier New',monospace\">ما هي التغيرات التي طرأت على سطح الأرض منذ العصر الحجري؟\n",
       "\n",
       "كيف تؤثر العمليات الجيولوجية على البيئة المحيطة بالمناطق الساحلية؟\n",
       "</pre>\n"
      ],
      "text/plain": [
       "ما هي التغيرات التي طرأت على سطح الأرض منذ العصر الحجري؟\n",
       "\n",
       "كيف تؤثر العمليات الجيولوجية على البيئة المحيطة بالمناطق الساحلية؟\n"
      ]
     },
     "metadata": {},
     "output_type": "display_data"
    },
    {
     "data": {
      "text/html": [
       "<pre style=\"white-space:pre;overflow-x:auto;line-height:normal;font-family:Menlo,'DejaVu Sans Mono',consolas,'Courier New',monospace\">ما هي أهمية التوعية بالصحة النفسية في المجتمع؟\n",
       "كيف يمكن أن تؤثر العوامل البيئية على الصحة النفسية للفرد؟\n",
       "</pre>\n"
      ],
      "text/plain": [
       "ما هي أهمية التوعية بالصحة النفسية في المجتمع؟\n",
       "كيف يمكن أن تؤثر العوامل البيئية على الصحة النفسية للفرد؟\n"
      ]
     },
     "metadata": {},
     "output_type": "display_data"
    },
    {
     "data": {
      "text/html": [
       "<pre style=\"white-space:pre;overflow-x:auto;line-height:normal;font-family:Menlo,'DejaVu Sans Mono',consolas,'Courier New',monospace\">ما هي أهمية دراسة الأحياء في المجتمع؟\n",
       "كيف يمكن أن تؤثر التغيرات البيئية على تنوع الحياة على الأرض؟\n",
       "</pre>\n"
      ],
      "text/plain": [
       "ما هي أهمية دراسة الأحياء في المجتمع؟\n",
       "كيف يمكن أن تؤثر التغيرات البيئية على تنوع الحياة على الأرض؟\n"
      ]
     },
     "metadata": {},
     "output_type": "display_data"
    },
    {
     "data": {
      "text/html": [
       "<pre style=\"white-space:pre;overflow-x:auto;line-height:normal;font-family:Menlo,'DejaVu Sans Mono',consolas,'Courier New',monospace\">ما هي أهمية التكنولوجيا في مجال الطب الحديث؟\n",
       "كيف يمكن للطب البديل أن يتعامل مع الأمراض التي لا يمكن علاجها بالعلاجات التقليدية؟\n",
       "</pre>\n"
      ],
      "text/plain": [
       "ما هي أهمية التكنولوجيا في مجال الطب الحديث؟\n",
       "كيف يمكن للطب البديل أن يتعامل مع الأمراض التي لا يمكن علاجها بالعلاجات التقليدية؟\n"
      ]
     },
     "metadata": {},
     "output_type": "display_data"
    },
    {
     "data": {
      "text/html": [
       "<pre style=\"white-space:pre;overflow-x:auto;line-height:normal;font-family:Menlo,'DejaVu Sans Mono',consolas,'Courier New',monospace\"><span style=\"font-weight: bold\">[</span>\n",
       "    <span style=\"color: #008000; text-decoration-color: #008000\">'ما هي أهمية علم الفلك في فهم تشكل الكون وتطوره؟\\nكيف يمكن استخدام تقنيات الفضاء الحديثة لتحسين معرفتنا بظواهر </span>\n",
       "<span style=\"color: #008000; text-decoration-color: #008000\">الفلك والنجوم؟'</span>,\n",
       "    <span style=\"color: #008000; text-decoration-color: #008000\">'ما هي خصائص الجزيئات في الكيمياء؟\\n\\nكم عدد أنواع الجزيئات الموجودة في الطبيعة؟'</span>,\n",
       "    <span style=\"color: #008000; text-decoration-color: #008000\">'ما هي أهمية تطبيق مبادئ التنمية المستدامة في المجتمعات الحضرية؟ \\nكيف يمكن أن يؤثر نمو السكان على الموارد </span>\n",
       "<span style=\"color: #008000; text-decoration-color: #008000\">الطبيعية والبيئة في المناطق الحضرية؟'</span>,\n",
       "    <span style=\"color: #008000; text-decoration-color: #008000\">'ما هي العلاقة بين القوة والجاذبية فيزيائياً؟\\n\\nهل يمكن أن تؤثر الظروف البيئية على قياس المادة في الفيزياء؟'</span>,\n",
       "    <span style=\"color: #008000; text-decoration-color: #008000\">'ما هي العوامل التي تؤثر على توازن المكونات في الخلايا الحية؟\\nكيف يتفاعل الجينوم مع البيئة الخارجية لتحقيق </span>\n",
       "<span style=\"color: #008000; text-decoration-color: #008000\">التوازن البيولوجي؟'</span>,\n",
       "    <span style=\"color: #008000; text-decoration-color: #008000\">'ما هي أهمية تعزيز الوعي بالصحة النفسية في المجتمع؟ \\nكيف يمكن أن تؤثر التكنولوجيا على صحة النفس البشرية؟'</span>,\n",
       "    <span style=\"color: #008000; text-decoration-color: #008000\">'ما هي دورة حياة المنتجات التكنولوجية وتأثيرها على الصناعة؟\\n\\nكيف يمكن للتقنيات الجديدة مثل الذكاء الاصطناعي </span>\n",
       "<span style=\"color: #008000; text-decoration-color: #008000\">والروبوتيات أن تؤثر على سوق العمل في المستقبل؟'</span>,\n",
       "    <span style=\"color: #008000; text-decoration-color: #008000\">'ما هي أهمية الحفاظ على التنوع البيئي في مواجهة تغير المناخ؟\\n\\nكيف يمكن للسياسات الاقتصادية أن تؤثر على جودة </span>\n",
       "<span style=\"color: #008000; text-decoration-color: #008000\">الهواء والتربة في المجتمعات المحلية؟'</span>,\n",
       "    <span style=\"color: #008000; text-decoration-color: #008000\">'ما هي أهمية دراسة تأثيرات التغير المناخي على البيئة في الدول النامية؟\\n\\nهل يمكن أن يؤدي زيادة مستويات الطاقة </span>\n",
       "<span style=\"color: #008000; text-decoration-color: #008000\">الشمسية إلى تقليل الاعتماد على الوقود الأحفوري؟'</span>,\n",
       "    <span style=\"color: #008000; text-decoration-color: #008000\">'ما هي أهمية التعلم الرياضي في الحياة اليومية؟\\nكيف يمكن أن تُستخدم الرياضيات في حل المشكلات البيئية؟'</span>,\n",
       "    <span style=\"color: #008000; text-decoration-color: #008000\">'ما هي التغيرات التي طرأت على سطح الأرض منذ العصر الحجري؟\\n\\nكيف تؤثر العمليات الجيولوجية على البيئة المحيطة </span>\n",
       "<span style=\"color: #008000; text-decoration-color: #008000\">بالمناطق الساحلية؟'</span>,\n",
       "    <span style=\"color: #008000; text-decoration-color: #008000\">'ما هي أهمية التوعية بالصحة النفسية في المجتمع؟\\nكيف يمكن أن تؤثر العوامل البيئية على الصحة النفسية للفرد؟'</span>,\n",
       "    <span style=\"color: #008000; text-decoration-color: #008000\">'ما هي أهمية دراسة الأحياء في المجتمع؟\\nكيف يمكن أن تؤثر التغيرات البيئية على تنوع الحياة على الأرض؟'</span>,\n",
       "    <span style=\"color: #008000; text-decoration-color: #008000\">'ما هي أهمية التكنولوجيا في مجال الطب الحديث؟\\nكيف يمكن للطب البديل أن يتعامل مع الأمراض التي لا يمكن علاجها </span>\n",
       "<span style=\"color: #008000; text-decoration-color: #008000\">بالعلاجات التقليدية؟'</span>\n",
       "<span style=\"font-weight: bold\">]</span>\n",
       "</pre>\n"
      ],
      "text/plain": [
       "\u001b[1m[\u001b[0m\n",
       "    \u001b[32m'ما هي أهمية علم الفلك في فهم تشكل الكون وتطوره؟\\nكيف يمكن استخدام تقنيات الفضاء الحديثة لتحسين معرفتنا بظواهر \u001b[0m\n",
       "\u001b[32mالفلك والنجوم؟'\u001b[0m,\n",
       "    \u001b[32m'ما هي خصائص الجزيئات في الكيمياء؟\\n\\nكم عدد أنواع الجزيئات الموجودة في الطبيعة؟'\u001b[0m,\n",
       "    \u001b[32m'ما هي أهمية تطبيق مبادئ التنمية المستدامة في المجتمعات الحضرية؟ \\nكيف يمكن أن يؤثر نمو السكان على الموارد \u001b[0m\n",
       "\u001b[32mالطبيعية والبيئة في المناطق الحضرية؟'\u001b[0m,\n",
       "    \u001b[32m'ما هي العلاقة بين القوة والجاذبية فيزيائياً؟\\n\\nهل يمكن أن تؤثر الظروف البيئية على قياس المادة في الفيزياء؟'\u001b[0m,\n",
       "    \u001b[32m'ما هي العوامل التي تؤثر على توازن المكونات في الخلايا الحية؟\\nكيف يتفاعل الجينوم مع البيئة الخارجية لتحقيق \u001b[0m\n",
       "\u001b[32mالتوازن البيولوجي؟'\u001b[0m,\n",
       "    \u001b[32m'ما هي أهمية تعزيز الوعي بالصحة النفسية في المجتمع؟ \\nكيف يمكن أن تؤثر التكنولوجيا على صحة النفس البشرية؟'\u001b[0m,\n",
       "    \u001b[32m'ما هي دورة حياة المنتجات التكنولوجية وتأثيرها على الصناعة؟\\n\\nكيف يمكن للتقنيات الجديدة مثل الذكاء الاصطناعي \u001b[0m\n",
       "\u001b[32mوالروبوتيات أن تؤثر على سوق العمل في المستقبل؟'\u001b[0m,\n",
       "    \u001b[32m'ما هي أهمية الحفاظ على التنوع البيئي في مواجهة تغير المناخ؟\\n\\nكيف يمكن للسياسات الاقتصادية أن تؤثر على جودة \u001b[0m\n",
       "\u001b[32mالهواء والتربة في المجتمعات المحلية؟'\u001b[0m,\n",
       "    \u001b[32m'ما هي أهمية دراسة تأثيرات التغير المناخي على البيئة في الدول النامية؟\\n\\nهل يمكن أن يؤدي زيادة مستويات الطاقة \u001b[0m\n",
       "\u001b[32mالشمسية إلى تقليل الاعتماد على الوقود الأحفوري؟'\u001b[0m,\n",
       "    \u001b[32m'ما هي أهمية التعلم الرياضي في الحياة اليومية؟\\nكيف يمكن أن تُستخدم الرياضيات في حل المشكلات البيئية؟'\u001b[0m,\n",
       "    \u001b[32m'ما هي التغيرات التي طرأت على سطح الأرض منذ العصر الحجري؟\\n\\nكيف تؤثر العمليات الجيولوجية على البيئة المحيطة \u001b[0m\n",
       "\u001b[32mبالمناطق الساحلية؟'\u001b[0m,\n",
       "    \u001b[32m'ما هي أهمية التوعية بالصحة النفسية في المجتمع؟\\nكيف يمكن أن تؤثر العوامل البيئية على الصحة النفسية للفرد؟'\u001b[0m,\n",
       "    \u001b[32m'ما هي أهمية دراسة الأحياء في المجتمع؟\\nكيف يمكن أن تؤثر التغيرات البيئية على تنوع الحياة على الأرض؟'\u001b[0m,\n",
       "    \u001b[32m'ما هي أهمية التكنولوجيا في مجال الطب الحديث؟\\nكيف يمكن للطب البديل أن يتعامل مع الأمراض التي لا يمكن علاجها \u001b[0m\n",
       "\u001b[32mبالعلاجات التقليدية؟'\u001b[0m\n",
       "\u001b[1m]\u001b[0m\n"
      ]
     },
     "metadata": {},
     "output_type": "display_data"
    }
   ],
   "source": [
    "\n",
    "# 2. Questions Generation\n",
    "\n",
    "QUESTION_PROMPT_TEMPLATE = \"\"\"\n",
    "Given a topic, generate {n_questions} in-depth and questions in Arabic that could be asked about that topic.\n",
    "\n",
    "The topic is: {sub_topic}\n",
    "\n",
    "Only provide the list of questions, formatted with each question on a new line. Exclude numbering, bullet points, and any additional text.\n",
    "\"\"\"\n",
    "subtopic_list = responses.choices[0].message.content.split(\"\\n\")\n",
    "def generate_questions(client, sub_topic, n_questions):\n",
    "    prompt = QUESTION_PROMPT_TEMPLATE.format(sub_topic=sub_topic, n_questions=n_questions)\n",
    "    response = client.chat.completions.create(\n",
    "        model=modelName,\n",
    "        messages=[\n",
    "            {\"role\": \"user\",\n",
    "             \"content\": prompt}\n",
    "        ],\n",
    "        temperature=0.2,\n",
    "        top_p=0.7,\n",
    "        max_tokens=8048,\n",
    "    )\n",
    "    print(response.choices[0].message.content)\n",
    "    return response.choices[0].message.content\n",
    "\n",
    "def question_generator(client, subtopic_list, n_question):\n",
    "    tasks = []\n",
    "    for subtopic in subtopic_list:\n",
    "        tasks.append(generate_questions(client, subtopic, n_question))\n",
    "\n",
    "    print(tasks)\n",
    "    question_list = tasks\n",
    "    return question_list\n",
    "\n",
    "question_list = question_generator(client, subtopic_list, n_questions)\n",
    "\n",
    "question_list_formatted = []\n",
    "for question_set in question_list:\n",
    "    question_list_formatted.extend([question.strip() for question in question_set.split(\"\\n\") if question])"
   ]
  },
  {
   "cell_type": "code",
   "execution_count": 19,
   "id": "4b8bfa65-f542-4fa8-83bb-5b27798fa4c3",
   "metadata": {
    "scrolled": true,
    "tags": []
   },
   "outputs": [
    {
     "data": {
      "text/html": [
       "<pre style=\"white-space:pre;overflow-x:auto;line-height:normal;font-family:Menlo,'DejaVu Sans Mono',consolas,'Courier New',monospace\">Prompt:  \n",
       "Given a question, generate a formal positive and loosely related, irrelevant negative response in Arabic.\n",
       "\n",
       "The questions is: ما هي أهمية علم الفلك في فهم تشكل الكون وتطوره؟\n",
       "\n",
       "RESPONSE A should be a formal, positive response that directly answers the question.\n",
       "RESPONSE B should be a formal, negative response that is loosely related to the question but does not answer it.\n",
       "Your response should follow this format without any numbers, bullet points, additional text, or the question \n",
       "itself:\n",
       "\n",
       "RESPONSE A: <span style=\"font-weight: bold\">[</span>Positive response text here<span style=\"font-weight: bold\">]</span>\n",
       "RESPONSE B: <span style=\"font-weight: bold\">[</span>Negative response text here<span style=\"font-weight: bold\">]</span>\n",
       "\n",
       "</pre>\n"
      ],
      "text/plain": [
       "Prompt:  \n",
       "Given a question, generate a formal positive and loosely related, irrelevant negative response in Arabic.\n",
       "\n",
       "The questions is: ما هي أهمية علم الفلك في فهم تشكل الكون وتطوره؟\n",
       "\n",
       "RESPONSE A should be a formal, positive response that directly answers the question.\n",
       "RESPONSE B should be a formal, negative response that is loosely related to the question but does not answer it.\n",
       "Your response should follow this format without any numbers, bullet points, additional text, or the question \n",
       "itself:\n",
       "\n",
       "RESPONSE A: \u001b[1m[\u001b[0mPositive response text here\u001b[1m]\u001b[0m\n",
       "RESPONSE B: \u001b[1m[\u001b[0mNegative response text here\u001b[1m]\u001b[0m\n",
       "\n"
      ]
     },
     "metadata": {},
     "output_type": "display_data"
    },
    {
     "data": {
      "text/html": [
       "<pre style=\"white-space:pre;overflow-x:auto;line-height:normal;font-family:Menlo,'DejaVu Sans Mono',consolas,'Courier New',monospace\">RESPONSE A: يعد علم الفلك من العلوم الأساسية التي تساعدنا في فهم تشكل الكون وتطوره، حيث يعمل على دراسة حركة النجوم \n",
       "والكواكب والمذنبات وجميع الأجرام السماوية الأخرى، مما يساعدنا في فهم كيفية تكون النظام الشمسي وكيف ساءل عن طريق \n",
       "الزمن.\n",
       "\n",
       "RESPONSE B: تتمتع بعض الثقافات القديمة بالاهتمام الكبير بدراسة حركة النجوم والكواكب، حيث كانوا يعتبرونها علامة على \n",
       "التغيرات التي تحدث في العالم المادي، مثل تغير مواسم الزراعة أو حدوث الزلازل.\n",
       "</pre>\n"
      ],
      "text/plain": [
       "RESPONSE A: يعد علم الفلك من العلوم الأساسية التي تساعدنا في فهم تشكل الكون وتطوره، حيث يعمل على دراسة حركة النجوم \n",
       "والكواكب والمذنبات وجميع الأجرام السماوية الأخرى، مما يساعدنا في فهم كيفية تكون النظام الشمسي وكيف ساءل عن طريق \n",
       "الزمن.\n",
       "\n",
       "RESPONSE B: تتمتع بعض الثقافات القديمة بالاهتمام الكبير بدراسة حركة النجوم والكواكب، حيث كانوا يعتبرونها علامة على \n",
       "التغيرات التي تحدث في العالم المادي، مثل تغير مواسم الزراعة أو حدوث الزلازل.\n"
      ]
     },
     "metadata": {},
     "output_type": "display_data"
    },
    {
     "data": {
      "text/html": [
       "<pre style=\"white-space:pre;overflow-x:auto;line-height:normal;font-family:Menlo,'DejaVu Sans Mono',consolas,'Courier New',monospace\">Prompt:  \n",
       "Given a question, generate a formal positive and loosely related, irrelevant negative response in Arabic.\n",
       "\n",
       "The questions is: كيف يمكن استخدام تقنيات الفضاء الحديثة لتحسين معرفتنا بظواهر الفلك والنجوم؟\n",
       "\n",
       "RESPONSE A should be a formal, positive response that directly answers the question.\n",
       "RESPONSE B should be a formal, negative response that is loosely related to the question but does not answer it.\n",
       "Your response should follow this format without any numbers, bullet points, additional text, or the question \n",
       "itself:\n",
       "\n",
       "RESPONSE A: <span style=\"font-weight: bold\">[</span>Positive response text here<span style=\"font-weight: bold\">]</span>\n",
       "RESPONSE B: <span style=\"font-weight: bold\">[</span>Negative response text here<span style=\"font-weight: bold\">]</span>\n",
       "\n",
       "</pre>\n"
      ],
      "text/plain": [
       "Prompt:  \n",
       "Given a question, generate a formal positive and loosely related, irrelevant negative response in Arabic.\n",
       "\n",
       "The questions is: كيف يمكن استخدام تقنيات الفضاء الحديثة لتحسين معرفتنا بظواهر الفلك والنجوم؟\n",
       "\n",
       "RESPONSE A should be a formal, positive response that directly answers the question.\n",
       "RESPONSE B should be a formal, negative response that is loosely related to the question but does not answer it.\n",
       "Your response should follow this format without any numbers, bullet points, additional text, or the question \n",
       "itself:\n",
       "\n",
       "RESPONSE A: \u001b[1m[\u001b[0mPositive response text here\u001b[1m]\u001b[0m\n",
       "RESPONSE B: \u001b[1m[\u001b[0mNegative response text here\u001b[1m]\u001b[0m\n",
       "\n"
      ]
     },
     "metadata": {},
     "output_type": "display_data"
    },
    {
     "data": {
      "text/html": [
       "<pre style=\"white-space:pre;overflow-x:auto;line-height:normal;font-family:Menlo,'DejaVu Sans Mono',consolas,'Courier New',monospace\">RESPONSE A: يمكننا استخدام تقنيات الفضاء الحديثة مثل الأقمار الصناعية والمراصد الفلكية لتحسين معرفتنا بظواهر الفلك \n",
       "والنجوم، حيث يمكنها توفير صور عالية الدقة وتحليل البيانات الفلكية بشكل دقيق.\n",
       "\n",
       "RESPONSE B: من الضروري أن ننظم مجتمعاتنا بشكل أفضل لضمان حصول جميع الأفراد على فرص متساوية في الحصول على التعليم \n",
       "والتدريب، مما يؤدي إلى تحسين مستوى المعرفة والوعي بين الناس.\n",
       "</pre>\n"
      ],
      "text/plain": [
       "RESPONSE A: يمكننا استخدام تقنيات الفضاء الحديثة مثل الأقمار الصناعية والمراصد الفلكية لتحسين معرفتنا بظواهر الفلك \n",
       "والنجوم، حيث يمكنها توفير صور عالية الدقة وتحليل البيانات الفلكية بشكل دقيق.\n",
       "\n",
       "RESPONSE B: من الضروري أن ننظم مجتمعاتنا بشكل أفضل لضمان حصول جميع الأفراد على فرص متساوية في الحصول على التعليم \n",
       "والتدريب، مما يؤدي إلى تحسين مستوى المعرفة والوعي بين الناس.\n"
      ]
     },
     "metadata": {},
     "output_type": "display_data"
    },
    {
     "data": {
      "text/html": [
       "<pre style=\"white-space:pre;overflow-x:auto;line-height:normal;font-family:Menlo,'DejaVu Sans Mono',consolas,'Courier New',monospace\">Prompt:  \n",
       "Given a question, generate a formal positive and loosely related, irrelevant negative response in Arabic.\n",
       "\n",
       "The questions is: ما هي خصائص الجزيئات في الكيمياء؟\n",
       "\n",
       "RESPONSE A should be a formal, positive response that directly answers the question.\n",
       "RESPONSE B should be a formal, negative response that is loosely related to the question but does not answer it.\n",
       "Your response should follow this format without any numbers, bullet points, additional text, or the question \n",
       "itself:\n",
       "\n",
       "RESPONSE A: <span style=\"font-weight: bold\">[</span>Positive response text here<span style=\"font-weight: bold\">]</span>\n",
       "RESPONSE B: <span style=\"font-weight: bold\">[</span>Negative response text here<span style=\"font-weight: bold\">]</span>\n",
       "\n",
       "</pre>\n"
      ],
      "text/plain": [
       "Prompt:  \n",
       "Given a question, generate a formal positive and loosely related, irrelevant negative response in Arabic.\n",
       "\n",
       "The questions is: ما هي خصائص الجزيئات في الكيمياء؟\n",
       "\n",
       "RESPONSE A should be a formal, positive response that directly answers the question.\n",
       "RESPONSE B should be a formal, negative response that is loosely related to the question but does not answer it.\n",
       "Your response should follow this format without any numbers, bullet points, additional text, or the question \n",
       "itself:\n",
       "\n",
       "RESPONSE A: \u001b[1m[\u001b[0mPositive response text here\u001b[1m]\u001b[0m\n",
       "RESPONSE B: \u001b[1m[\u001b[0mNegative response text here\u001b[1m]\u001b[0m\n",
       "\n"
      ]
     },
     "metadata": {},
     "output_type": "display_data"
    },
    {
     "data": {
      "text/html": [
       "<pre style=\"white-space:pre;overflow-x:auto;line-height:normal;font-family:Menlo,'DejaVu Sans Mono',consolas,'Courier New',monospace\">RESPONSE A: تعتبر الجزيئات في الكيمياء هي الوحدات الأساسية التي تتألف منها المواد، وتتميز بخصائصها الفريدة مثل \n",
       "الشكل والوزن والمادة المكونة لها، وتتحد معًا لتشكيل جزيئات أكبر وتشكيل مادة جديدة.\n",
       "\n",
       "RESPONSE B: يعتبر التطوير الاقتصادي في المجتمع له أهمية كبيرة في تحسين مستوى المعيشة للفرد، حيث يمكن أن يساهم في \n",
       "توفير فرص عمل أفضل وزيادة الدخل، مما يؤدي إلى تحسين جودة الحياة.\n",
       "</pre>\n"
      ],
      "text/plain": [
       "RESPONSE A: تعتبر الجزيئات في الكيمياء هي الوحدات الأساسية التي تتألف منها المواد، وتتميز بخصائصها الفريدة مثل \n",
       "الشكل والوزن والمادة المكونة لها، وتتحد معًا لتشكيل جزيئات أكبر وتشكيل مادة جديدة.\n",
       "\n",
       "RESPONSE B: يعتبر التطوير الاقتصادي في المجتمع له أهمية كبيرة في تحسين مستوى المعيشة للفرد، حيث يمكن أن يساهم في \n",
       "توفير فرص عمل أفضل وزيادة الدخل، مما يؤدي إلى تحسين جودة الحياة.\n"
      ]
     },
     "metadata": {},
     "output_type": "display_data"
    },
    {
     "data": {
      "text/html": [
       "<pre style=\"white-space:pre;overflow-x:auto;line-height:normal;font-family:Menlo,'DejaVu Sans Mono',consolas,'Courier New',monospace\">Prompt:  \n",
       "Given a question, generate a formal positive and loosely related, irrelevant negative response in Arabic.\n",
       "\n",
       "The questions is: كم عدد أنواع الجزيئات الموجودة في الطبيعة؟\n",
       "\n",
       "RESPONSE A should be a formal, positive response that directly answers the question.\n",
       "RESPONSE B should be a formal, negative response that is loosely related to the question but does not answer it.\n",
       "Your response should follow this format without any numbers, bullet points, additional text, or the question \n",
       "itself:\n",
       "\n",
       "RESPONSE A: <span style=\"font-weight: bold\">[</span>Positive response text here<span style=\"font-weight: bold\">]</span>\n",
       "RESPONSE B: <span style=\"font-weight: bold\">[</span>Negative response text here<span style=\"font-weight: bold\">]</span>\n",
       "\n",
       "</pre>\n"
      ],
      "text/plain": [
       "Prompt:  \n",
       "Given a question, generate a formal positive and loosely related, irrelevant negative response in Arabic.\n",
       "\n",
       "The questions is: كم عدد أنواع الجزيئات الموجودة في الطبيعة؟\n",
       "\n",
       "RESPONSE A should be a formal, positive response that directly answers the question.\n",
       "RESPONSE B should be a formal, negative response that is loosely related to the question but does not answer it.\n",
       "Your response should follow this format without any numbers, bullet points, additional text, or the question \n",
       "itself:\n",
       "\n",
       "RESPONSE A: \u001b[1m[\u001b[0mPositive response text here\u001b[1m]\u001b[0m\n",
       "RESPONSE B: \u001b[1m[\u001b[0mNegative response text here\u001b[1m]\u001b[0m\n",
       "\n"
      ]
     },
     "metadata": {},
     "output_type": "display_data"
    },
    {
     "data": {
      "text/html": [
       "<pre style=\"white-space:pre;overflow-x:auto;line-height:normal;font-family:Menlo,'DejaVu Sans Mono',consolas,'Courier New',monospace\">RESPONSE A: توجد العديد من أنواع الجزيئات الموجودة في الطبيعة، مثل جزيئات الهيدروجين والكربون والأكسجين التي تشكل \n",
       "جزءًا أساسيًا من الكيمياء الحيوية.\n",
       "\n",
       "RESPONSE B: لا يمكن للعلم الحديث أن يؤدي إلى تقدم كبير في مجال الفضاء دون وجود مساهمات كبيرة من قبل العلماء \n",
       "الأوروبيين.\n",
       "</pre>\n"
      ],
      "text/plain": [
       "RESPONSE A: توجد العديد من أنواع الجزيئات الموجودة في الطبيعة، مثل جزيئات الهيدروجين والكربون والأكسجين التي تشكل \n",
       "جزءًا أساسيًا من الكيمياء الحيوية.\n",
       "\n",
       "RESPONSE B: لا يمكن للعلم الحديث أن يؤدي إلى تقدم كبير في مجال الفضاء دون وجود مساهمات كبيرة من قبل العلماء \n",
       "الأوروبيين.\n"
      ]
     },
     "metadata": {},
     "output_type": "display_data"
    },
    {
     "data": {
      "text/html": [
       "<pre style=\"white-space:pre;overflow-x:auto;line-height:normal;font-family:Menlo,'DejaVu Sans Mono',consolas,'Courier New',monospace\">Prompt:  \n",
       "Given a question, generate a formal positive and loosely related, irrelevant negative response in Arabic.\n",
       "\n",
       "The questions is: ما هي أهمية تطبيق مبادئ التنمية المستدامة في المجتمعات الحضرية؟\n",
       "\n",
       "RESPONSE A should be a formal, positive response that directly answers the question.\n",
       "RESPONSE B should be a formal, negative response that is loosely related to the question but does not answer it.\n",
       "Your response should follow this format without any numbers, bullet points, additional text, or the question \n",
       "itself:\n",
       "\n",
       "RESPONSE A: <span style=\"font-weight: bold\">[</span>Positive response text here<span style=\"font-weight: bold\">]</span>\n",
       "RESPONSE B: <span style=\"font-weight: bold\">[</span>Negative response text here<span style=\"font-weight: bold\">]</span>\n",
       "\n",
       "</pre>\n"
      ],
      "text/plain": [
       "Prompt:  \n",
       "Given a question, generate a formal positive and loosely related, irrelevant negative response in Arabic.\n",
       "\n",
       "The questions is: ما هي أهمية تطبيق مبادئ التنمية المستدامة في المجتمعات الحضرية؟\n",
       "\n",
       "RESPONSE A should be a formal, positive response that directly answers the question.\n",
       "RESPONSE B should be a formal, negative response that is loosely related to the question but does not answer it.\n",
       "Your response should follow this format without any numbers, bullet points, additional text, or the question \n",
       "itself:\n",
       "\n",
       "RESPONSE A: \u001b[1m[\u001b[0mPositive response text here\u001b[1m]\u001b[0m\n",
       "RESPONSE B: \u001b[1m[\u001b[0mNegative response text here\u001b[1m]\u001b[0m\n",
       "\n"
      ]
     },
     "metadata": {},
     "output_type": "display_data"
    },
    {
     "data": {
      "text/html": [
       "<pre style=\"white-space:pre;overflow-x:auto;line-height:normal;font-family:Menlo,'DejaVu Sans Mono',consolas,'Courier New',monospace\">RESPONSE A: يعد تطبيق مبادئ التنمية المستدامة في المجتمعات الحضرية أمرًا ضروريًا لضمان الاستدامة البيئية والاقتصادية\n",
       "الاجتماعية، وتحقيق التنمية المستدامة في هذه المجتمعات.\n",
       "\n",
       "RESPONSE B: من الضروري أن نركز على تطوير البنية التحتية للنقل في المدن الكبرى لتحسين حركة المرور والتنقل، حيث يعتبر\n",
       "ذلك أمرًا أساسيًا لتعزيز الاقتصاد المحلي.\n",
       "</pre>\n"
      ],
      "text/plain": [
       "RESPONSE A: يعد تطبيق مبادئ التنمية المستدامة في المجتمعات الحضرية أمرًا ضروريًا لضمان الاستدامة البيئية والاقتصادية\n",
       "الاجتماعية، وتحقيق التنمية المستدامة في هذه المجتمعات.\n",
       "\n",
       "RESPONSE B: من الضروري أن نركز على تطوير البنية التحتية للنقل في المدن الكبرى لتحسين حركة المرور والتنقل، حيث يعتبر\n",
       "ذلك أمرًا أساسيًا لتعزيز الاقتصاد المحلي.\n"
      ]
     },
     "metadata": {},
     "output_type": "display_data"
    },
    {
     "data": {
      "text/html": [
       "<pre style=\"white-space:pre;overflow-x:auto;line-height:normal;font-family:Menlo,'DejaVu Sans Mono',consolas,'Courier New',monospace\">Prompt:  \n",
       "Given a question, generate a formal positive and loosely related, irrelevant negative response in Arabic.\n",
       "\n",
       "The questions is: كيف يمكن أن يؤثر نمو السكان على الموارد الطبيعية والبيئة في المناطق الحضرية؟\n",
       "\n",
       "RESPONSE A should be a formal, positive response that directly answers the question.\n",
       "RESPONSE B should be a formal, negative response that is loosely related to the question but does not answer it.\n",
       "Your response should follow this format without any numbers, bullet points, additional text, or the question \n",
       "itself:\n",
       "\n",
       "RESPONSE A: <span style=\"font-weight: bold\">[</span>Positive response text here<span style=\"font-weight: bold\">]</span>\n",
       "RESPONSE B: <span style=\"font-weight: bold\">[</span>Negative response text here<span style=\"font-weight: bold\">]</span>\n",
       "\n",
       "</pre>\n"
      ],
      "text/plain": [
       "Prompt:  \n",
       "Given a question, generate a formal positive and loosely related, irrelevant negative response in Arabic.\n",
       "\n",
       "The questions is: كيف يمكن أن يؤثر نمو السكان على الموارد الطبيعية والبيئة في المناطق الحضرية؟\n",
       "\n",
       "RESPONSE A should be a formal, positive response that directly answers the question.\n",
       "RESPONSE B should be a formal, negative response that is loosely related to the question but does not answer it.\n",
       "Your response should follow this format without any numbers, bullet points, additional text, or the question \n",
       "itself:\n",
       "\n",
       "RESPONSE A: \u001b[1m[\u001b[0mPositive response text here\u001b[1m]\u001b[0m\n",
       "RESPONSE B: \u001b[1m[\u001b[0mNegative response text here\u001b[1m]\u001b[0m\n",
       "\n"
      ]
     },
     "metadata": {},
     "output_type": "display_data"
    },
    {
     "data": {
      "text/html": [
       "<pre style=\"white-space:pre;overflow-x:auto;line-height:normal;font-family:Menlo,'DejaVu Sans Mono',consolas,'Courier New',monospace\">RESPONSE A: يمكن أن يؤثر نمو السكان على الموارد الطبيعية والبيئة في المناطق الحضرية من خلال زيادة الطلب على الأراضي\n",
       "والمياه والطاقة، مما يؤدي إلى التدهور البيئي وزيادة الفقر والاضطرابات الاجتماعية. كما يمكن أن يؤدي هذا النمو إلى \n",
       "زيادة إنتاج المخلفات والتلوث الجوي والصوتي، مما يهدد الصحة العامة للمواطنين.\n",
       "\n",
       "RESPONSE B: من الضروري أن نركز على تطوير البنية التحتية الحيوية في المناطق الحضرية، مثل شبكات النقل والمياه \n",
       "والكهرباء، لضمان تلبية احتياجات السكان المتزايدة. كما يجب أن نضع نصب أعيننا تحسين جودة الحياة للمواطنين من خلال \n",
       "تنفيذ مشاريع التنمية المستدامة التي تعمل على الحفاظ على الموارد الطبيعية والبيئة.\n",
       "</pre>\n"
      ],
      "text/plain": [
       "RESPONSE A: يمكن أن يؤثر نمو السكان على الموارد الطبيعية والبيئة في المناطق الحضرية من خلال زيادة الطلب على الأراضي\n",
       "والمياه والطاقة، مما يؤدي إلى التدهور البيئي وزيادة الفقر والاضطرابات الاجتماعية. كما يمكن أن يؤدي هذا النمو إلى \n",
       "زيادة إنتاج المخلفات والتلوث الجوي والصوتي، مما يهدد الصحة العامة للمواطنين.\n",
       "\n",
       "RESPONSE B: من الضروري أن نركز على تطوير البنية التحتية الحيوية في المناطق الحضرية، مثل شبكات النقل والمياه \n",
       "والكهرباء، لضمان تلبية احتياجات السكان المتزايدة. كما يجب أن نضع نصب أعيننا تحسين جودة الحياة للمواطنين من خلال \n",
       "تنفيذ مشاريع التنمية المستدامة التي تعمل على الحفاظ على الموارد الطبيعية والبيئة.\n"
      ]
     },
     "metadata": {},
     "output_type": "display_data"
    },
    {
     "data": {
      "text/html": [
       "<pre style=\"white-space:pre;overflow-x:auto;line-height:normal;font-family:Menlo,'DejaVu Sans Mono',consolas,'Courier New',monospace\">Prompt:  \n",
       "Given a question, generate a formal positive and loosely related, irrelevant negative response in Arabic.\n",
       "\n",
       "The questions is: ما هي العلاقة بين القوة والجاذبية فيزيائياً؟\n",
       "\n",
       "RESPONSE A should be a formal, positive response that directly answers the question.\n",
       "RESPONSE B should be a formal, negative response that is loosely related to the question but does not answer it.\n",
       "Your response should follow this format without any numbers, bullet points, additional text, or the question \n",
       "itself:\n",
       "\n",
       "RESPONSE A: <span style=\"font-weight: bold\">[</span>Positive response text here<span style=\"font-weight: bold\">]</span>\n",
       "RESPONSE B: <span style=\"font-weight: bold\">[</span>Negative response text here<span style=\"font-weight: bold\">]</span>\n",
       "\n",
       "</pre>\n"
      ],
      "text/plain": [
       "Prompt:  \n",
       "Given a question, generate a formal positive and loosely related, irrelevant negative response in Arabic.\n",
       "\n",
       "The questions is: ما هي العلاقة بين القوة والجاذبية فيزيائياً؟\n",
       "\n",
       "RESPONSE A should be a formal, positive response that directly answers the question.\n",
       "RESPONSE B should be a formal, negative response that is loosely related to the question but does not answer it.\n",
       "Your response should follow this format without any numbers, bullet points, additional text, or the question \n",
       "itself:\n",
       "\n",
       "RESPONSE A: \u001b[1m[\u001b[0mPositive response text here\u001b[1m]\u001b[0m\n",
       "RESPONSE B: \u001b[1m[\u001b[0mNegative response text here\u001b[1m]\u001b[0m\n",
       "\n"
      ]
     },
     "metadata": {},
     "output_type": "display_data"
    },
    {
     "data": {
      "text/html": [
       "<pre style=\"white-space:pre;overflow-x:auto;line-height:normal;font-family:Menlo,'DejaVu Sans Mono',consolas,'Courier New',monospace\">RESPONSE A: تعتبر القوة والجاذبية من المفاهيم الأساسية في الفيزياء، حيث أن الجاذبية هي قوة طبيعية تؤثر على جميع \n",
       "الأجسام المادة في الكون، وتعتمد قوة الجاذبية بين أجسامتين على كتلة كل جسم وتبعد بينهما. هذا يعني أن أكبر القوى التي\n",
       "يمكن أن نلاحظها في الحياة اليومية هي قوة الجاذبية، والتي تسبب في انحناء الأجسام المادة نحو بعضها البعض.\n",
       "\n",
       "RESPONSE B: يعتبر الفيزياء علمًا رائعًا الذي يساعدنا على فهم العالم المحيط بنا، حيث يمكننا من خلاله أن نستكشف وتوضيح\n",
       "العديد من الظواهر الطبيعية. كما أنه يلعب دورًا هامًا في تطوير التكنولوجيا الحديثة، مما يجعل حياتنا أسهل وأكثر راحة.\n",
       "</pre>\n"
      ],
      "text/plain": [
       "RESPONSE A: تعتبر القوة والجاذبية من المفاهيم الأساسية في الفيزياء، حيث أن الجاذبية هي قوة طبيعية تؤثر على جميع \n",
       "الأجسام المادة في الكون، وتعتمد قوة الجاذبية بين أجسامتين على كتلة كل جسم وتبعد بينهما. هذا يعني أن أكبر القوى التي\n",
       "يمكن أن نلاحظها في الحياة اليومية هي قوة الجاذبية، والتي تسبب في انحناء الأجسام المادة نحو بعضها البعض.\n",
       "\n",
       "RESPONSE B: يعتبر الفيزياء علمًا رائعًا الذي يساعدنا على فهم العالم المحيط بنا، حيث يمكننا من خلاله أن نستكشف وتوضيح\n",
       "العديد من الظواهر الطبيعية. كما أنه يلعب دورًا هامًا في تطوير التكنولوجيا الحديثة، مما يجعل حياتنا أسهل وأكثر راحة.\n"
      ]
     },
     "metadata": {},
     "output_type": "display_data"
    },
    {
     "data": {
      "text/html": [
       "<pre style=\"white-space:pre;overflow-x:auto;line-height:normal;font-family:Menlo,'DejaVu Sans Mono',consolas,'Courier New',monospace\">Prompt:  \n",
       "Given a question, generate a formal positive and loosely related, irrelevant negative response in Arabic.\n",
       "\n",
       "The questions is: هل يمكن أن تؤثر الظروف البيئية على قياس المادة في الفيزياء؟\n",
       "\n",
       "RESPONSE A should be a formal, positive response that directly answers the question.\n",
       "RESPONSE B should be a formal, negative response that is loosely related to the question but does not answer it.\n",
       "Your response should follow this format without any numbers, bullet points, additional text, or the question \n",
       "itself:\n",
       "\n",
       "RESPONSE A: <span style=\"font-weight: bold\">[</span>Positive response text here<span style=\"font-weight: bold\">]</span>\n",
       "RESPONSE B: <span style=\"font-weight: bold\">[</span>Negative response text here<span style=\"font-weight: bold\">]</span>\n",
       "\n",
       "</pre>\n"
      ],
      "text/plain": [
       "Prompt:  \n",
       "Given a question, generate a formal positive and loosely related, irrelevant negative response in Arabic.\n",
       "\n",
       "The questions is: هل يمكن أن تؤثر الظروف البيئية على قياس المادة في الفيزياء؟\n",
       "\n",
       "RESPONSE A should be a formal, positive response that directly answers the question.\n",
       "RESPONSE B should be a formal, negative response that is loosely related to the question but does not answer it.\n",
       "Your response should follow this format without any numbers, bullet points, additional text, or the question \n",
       "itself:\n",
       "\n",
       "RESPONSE A: \u001b[1m[\u001b[0mPositive response text here\u001b[1m]\u001b[0m\n",
       "RESPONSE B: \u001b[1m[\u001b[0mNegative response text here\u001b[1m]\u001b[0m\n",
       "\n"
      ]
     },
     "metadata": {},
     "output_type": "display_data"
    },
    {
     "data": {
      "text/html": [
       "<pre style=\"white-space:pre;overflow-x:auto;line-height:normal;font-family:Menlo,'DejaVu Sans Mono',consolas,'Courier New',monospace\">RESPONSE A: نعم، يمكن أن تؤثر الظروف البيئية على قياس المادة في الفيزياء، حيث يعتمد النتائج على عوامل مثل درجة \n",
       "الحرارة والرطوبة والضوء، مما يتطلب استخدام تقنيات معينة لضمان دقة القياسات.\n",
       "\n",
       "RESPONSE B: إن التطورات الحديثة في مجال الطاقة الشمسية قد أدت إلى زيادة استخدام البطاريات في العديد من التطبيقات، \n",
       "مما يزيد من الحاجة إلى فهم خصائص المواد المستخدمة في تصنيعها.\n",
       "</pre>\n"
      ],
      "text/plain": [
       "RESPONSE A: نعم، يمكن أن تؤثر الظروف البيئية على قياس المادة في الفيزياء، حيث يعتمد النتائج على عوامل مثل درجة \n",
       "الحرارة والرطوبة والضوء، مما يتطلب استخدام تقنيات معينة لضمان دقة القياسات.\n",
       "\n",
       "RESPONSE B: إن التطورات الحديثة في مجال الطاقة الشمسية قد أدت إلى زيادة استخدام البطاريات في العديد من التطبيقات، \n",
       "مما يزيد من الحاجة إلى فهم خصائص المواد المستخدمة في تصنيعها.\n"
      ]
     },
     "metadata": {},
     "output_type": "display_data"
    },
    {
     "data": {
      "text/html": [
       "<pre style=\"white-space:pre;overflow-x:auto;line-height:normal;font-family:Menlo,'DejaVu Sans Mono',consolas,'Courier New',monospace\">Prompt:  \n",
       "Given a question, generate a formal positive and loosely related, irrelevant negative response in Arabic.\n",
       "\n",
       "The questions is: ما هي العوامل التي تؤثر على توازن المكونات في الخلايا الحية؟\n",
       "\n",
       "RESPONSE A should be a formal, positive response that directly answers the question.\n",
       "RESPONSE B should be a formal, negative response that is loosely related to the question but does not answer it.\n",
       "Your response should follow this format without any numbers, bullet points, additional text, or the question \n",
       "itself:\n",
       "\n",
       "RESPONSE A: <span style=\"font-weight: bold\">[</span>Positive response text here<span style=\"font-weight: bold\">]</span>\n",
       "RESPONSE B: <span style=\"font-weight: bold\">[</span>Negative response text here<span style=\"font-weight: bold\">]</span>\n",
       "\n",
       "</pre>\n"
      ],
      "text/plain": [
       "Prompt:  \n",
       "Given a question, generate a formal positive and loosely related, irrelevant negative response in Arabic.\n",
       "\n",
       "The questions is: ما هي العوامل التي تؤثر على توازن المكونات في الخلايا الحية؟\n",
       "\n",
       "RESPONSE A should be a formal, positive response that directly answers the question.\n",
       "RESPONSE B should be a formal, negative response that is loosely related to the question but does not answer it.\n",
       "Your response should follow this format without any numbers, bullet points, additional text, or the question \n",
       "itself:\n",
       "\n",
       "RESPONSE A: \u001b[1m[\u001b[0mPositive response text here\u001b[1m]\u001b[0m\n",
       "RESPONSE B: \u001b[1m[\u001b[0mNegative response text here\u001b[1m]\u001b[0m\n",
       "\n"
      ]
     },
     "metadata": {},
     "output_type": "display_data"
    },
    {
     "data": {
      "text/html": [
       "<pre style=\"white-space:pre;overflow-x:auto;line-height:normal;font-family:Menlo,'DejaVu Sans Mono',consolas,'Courier New',monospace\">RESPONSE A: تؤثر العوامل الجينية والبيئية على توازن المكونات في الخلايا الحية، حيث يلعب الوراثة دورًا رئيسيًا في \n",
       "تحديد التركيب الكيميائي للخلايا، بينما يؤثر البيئة على التفاعلات بين المكونات وتحسينها.\n",
       "\n",
       "RESPONSE B: تتمتع بعض أنواع البكتيريا بالقدرة على التحمل والاستجابة للظروف الصعبة، مما يعزز فهمنا لآليات الحفاظ على\n",
       "التوازن في البيئات المعقدة.\n",
       "</pre>\n"
      ],
      "text/plain": [
       "RESPONSE A: تؤثر العوامل الجينية والبيئية على توازن المكونات في الخلايا الحية، حيث يلعب الوراثة دورًا رئيسيًا في \n",
       "تحديد التركيب الكيميائي للخلايا، بينما يؤثر البيئة على التفاعلات بين المكونات وتحسينها.\n",
       "\n",
       "RESPONSE B: تتمتع بعض أنواع البكتيريا بالقدرة على التحمل والاستجابة للظروف الصعبة، مما يعزز فهمنا لآليات الحفاظ على\n",
       "التوازن في البيئات المعقدة.\n"
      ]
     },
     "metadata": {},
     "output_type": "display_data"
    },
    {
     "data": {
      "text/html": [
       "<pre style=\"white-space:pre;overflow-x:auto;line-height:normal;font-family:Menlo,'DejaVu Sans Mono',consolas,'Courier New',monospace\">Prompt:  \n",
       "Given a question, generate a formal positive and loosely related, irrelevant negative response in Arabic.\n",
       "\n",
       "The questions is: كيف يتفاعل الجينوم مع البيئة الخارجية لتحقيق التوازن البيولوجي؟\n",
       "\n",
       "RESPONSE A should be a formal, positive response that directly answers the question.\n",
       "RESPONSE B should be a formal, negative response that is loosely related to the question but does not answer it.\n",
       "Your response should follow this format without any numbers, bullet points, additional text, or the question \n",
       "itself:\n",
       "\n",
       "RESPONSE A: <span style=\"font-weight: bold\">[</span>Positive response text here<span style=\"font-weight: bold\">]</span>\n",
       "RESPONSE B: <span style=\"font-weight: bold\">[</span>Negative response text here<span style=\"font-weight: bold\">]</span>\n",
       "\n",
       "</pre>\n"
      ],
      "text/plain": [
       "Prompt:  \n",
       "Given a question, generate a formal positive and loosely related, irrelevant negative response in Arabic.\n",
       "\n",
       "The questions is: كيف يتفاعل الجينوم مع البيئة الخارجية لتحقيق التوازن البيولوجي؟\n",
       "\n",
       "RESPONSE A should be a formal, positive response that directly answers the question.\n",
       "RESPONSE B should be a formal, negative response that is loosely related to the question but does not answer it.\n",
       "Your response should follow this format without any numbers, bullet points, additional text, or the question \n",
       "itself:\n",
       "\n",
       "RESPONSE A: \u001b[1m[\u001b[0mPositive response text here\u001b[1m]\u001b[0m\n",
       "RESPONSE B: \u001b[1m[\u001b[0mNegative response text here\u001b[1m]\u001b[0m\n",
       "\n"
      ]
     },
     "metadata": {},
     "output_type": "display_data"
    },
    {
     "data": {
      "text/html": [
       "<pre style=\"white-space:pre;overflow-x:auto;line-height:normal;font-family:Menlo,'DejaVu Sans Mono',consolas,'Courier New',monospace\">RESPONSE A: يتفاعل الجينوم مع البيئة الخارجية من خلال التكيف والتعديل لتحقيق التوازن البيولوجي، حيث يتم تنفيذ هذه \n",
       "العملية عن طريق تحليل البيانات الوراثية وتحديد العوامل التي تؤثر على التوازن البيولوجي، مما يسمح بالاستجابة الفعالة\n",
       "للبيئة الخارجية.\n",
       "\n",
       "RESPONSE B: من المهم أن ندرك أهمية دور الجينوم في فهم الأمراض النادرة والمتوطنة، حيث يمكن أن تساعد دراسات الجينوم \n",
       "في تحديد الأسباب الجينية للأمراض وتنفيذ العلاجات المناسبة.\n",
       "</pre>\n"
      ],
      "text/plain": [
       "RESPONSE A: يتفاعل الجينوم مع البيئة الخارجية من خلال التكيف والتعديل لتحقيق التوازن البيولوجي، حيث يتم تنفيذ هذه \n",
       "العملية عن طريق تحليل البيانات الوراثية وتحديد العوامل التي تؤثر على التوازن البيولوجي، مما يسمح بالاستجابة الفعالة\n",
       "للبيئة الخارجية.\n",
       "\n",
       "RESPONSE B: من المهم أن ندرك أهمية دور الجينوم في فهم الأمراض النادرة والمتوطنة، حيث يمكن أن تساعد دراسات الجينوم \n",
       "في تحديد الأسباب الجينية للأمراض وتنفيذ العلاجات المناسبة.\n"
      ]
     },
     "metadata": {},
     "output_type": "display_data"
    },
    {
     "data": {
      "text/html": [
       "<pre style=\"white-space:pre;overflow-x:auto;line-height:normal;font-family:Menlo,'DejaVu Sans Mono',consolas,'Courier New',monospace\">Prompt:  \n",
       "Given a question, generate a formal positive and loosely related, irrelevant negative response in Arabic.\n",
       "\n",
       "The questions is: ما هي أهمية تعزيز الوعي بالصحة النفسية في المجتمع؟\n",
       "\n",
       "RESPONSE A should be a formal, positive response that directly answers the question.\n",
       "RESPONSE B should be a formal, negative response that is loosely related to the question but does not answer it.\n",
       "Your response should follow this format without any numbers, bullet points, additional text, or the question \n",
       "itself:\n",
       "\n",
       "RESPONSE A: <span style=\"font-weight: bold\">[</span>Positive response text here<span style=\"font-weight: bold\">]</span>\n",
       "RESPONSE B: <span style=\"font-weight: bold\">[</span>Negative response text here<span style=\"font-weight: bold\">]</span>\n",
       "\n",
       "</pre>\n"
      ],
      "text/plain": [
       "Prompt:  \n",
       "Given a question, generate a formal positive and loosely related, irrelevant negative response in Arabic.\n",
       "\n",
       "The questions is: ما هي أهمية تعزيز الوعي بالصحة النفسية في المجتمع؟\n",
       "\n",
       "RESPONSE A should be a formal, positive response that directly answers the question.\n",
       "RESPONSE B should be a formal, negative response that is loosely related to the question but does not answer it.\n",
       "Your response should follow this format without any numbers, bullet points, additional text, or the question \n",
       "itself:\n",
       "\n",
       "RESPONSE A: \u001b[1m[\u001b[0mPositive response text here\u001b[1m]\u001b[0m\n",
       "RESPONSE B: \u001b[1m[\u001b[0mNegative response text here\u001b[1m]\u001b[0m\n",
       "\n"
      ]
     },
     "metadata": {},
     "output_type": "display_data"
    },
    {
     "data": {
      "text/html": [
       "<pre style=\"white-space:pre;overflow-x:auto;line-height:normal;font-family:Menlo,'DejaVu Sans Mono',consolas,'Courier New',monospace\">RESPONSE A: تعزيز الوعي بالصحة النفسية في المجتمع يعد من الأهمية الأساسية لتحقيق التنمية المستدامة والازدهار \n",
       "الاجتماعي، حيث يساهم في تقليل الإصابات النفسية وتحسين جودة الحياة للفرد والمجتمع ككل.\n",
       "\n",
       "RESPONSE B: إن تحقيق الاستقرار الاقتصادي في المجتمع يعتبر من الأهداف الرئيسية التي يجب أن نعمل على تحقيقه، ويمكننا \n",
       "إنجاز ذلك عبر تنفيذ سياسات اقتصادية فعالة وتعزيز القطاع الخاص.\n",
       "</pre>\n"
      ],
      "text/plain": [
       "RESPONSE A: تعزيز الوعي بالصحة النفسية في المجتمع يعد من الأهمية الأساسية لتحقيق التنمية المستدامة والازدهار \n",
       "الاجتماعي، حيث يساهم في تقليل الإصابات النفسية وتحسين جودة الحياة للفرد والمجتمع ككل.\n",
       "\n",
       "RESPONSE B: إن تحقيق الاستقرار الاقتصادي في المجتمع يعتبر من الأهداف الرئيسية التي يجب أن نعمل على تحقيقه، ويمكننا \n",
       "إنجاز ذلك عبر تنفيذ سياسات اقتصادية فعالة وتعزيز القطاع الخاص.\n"
      ]
     },
     "metadata": {},
     "output_type": "display_data"
    },
    {
     "data": {
      "text/html": [
       "<pre style=\"white-space:pre;overflow-x:auto;line-height:normal;font-family:Menlo,'DejaVu Sans Mono',consolas,'Courier New',monospace\">Prompt:  \n",
       "Given a question, generate a formal positive and loosely related, irrelevant negative response in Arabic.\n",
       "\n",
       "The questions is: كيف يمكن أن تؤثر التكنولوجيا على صحة النفس البشرية؟\n",
       "\n",
       "RESPONSE A should be a formal, positive response that directly answers the question.\n",
       "RESPONSE B should be a formal, negative response that is loosely related to the question but does not answer it.\n",
       "Your response should follow this format without any numbers, bullet points, additional text, or the question \n",
       "itself:\n",
       "\n",
       "RESPONSE A: <span style=\"font-weight: bold\">[</span>Positive response text here<span style=\"font-weight: bold\">]</span>\n",
       "RESPONSE B: <span style=\"font-weight: bold\">[</span>Negative response text here<span style=\"font-weight: bold\">]</span>\n",
       "\n",
       "</pre>\n"
      ],
      "text/plain": [
       "Prompt:  \n",
       "Given a question, generate a formal positive and loosely related, irrelevant negative response in Arabic.\n",
       "\n",
       "The questions is: كيف يمكن أن تؤثر التكنولوجيا على صحة النفس البشرية؟\n",
       "\n",
       "RESPONSE A should be a formal, positive response that directly answers the question.\n",
       "RESPONSE B should be a formal, negative response that is loosely related to the question but does not answer it.\n",
       "Your response should follow this format without any numbers, bullet points, additional text, or the question \n",
       "itself:\n",
       "\n",
       "RESPONSE A: \u001b[1m[\u001b[0mPositive response text here\u001b[1m]\u001b[0m\n",
       "RESPONSE B: \u001b[1m[\u001b[0mNegative response text here\u001b[1m]\u001b[0m\n",
       "\n"
      ]
     },
     "metadata": {},
     "output_type": "display_data"
    },
    {
     "data": {
      "text/html": [
       "<pre style=\"white-space:pre;overflow-x:auto;line-height:normal;font-family:Menlo,'DejaVu Sans Mono',consolas,'Courier New',monospace\">RESPONSE A: يمكن أن تؤثر التكنولوجيا على صحة النفس البشرية من خلال تأثيرها على نمط الحياة والتواصل الاجتماعي، حيث \n",
       "يمكن أن تسهم في زيادة تواصل الأفراد وتحسين نوعية حياتهم، كما يمكن أن تساهم في تحسين الوصول إلى الرعاية الصحية \n",
       "وزيادة الوعي بالصحة النفسية.\n",
       "\n",
       "RESPONSE B: من المهم أن ننظر إلى تأثير التكنولوجيا على البيئة والتنمية المستدامة، حيث يمكن أن تؤدي التكنولوجيا إلى \n",
       "زيادة استهلاك الموارد الطبيعية وتأثيراتها السلبية على البيئة، مما يحتاج إلى إعادة التفكير في استخدامنا للتكنولوجيا.\n",
       "</pre>\n"
      ],
      "text/plain": [
       "RESPONSE A: يمكن أن تؤثر التكنولوجيا على صحة النفس البشرية من خلال تأثيرها على نمط الحياة والتواصل الاجتماعي، حيث \n",
       "يمكن أن تسهم في زيادة تواصل الأفراد وتحسين نوعية حياتهم، كما يمكن أن تساهم في تحسين الوصول إلى الرعاية الصحية \n",
       "وزيادة الوعي بالصحة النفسية.\n",
       "\n",
       "RESPONSE B: من المهم أن ننظر إلى تأثير التكنولوجيا على البيئة والتنمية المستدامة، حيث يمكن أن تؤدي التكنولوجيا إلى \n",
       "زيادة استهلاك الموارد الطبيعية وتأثيراتها السلبية على البيئة، مما يحتاج إلى إعادة التفكير في استخدامنا للتكنولوجيا.\n"
      ]
     },
     "metadata": {},
     "output_type": "display_data"
    },
    {
     "data": {
      "text/html": [
       "<pre style=\"white-space:pre;overflow-x:auto;line-height:normal;font-family:Menlo,'DejaVu Sans Mono',consolas,'Courier New',monospace\">Prompt:  \n",
       "Given a question, generate a formal positive and loosely related, irrelevant negative response in Arabic.\n",
       "\n",
       "The questions is: ما هي دورة حياة المنتجات التكنولوجية وتأثيرها على الصناعة؟\n",
       "\n",
       "RESPONSE A should be a formal, positive response that directly answers the question.\n",
       "RESPONSE B should be a formal, negative response that is loosely related to the question but does not answer it.\n",
       "Your response should follow this format without any numbers, bullet points, additional text, or the question \n",
       "itself:\n",
       "\n",
       "RESPONSE A: <span style=\"font-weight: bold\">[</span>Positive response text here<span style=\"font-weight: bold\">]</span>\n",
       "RESPONSE B: <span style=\"font-weight: bold\">[</span>Negative response text here<span style=\"font-weight: bold\">]</span>\n",
       "\n",
       "</pre>\n"
      ],
      "text/plain": [
       "Prompt:  \n",
       "Given a question, generate a formal positive and loosely related, irrelevant negative response in Arabic.\n",
       "\n",
       "The questions is: ما هي دورة حياة المنتجات التكنولوجية وتأثيرها على الصناعة؟\n",
       "\n",
       "RESPONSE A should be a formal, positive response that directly answers the question.\n",
       "RESPONSE B should be a formal, negative response that is loosely related to the question but does not answer it.\n",
       "Your response should follow this format without any numbers, bullet points, additional text, or the question \n",
       "itself:\n",
       "\n",
       "RESPONSE A: \u001b[1m[\u001b[0mPositive response text here\u001b[1m]\u001b[0m\n",
       "RESPONSE B: \u001b[1m[\u001b[0mNegative response text here\u001b[1m]\u001b[0m\n",
       "\n"
      ]
     },
     "metadata": {},
     "output_type": "display_data"
    },
    {
     "data": {
      "text/html": [
       "<pre style=\"white-space:pre;overflow-x:auto;line-height:normal;font-family:Menlo,'DejaVu Sans Mono',consolas,'Courier New',monospace\">RESPONSE A: تعتبر دورة حياة المنتجات التكنولوجية مرحلةً متكاملةً من مراحل تطوير وتصنيع وتسويق وترقية منتج تكنولوجي،\n",
       "حيث يبدأ المنتج بمرحلة البحث والتطوير ثم ينتقل إلى مرحلة التصنيع والانتاج، وبعد ذلك يتم تسويقه في السوق، ومن ثم يتم\n",
       "ترقيته لتحسين أدائه أو إضافة ميزات جديدة. وتأثيرها على الصناعة هو أن تؤدي إلى تحسين كفاءة الإنتاج وزيادة \n",
       "competitiveness للمنتج، كما يمكن أن تؤدي إلى خلق فرص عمل جديدة.\n",
       "\n",
       "RESPONSE B: يعتبر تطوير البنية التحتية في البلدان النامية أمرًا ضروريًا لتحقيق التنمية الاقتصادية والاجتماعية، حيث \n",
       "يمكن أن يسهم في تحسين الوصول إلى الخدمات الأساسية مثل الكهرباء والمياه والصحة، كما يمكن أن يساهم في تعزيز الاستقرار\n",
       "السياسي والاقتصادي.\n",
       "</pre>\n"
      ],
      "text/plain": [
       "RESPONSE A: تعتبر دورة حياة المنتجات التكنولوجية مرحلةً متكاملةً من مراحل تطوير وتصنيع وتسويق وترقية منتج تكنولوجي،\n",
       "حيث يبدأ المنتج بمرحلة البحث والتطوير ثم ينتقل إلى مرحلة التصنيع والانتاج، وبعد ذلك يتم تسويقه في السوق، ومن ثم يتم\n",
       "ترقيته لتحسين أدائه أو إضافة ميزات جديدة. وتأثيرها على الصناعة هو أن تؤدي إلى تحسين كفاءة الإنتاج وزيادة \n",
       "competitiveness للمنتج، كما يمكن أن تؤدي إلى خلق فرص عمل جديدة.\n",
       "\n",
       "RESPONSE B: يعتبر تطوير البنية التحتية في البلدان النامية أمرًا ضروريًا لتحقيق التنمية الاقتصادية والاجتماعية، حيث \n",
       "يمكن أن يسهم في تحسين الوصول إلى الخدمات الأساسية مثل الكهرباء والمياه والصحة، كما يمكن أن يساهم في تعزيز الاستقرار\n",
       "السياسي والاقتصادي.\n"
      ]
     },
     "metadata": {},
     "output_type": "display_data"
    },
    {
     "data": {
      "text/html": [
       "<pre style=\"white-space:pre;overflow-x:auto;line-height:normal;font-family:Menlo,'DejaVu Sans Mono',consolas,'Courier New',monospace\">Prompt:  \n",
       "Given a question, generate a formal positive and loosely related, irrelevant negative response in Arabic.\n",
       "\n",
       "The questions is: كيف يمكن للتقنيات الجديدة مثل الذكاء الاصطناعي والروبوتيات أن تؤثر على سوق العمل في المستقبل؟\n",
       "\n",
       "RESPONSE A should be a formal, positive response that directly answers the question.\n",
       "RESPONSE B should be a formal, negative response that is loosely related to the question but does not answer it.\n",
       "Your response should follow this format without any numbers, bullet points, additional text, or the question \n",
       "itself:\n",
       "\n",
       "RESPONSE A: <span style=\"font-weight: bold\">[</span>Positive response text here<span style=\"font-weight: bold\">]</span>\n",
       "RESPONSE B: <span style=\"font-weight: bold\">[</span>Negative response text here<span style=\"font-weight: bold\">]</span>\n",
       "\n",
       "</pre>\n"
      ],
      "text/plain": [
       "Prompt:  \n",
       "Given a question, generate a formal positive and loosely related, irrelevant negative response in Arabic.\n",
       "\n",
       "The questions is: كيف يمكن للتقنيات الجديدة مثل الذكاء الاصطناعي والروبوتيات أن تؤثر على سوق العمل في المستقبل؟\n",
       "\n",
       "RESPONSE A should be a formal, positive response that directly answers the question.\n",
       "RESPONSE B should be a formal, negative response that is loosely related to the question but does not answer it.\n",
       "Your response should follow this format without any numbers, bullet points, additional text, or the question \n",
       "itself:\n",
       "\n",
       "RESPONSE A: \u001b[1m[\u001b[0mPositive response text here\u001b[1m]\u001b[0m\n",
       "RESPONSE B: \u001b[1m[\u001b[0mNegative response text here\u001b[1m]\u001b[0m\n",
       "\n"
      ]
     },
     "metadata": {},
     "output_type": "display_data"
    },
    {
     "data": {
      "text/html": [
       "<pre style=\"white-space:pre;overflow-x:auto;line-height:normal;font-family:Menlo,'DejaVu Sans Mono',consolas,'Courier New',monospace\">RESPONSE A: سيساهم الذكاء الاصطناعي والروبوتيات في تحسين كفاءة عمليات الشركات وزيادة الإنتاجية، مما يؤدي إلى خلق \n",
       "فرص عمل جديدة وتحديث مهارات العمال. كما سيتمكن العملاء من الوصول إلى خدمات أفضل وذات جودة عالية، مما سيسهم في نمو \n",
       "الاقتصاد والازدهار.\n",
       "\n",
       "RESPONSE B: تُعتبر التكنولوجيا أحد أهم المحركات لتحقيق التنمية المستدامة، حيث يمكنها تحسين استخدام الموارد الطبيعية\n",
       "وتقليل الأثر البيئي. كما أن هناك حاجة ملحة إلى تطوير البنية التحتية في البلدان النامية لتعزيز القدرة على المنافسة \n",
       "في السوق العالمية.\n",
       "</pre>\n"
      ],
      "text/plain": [
       "RESPONSE A: سيساهم الذكاء الاصطناعي والروبوتيات في تحسين كفاءة عمليات الشركات وزيادة الإنتاجية، مما يؤدي إلى خلق \n",
       "فرص عمل جديدة وتحديث مهارات العمال. كما سيتمكن العملاء من الوصول إلى خدمات أفضل وذات جودة عالية، مما سيسهم في نمو \n",
       "الاقتصاد والازدهار.\n",
       "\n",
       "RESPONSE B: تُعتبر التكنولوجيا أحد أهم المحركات لتحقيق التنمية المستدامة، حيث يمكنها تحسين استخدام الموارد الطبيعية\n",
       "وتقليل الأثر البيئي. كما أن هناك حاجة ملحة إلى تطوير البنية التحتية في البلدان النامية لتعزيز القدرة على المنافسة \n",
       "في السوق العالمية.\n"
      ]
     },
     "metadata": {},
     "output_type": "display_data"
    },
    {
     "data": {
      "text/html": [
       "<pre style=\"white-space:pre;overflow-x:auto;line-height:normal;font-family:Menlo,'DejaVu Sans Mono',consolas,'Courier New',monospace\">Prompt:  \n",
       "Given a question, generate a formal positive and loosely related, irrelevant negative response in Arabic.\n",
       "\n",
       "The questions is: ما هي أهمية الحفاظ على التنوع البيئي في مواجهة تغير المناخ؟\n",
       "\n",
       "RESPONSE A should be a formal, positive response that directly answers the question.\n",
       "RESPONSE B should be a formal, negative response that is loosely related to the question but does not answer it.\n",
       "Your response should follow this format without any numbers, bullet points, additional text, or the question \n",
       "itself:\n",
       "\n",
       "RESPONSE A: <span style=\"font-weight: bold\">[</span>Positive response text here<span style=\"font-weight: bold\">]</span>\n",
       "RESPONSE B: <span style=\"font-weight: bold\">[</span>Negative response text here<span style=\"font-weight: bold\">]</span>\n",
       "\n",
       "</pre>\n"
      ],
      "text/plain": [
       "Prompt:  \n",
       "Given a question, generate a formal positive and loosely related, irrelevant negative response in Arabic.\n",
       "\n",
       "The questions is: ما هي أهمية الحفاظ على التنوع البيئي في مواجهة تغير المناخ؟\n",
       "\n",
       "RESPONSE A should be a formal, positive response that directly answers the question.\n",
       "RESPONSE B should be a formal, negative response that is loosely related to the question but does not answer it.\n",
       "Your response should follow this format without any numbers, bullet points, additional text, or the question \n",
       "itself:\n",
       "\n",
       "RESPONSE A: \u001b[1m[\u001b[0mPositive response text here\u001b[1m]\u001b[0m\n",
       "RESPONSE B: \u001b[1m[\u001b[0mNegative response text here\u001b[1m]\u001b[0m\n",
       "\n"
      ]
     },
     "metadata": {},
     "output_type": "display_data"
    },
    {
     "data": {
      "text/html": [
       "<pre style=\"white-space:pre;overflow-x:auto;line-height:normal;font-family:Menlo,'DejaVu Sans Mono',consolas,'Courier New',monospace\">RESPONSE A: يعد الحفاظ على التنوع البيئي أمرًا حاسمًا في مواجهة تغير المناخ، حيث يسهم في تعزيز قدرة النظام البيئي على\n",
       "الصمود أمام التغيرات الكبيرة التي تسببها تغير المناخ. كما يساعد في الحفاظ على الموارد الطبيعية والخدمات الإيكولوجية\n",
       "التي توفرها للبشر.\n",
       "\n",
       "RESPONSE B: يعتبر تطوير البنية التحتية في المجتمعات الساحلية أمرًا ضروريًا لتحسين جودة الحياة للسكان، حيث يمكن أن \n",
       "تسهم في توفير الخدمات الأساسية مثل المياه الصالحة للشرب والصرف الصحي.\n",
       "</pre>\n"
      ],
      "text/plain": [
       "RESPONSE A: يعد الحفاظ على التنوع البيئي أمرًا حاسمًا في مواجهة تغير المناخ، حيث يسهم في تعزيز قدرة النظام البيئي على\n",
       "الصمود أمام التغيرات الكبيرة التي تسببها تغير المناخ. كما يساعد في الحفاظ على الموارد الطبيعية والخدمات الإيكولوجية\n",
       "التي توفرها للبشر.\n",
       "\n",
       "RESPONSE B: يعتبر تطوير البنية التحتية في المجتمعات الساحلية أمرًا ضروريًا لتحسين جودة الحياة للسكان، حيث يمكن أن \n",
       "تسهم في توفير الخدمات الأساسية مثل المياه الصالحة للشرب والصرف الصحي.\n"
      ]
     },
     "metadata": {},
     "output_type": "display_data"
    },
    {
     "data": {
      "text/html": [
       "<pre style=\"white-space:pre;overflow-x:auto;line-height:normal;font-family:Menlo,'DejaVu Sans Mono',consolas,'Courier New',monospace\">Prompt:  \n",
       "Given a question, generate a formal positive and loosely related, irrelevant negative response in Arabic.\n",
       "\n",
       "The questions is: كيف يمكن للسياسات الاقتصادية أن تؤثر على جودة الهواء والتربة في المجتمعات المحلية؟\n",
       "\n",
       "RESPONSE A should be a formal, positive response that directly answers the question.\n",
       "RESPONSE B should be a formal, negative response that is loosely related to the question but does not answer it.\n",
       "Your response should follow this format without any numbers, bullet points, additional text, or the question \n",
       "itself:\n",
       "\n",
       "RESPONSE A: <span style=\"font-weight: bold\">[</span>Positive response text here<span style=\"font-weight: bold\">]</span>\n",
       "RESPONSE B: <span style=\"font-weight: bold\">[</span>Negative response text here<span style=\"font-weight: bold\">]</span>\n",
       "\n",
       "</pre>\n"
      ],
      "text/plain": [
       "Prompt:  \n",
       "Given a question, generate a formal positive and loosely related, irrelevant negative response in Arabic.\n",
       "\n",
       "The questions is: كيف يمكن للسياسات الاقتصادية أن تؤثر على جودة الهواء والتربة في المجتمعات المحلية؟\n",
       "\n",
       "RESPONSE A should be a formal, positive response that directly answers the question.\n",
       "RESPONSE B should be a formal, negative response that is loosely related to the question but does not answer it.\n",
       "Your response should follow this format without any numbers, bullet points, additional text, or the question \n",
       "itself:\n",
       "\n",
       "RESPONSE A: \u001b[1m[\u001b[0mPositive response text here\u001b[1m]\u001b[0m\n",
       "RESPONSE B: \u001b[1m[\u001b[0mNegative response text here\u001b[1m]\u001b[0m\n",
       "\n"
      ]
     },
     "metadata": {},
     "output_type": "display_data"
    },
    {
     "data": {
      "text/html": [
       "<pre style=\"white-space:pre;overflow-x:auto;line-height:normal;font-family:Menlo,'DejaVu Sans Mono',consolas,'Courier New',monospace\">RESPONSE A: يمكن للسياسات الاقتصادية أن تؤثر على جودة الهواء والتربة في المجتمعات المحلية من خلال تحديد الأولويات \n",
       "الاقتصادية وتخصيص الموارد لتحسين إدارة النفايات والمواد الكيميائية، مما يؤدي إلى انخفاض التلوث الجوي والتربي. كما \n",
       "يمكن أن تسهم السياسات الاقتصادية في تشجيع الاستدامة البيئية من خلال الحد من استخدام الموارد غير المستدامة وتشجيع \n",
       "تقنيات إنتاج أكثر كفاءة.\n",
       "\n",
       "RESPONSE B: يعتبر تطوير البنية التحتية للنقل في المجتمعات المحلية أمرًا ضروريًا لتحسين جودة الحياة، حيث يمكن أن يسهم\n",
       "في تقليل الزحام المروري وزيادة كفاءة النقل. كما يمكن أن تساهم السياسات الاقتصادية في دعم المشاريع الصغيرة والمتوسطة\n",
       "الحجم التي تعمل في مجال البنية التحتية للنقل، مما يؤدي إلى خلق فرص عمل جديدة وتحسين جودة الخدمات.\n",
       "</pre>\n"
      ],
      "text/plain": [
       "RESPONSE A: يمكن للسياسات الاقتصادية أن تؤثر على جودة الهواء والتربة في المجتمعات المحلية من خلال تحديد الأولويات \n",
       "الاقتصادية وتخصيص الموارد لتحسين إدارة النفايات والمواد الكيميائية، مما يؤدي إلى انخفاض التلوث الجوي والتربي. كما \n",
       "يمكن أن تسهم السياسات الاقتصادية في تشجيع الاستدامة البيئية من خلال الحد من استخدام الموارد غير المستدامة وتشجيع \n",
       "تقنيات إنتاج أكثر كفاءة.\n",
       "\n",
       "RESPONSE B: يعتبر تطوير البنية التحتية للنقل في المجتمعات المحلية أمرًا ضروريًا لتحسين جودة الحياة، حيث يمكن أن يسهم\n",
       "في تقليل الزحام المروري وزيادة كفاءة النقل. كما يمكن أن تساهم السياسات الاقتصادية في دعم المشاريع الصغيرة والمتوسطة\n",
       "الحجم التي تعمل في مجال البنية التحتية للنقل، مما يؤدي إلى خلق فرص عمل جديدة وتحسين جودة الخدمات.\n"
      ]
     },
     "metadata": {},
     "output_type": "display_data"
    },
    {
     "data": {
      "text/html": [
       "<pre style=\"white-space:pre;overflow-x:auto;line-height:normal;font-family:Menlo,'DejaVu Sans Mono',consolas,'Courier New',monospace\">Prompt:  \n",
       "Given a question, generate a formal positive and loosely related, irrelevant negative response in Arabic.\n",
       "\n",
       "The questions is: ما هي أهمية دراسة تأثيرات التغير المناخي على البيئة في الدول النامية؟\n",
       "\n",
       "RESPONSE A should be a formal, positive response that directly answers the question.\n",
       "RESPONSE B should be a formal, negative response that is loosely related to the question but does not answer it.\n",
       "Your response should follow this format without any numbers, bullet points, additional text, or the question \n",
       "itself:\n",
       "\n",
       "RESPONSE A: <span style=\"font-weight: bold\">[</span>Positive response text here<span style=\"font-weight: bold\">]</span>\n",
       "RESPONSE B: <span style=\"font-weight: bold\">[</span>Negative response text here<span style=\"font-weight: bold\">]</span>\n",
       "\n",
       "</pre>\n"
      ],
      "text/plain": [
       "Prompt:  \n",
       "Given a question, generate a formal positive and loosely related, irrelevant negative response in Arabic.\n",
       "\n",
       "The questions is: ما هي أهمية دراسة تأثيرات التغير المناخي على البيئة في الدول النامية؟\n",
       "\n",
       "RESPONSE A should be a formal, positive response that directly answers the question.\n",
       "RESPONSE B should be a formal, negative response that is loosely related to the question but does not answer it.\n",
       "Your response should follow this format without any numbers, bullet points, additional text, or the question \n",
       "itself:\n",
       "\n",
       "RESPONSE A: \u001b[1m[\u001b[0mPositive response text here\u001b[1m]\u001b[0m\n",
       "RESPONSE B: \u001b[1m[\u001b[0mNegative response text here\u001b[1m]\u001b[0m\n",
       "\n"
      ]
     },
     "metadata": {},
     "output_type": "display_data"
    },
    {
     "data": {
      "text/html": [
       "<pre style=\"white-space:pre;overflow-x:auto;line-height:normal;font-family:Menlo,'DejaVu Sans Mono',consolas,'Courier New',monospace\">RESPONSE A: إن دراسة تأثيرات التغير المناخي على البيئة في الدول النامية من الأهمية الكبرى، حيث يمكن أن تساعد في \n",
       "تحسين الاستدامة البيئية وتقليل الآثار السلبية للبيئة. كما يمكن أن تساهم في توفير فرص عمل جديدة في مجال الصحة العامة\n",
       "والبيئة، مما يسهم في التنمية الاقتصادية والاجتماعية.\n",
       "\n",
       "RESPONSE B: إن الدول النامية تواجه تحديات كبيرة في مجال البنية التحتية، حيث يفتقر الكثير من البلدان إلى شبكات الطرق\n",
       "والموارد المائية. كما أن هناك حاجة ملحة لتحسين التعليم وتوفير فرص عمل أفضل للشباب.\n",
       "</pre>\n"
      ],
      "text/plain": [
       "RESPONSE A: إن دراسة تأثيرات التغير المناخي على البيئة في الدول النامية من الأهمية الكبرى، حيث يمكن أن تساعد في \n",
       "تحسين الاستدامة البيئية وتقليل الآثار السلبية للبيئة. كما يمكن أن تساهم في توفير فرص عمل جديدة في مجال الصحة العامة\n",
       "والبيئة، مما يسهم في التنمية الاقتصادية والاجتماعية.\n",
       "\n",
       "RESPONSE B: إن الدول النامية تواجه تحديات كبيرة في مجال البنية التحتية، حيث يفتقر الكثير من البلدان إلى شبكات الطرق\n",
       "والموارد المائية. كما أن هناك حاجة ملحة لتحسين التعليم وتوفير فرص عمل أفضل للشباب.\n"
      ]
     },
     "metadata": {},
     "output_type": "display_data"
    },
    {
     "data": {
      "text/html": [
       "<pre style=\"white-space:pre;overflow-x:auto;line-height:normal;font-family:Menlo,'DejaVu Sans Mono',consolas,'Courier New',monospace\">Prompt:  \n",
       "Given a question, generate a formal positive and loosely related, irrelevant negative response in Arabic.\n",
       "\n",
       "The questions is: هل يمكن أن يؤدي زيادة مستويات الطاقة الشمسية إلى تقليل الاعتماد على الوقود الأحفوري؟\n",
       "\n",
       "RESPONSE A should be a formal, positive response that directly answers the question.\n",
       "RESPONSE B should be a formal, negative response that is loosely related to the question but does not answer it.\n",
       "Your response should follow this format without any numbers, bullet points, additional text, or the question \n",
       "itself:\n",
       "\n",
       "RESPONSE A: <span style=\"font-weight: bold\">[</span>Positive response text here<span style=\"font-weight: bold\">]</span>\n",
       "RESPONSE B: <span style=\"font-weight: bold\">[</span>Negative response text here<span style=\"font-weight: bold\">]</span>\n",
       "\n",
       "</pre>\n"
      ],
      "text/plain": [
       "Prompt:  \n",
       "Given a question, generate a formal positive and loosely related, irrelevant negative response in Arabic.\n",
       "\n",
       "The questions is: هل يمكن أن يؤدي زيادة مستويات الطاقة الشمسية إلى تقليل الاعتماد على الوقود الأحفوري؟\n",
       "\n",
       "RESPONSE A should be a formal, positive response that directly answers the question.\n",
       "RESPONSE B should be a formal, negative response that is loosely related to the question but does not answer it.\n",
       "Your response should follow this format without any numbers, bullet points, additional text, or the question \n",
       "itself:\n",
       "\n",
       "RESPONSE A: \u001b[1m[\u001b[0mPositive response text here\u001b[1m]\u001b[0m\n",
       "RESPONSE B: \u001b[1m[\u001b[0mNegative response text here\u001b[1m]\u001b[0m\n",
       "\n"
      ]
     },
     "metadata": {},
     "output_type": "display_data"
    },
    {
     "data": {
      "text/html": [
       "<pre style=\"white-space:pre;overflow-x:auto;line-height:normal;font-family:Menlo,'DejaVu Sans Mono',consolas,'Courier New',monospace\">RESPONSE A: يمكن أن يؤدي زيادة مستويات الطاقة الشمسية إلى تقليل الاعتماد على الوقود الأحفوري، حيث يمكن استخدام \n",
       "الطاقة الشمسية ك источاء للطاقة المتجددة التي لا تتأثر بالظروف الجوية أو الجغرافية، مما يقلل من الاعتماد على الوقود\n",
       "الأحفوري ويسهم في الحفاظ على البيئة.\n",
       "\n",
       "RESPONSE B: تؤدي زيادة مستويات الطاقة الشمسية إلى تحسين جودة الحياة في المناطق الساحلية، حيث يمكن استخدامها لتحلية \n",
       "المياه وتحسين ظروف الراحة للسكان.\n",
       "</pre>\n"
      ],
      "text/plain": [
       "RESPONSE A: يمكن أن يؤدي زيادة مستويات الطاقة الشمسية إلى تقليل الاعتماد على الوقود الأحفوري، حيث يمكن استخدام \n",
       "الطاقة الشمسية ك источاء للطاقة المتجددة التي لا تتأثر بالظروف الجوية أو الجغرافية، مما يقلل من الاعتماد على الوقود\n",
       "الأحفوري ويسهم في الحفاظ على البيئة.\n",
       "\n",
       "RESPONSE B: تؤدي زيادة مستويات الطاقة الشمسية إلى تحسين جودة الحياة في المناطق الساحلية، حيث يمكن استخدامها لتحلية \n",
       "المياه وتحسين ظروف الراحة للسكان.\n"
      ]
     },
     "metadata": {},
     "output_type": "display_data"
    },
    {
     "data": {
      "text/html": [
       "<pre style=\"white-space:pre;overflow-x:auto;line-height:normal;font-family:Menlo,'DejaVu Sans Mono',consolas,'Courier New',monospace\">Prompt:  \n",
       "Given a question, generate a formal positive and loosely related, irrelevant negative response in Arabic.\n",
       "\n",
       "The questions is: ما هي أهمية التعلم الرياضي في الحياة اليومية؟\n",
       "\n",
       "RESPONSE A should be a formal, positive response that directly answers the question.\n",
       "RESPONSE B should be a formal, negative response that is loosely related to the question but does not answer it.\n",
       "Your response should follow this format without any numbers, bullet points, additional text, or the question \n",
       "itself:\n",
       "\n",
       "RESPONSE A: <span style=\"font-weight: bold\">[</span>Positive response text here<span style=\"font-weight: bold\">]</span>\n",
       "RESPONSE B: <span style=\"font-weight: bold\">[</span>Negative response text here<span style=\"font-weight: bold\">]</span>\n",
       "\n",
       "</pre>\n"
      ],
      "text/plain": [
       "Prompt:  \n",
       "Given a question, generate a formal positive and loosely related, irrelevant negative response in Arabic.\n",
       "\n",
       "The questions is: ما هي أهمية التعلم الرياضي في الحياة اليومية؟\n",
       "\n",
       "RESPONSE A should be a formal, positive response that directly answers the question.\n",
       "RESPONSE B should be a formal, negative response that is loosely related to the question but does not answer it.\n",
       "Your response should follow this format without any numbers, bullet points, additional text, or the question \n",
       "itself:\n",
       "\n",
       "RESPONSE A: \u001b[1m[\u001b[0mPositive response text here\u001b[1m]\u001b[0m\n",
       "RESPONSE B: \u001b[1m[\u001b[0mNegative response text here\u001b[1m]\u001b[0m\n",
       "\n"
      ]
     },
     "metadata": {},
     "output_type": "display_data"
    },
    {
     "data": {
      "text/html": [
       "<pre style=\"white-space:pre;overflow-x:auto;line-height:normal;font-family:Menlo,'DejaVu Sans Mono',consolas,'Courier New',monospace\">RESPONSE A: يعد التعلم الرياضي من أهم المهارات التي يجب أن يتمتع بها الفرد في الحياة اليومية، حيث يساعده على التميز\n",
       "والتفوق في مختلف المجالات، ويسهم في تطوير مهاراته الذهنية والجسدية، مما يجعله قادرًا على مواجهة التحديات والمشكلات \n",
       "بفعالية.\n",
       "\n",
       "RESPONSE B: إن إطلاق مشروع التنمية المستدامة في بلدنا كان خطوة مهمة نحو تحقيق الاستقرار الاقتصادي والاجتماعي، حيث \n",
       "سيساهم في توفير فرص عمل جديدة وتحسين مستوى المعيشة للشعب.\n",
       "</pre>\n"
      ],
      "text/plain": [
       "RESPONSE A: يعد التعلم الرياضي من أهم المهارات التي يجب أن يتمتع بها الفرد في الحياة اليومية، حيث يساعده على التميز\n",
       "والتفوق في مختلف المجالات، ويسهم في تطوير مهاراته الذهنية والجسدية، مما يجعله قادرًا على مواجهة التحديات والمشكلات \n",
       "بفعالية.\n",
       "\n",
       "RESPONSE B: إن إطلاق مشروع التنمية المستدامة في بلدنا كان خطوة مهمة نحو تحقيق الاستقرار الاقتصادي والاجتماعي، حيث \n",
       "سيساهم في توفير فرص عمل جديدة وتحسين مستوى المعيشة للشعب.\n"
      ]
     },
     "metadata": {},
     "output_type": "display_data"
    },
    {
     "data": {
      "text/html": [
       "<pre style=\"white-space:pre;overflow-x:auto;line-height:normal;font-family:Menlo,'DejaVu Sans Mono',consolas,'Courier New',monospace\">Prompt:  \n",
       "Given a question, generate a formal positive and loosely related, irrelevant negative response in Arabic.\n",
       "\n",
       "The questions is: كيف يمكن أن تُستخدم الرياضيات في حل المشكلات البيئية؟\n",
       "\n",
       "RESPONSE A should be a formal, positive response that directly answers the question.\n",
       "RESPONSE B should be a formal, negative response that is loosely related to the question but does not answer it.\n",
       "Your response should follow this format without any numbers, bullet points, additional text, or the question \n",
       "itself:\n",
       "\n",
       "RESPONSE A: <span style=\"font-weight: bold\">[</span>Positive response text here<span style=\"font-weight: bold\">]</span>\n",
       "RESPONSE B: <span style=\"font-weight: bold\">[</span>Negative response text here<span style=\"font-weight: bold\">]</span>\n",
       "\n",
       "</pre>\n"
      ],
      "text/plain": [
       "Prompt:  \n",
       "Given a question, generate a formal positive and loosely related, irrelevant negative response in Arabic.\n",
       "\n",
       "The questions is: كيف يمكن أن تُستخدم الرياضيات في حل المشكلات البيئية؟\n",
       "\n",
       "RESPONSE A should be a formal, positive response that directly answers the question.\n",
       "RESPONSE B should be a formal, negative response that is loosely related to the question but does not answer it.\n",
       "Your response should follow this format without any numbers, bullet points, additional text, or the question \n",
       "itself:\n",
       "\n",
       "RESPONSE A: \u001b[1m[\u001b[0mPositive response text here\u001b[1m]\u001b[0m\n",
       "RESPONSE B: \u001b[1m[\u001b[0mNegative response text here\u001b[1m]\u001b[0m\n",
       "\n"
      ]
     },
     "metadata": {},
     "output_type": "display_data"
    },
    {
     "data": {
      "text/html": [
       "<pre style=\"white-space:pre;overflow-x:auto;line-height:normal;font-family:Menlo,'DejaVu Sans Mono',consolas,'Courier New',monospace\">RESPONSE A: يمكن استخدام الرياضيات في حل المشكلات البيئية من خلال تحليل البيانات والتنبؤ بالتغيرات المستقبلية \n",
       "وتطوير الاستراتيجيات الفعالة للحد من التأثير السلبي على البيئة.\n",
       "\n",
       "RESPONSE B: يعتبر تطوير تقنيات الحوسبة عالية الأداء أمرًا ضروريًا لتحسين أداء الاقتصاد العالمي، حيث يمكنها توفير حلول\n",
       "أكثر كفاءة في استخدام الموارد وتحقيق الاستدامة.\n",
       "</pre>\n"
      ],
      "text/plain": [
       "RESPONSE A: يمكن استخدام الرياضيات في حل المشكلات البيئية من خلال تحليل البيانات والتنبؤ بالتغيرات المستقبلية \n",
       "وتطوير الاستراتيجيات الفعالة للحد من التأثير السلبي على البيئة.\n",
       "\n",
       "RESPONSE B: يعتبر تطوير تقنيات الحوسبة عالية الأداء أمرًا ضروريًا لتحسين أداء الاقتصاد العالمي، حيث يمكنها توفير حلول\n",
       "أكثر كفاءة في استخدام الموارد وتحقيق الاستدامة.\n"
      ]
     },
     "metadata": {},
     "output_type": "display_data"
    },
    {
     "data": {
      "text/html": [
       "<pre style=\"white-space:pre;overflow-x:auto;line-height:normal;font-family:Menlo,'DejaVu Sans Mono',consolas,'Courier New',monospace\">Prompt:  \n",
       "Given a question, generate a formal positive and loosely related, irrelevant negative response in Arabic.\n",
       "\n",
       "The questions is: ما هي التغيرات التي طرأت على سطح الأرض منذ العصر الحجري؟\n",
       "\n",
       "RESPONSE A should be a formal, positive response that directly answers the question.\n",
       "RESPONSE B should be a formal, negative response that is loosely related to the question but does not answer it.\n",
       "Your response should follow this format without any numbers, bullet points, additional text, or the question \n",
       "itself:\n",
       "\n",
       "RESPONSE A: <span style=\"font-weight: bold\">[</span>Positive response text here<span style=\"font-weight: bold\">]</span>\n",
       "RESPONSE B: <span style=\"font-weight: bold\">[</span>Negative response text here<span style=\"font-weight: bold\">]</span>\n",
       "\n",
       "</pre>\n"
      ],
      "text/plain": [
       "Prompt:  \n",
       "Given a question, generate a formal positive and loosely related, irrelevant negative response in Arabic.\n",
       "\n",
       "The questions is: ما هي التغيرات التي طرأت على سطح الأرض منذ العصر الحجري؟\n",
       "\n",
       "RESPONSE A should be a formal, positive response that directly answers the question.\n",
       "RESPONSE B should be a formal, negative response that is loosely related to the question but does not answer it.\n",
       "Your response should follow this format without any numbers, bullet points, additional text, or the question \n",
       "itself:\n",
       "\n",
       "RESPONSE A: \u001b[1m[\u001b[0mPositive response text here\u001b[1m]\u001b[0m\n",
       "RESPONSE B: \u001b[1m[\u001b[0mNegative response text here\u001b[1m]\u001b[0m\n",
       "\n"
      ]
     },
     "metadata": {},
     "output_type": "display_data"
    },
    {
     "data": {
      "text/html": [
       "<pre style=\"white-space:pre;overflow-x:auto;line-height:normal;font-family:Menlo,'DejaVu Sans Mono',consolas,'Courier New',monospace\">RESPONSE A: تسببت التغيرات الجيولوجية والبيئية في تغيير شكل سطح الأرض منذ العصر الحجري، حيث أدت عمليات التعرية \n",
       "والترسيب إلى تشكيل منحدرات ووديان جديدة، كما أدى التغييرات المناخية إلى ظهور مناطق جبلية ومستنقعات.\n",
       "\n",
       "RESPONSE B: يعتبر الفساد البيئي مشكلة عالمية خطيرة التي تؤثر على جميع أنواع الحياة على سطح الأرض، حيث يتسبب في تلوث\n",
       "المياه والهواء وتدمير الموائل الطبيعية.\n",
       "</pre>\n"
      ],
      "text/plain": [
       "RESPONSE A: تسببت التغيرات الجيولوجية والبيئية في تغيير شكل سطح الأرض منذ العصر الحجري، حيث أدت عمليات التعرية \n",
       "والترسيب إلى تشكيل منحدرات ووديان جديدة، كما أدى التغييرات المناخية إلى ظهور مناطق جبلية ومستنقعات.\n",
       "\n",
       "RESPONSE B: يعتبر الفساد البيئي مشكلة عالمية خطيرة التي تؤثر على جميع أنواع الحياة على سطح الأرض، حيث يتسبب في تلوث\n",
       "المياه والهواء وتدمير الموائل الطبيعية.\n"
      ]
     },
     "metadata": {},
     "output_type": "display_data"
    },
    {
     "data": {
      "text/html": [
       "<pre style=\"white-space:pre;overflow-x:auto;line-height:normal;font-family:Menlo,'DejaVu Sans Mono',consolas,'Courier New',monospace\">Prompt:  \n",
       "Given a question, generate a formal positive and loosely related, irrelevant negative response in Arabic.\n",
       "\n",
       "The questions is: كيف تؤثر العمليات الجيولوجية على البيئة المحيطة بالمناطق الساحلية؟\n",
       "\n",
       "RESPONSE A should be a formal, positive response that directly answers the question.\n",
       "RESPONSE B should be a formal, negative response that is loosely related to the question but does not answer it.\n",
       "Your response should follow this format without any numbers, bullet points, additional text, or the question \n",
       "itself:\n",
       "\n",
       "RESPONSE A: <span style=\"font-weight: bold\">[</span>Positive response text here<span style=\"font-weight: bold\">]</span>\n",
       "RESPONSE B: <span style=\"font-weight: bold\">[</span>Negative response text here<span style=\"font-weight: bold\">]</span>\n",
       "\n",
       "</pre>\n"
      ],
      "text/plain": [
       "Prompt:  \n",
       "Given a question, generate a formal positive and loosely related, irrelevant negative response in Arabic.\n",
       "\n",
       "The questions is: كيف تؤثر العمليات الجيولوجية على البيئة المحيطة بالمناطق الساحلية؟\n",
       "\n",
       "RESPONSE A should be a formal, positive response that directly answers the question.\n",
       "RESPONSE B should be a formal, negative response that is loosely related to the question but does not answer it.\n",
       "Your response should follow this format without any numbers, bullet points, additional text, or the question \n",
       "itself:\n",
       "\n",
       "RESPONSE A: \u001b[1m[\u001b[0mPositive response text here\u001b[1m]\u001b[0m\n",
       "RESPONSE B: \u001b[1m[\u001b[0mNegative response text here\u001b[1m]\u001b[0m\n",
       "\n"
      ]
     },
     "metadata": {},
     "output_type": "display_data"
    },
    {
     "data": {
      "text/html": [
       "<pre style=\"white-space:pre;overflow-x:auto;line-height:normal;font-family:Menlo,'DejaVu Sans Mono',consolas,'Courier New',monospace\">RESPONSE A: تؤثر العمليات الجيولوجية على البيئة المحيطة بالمناطق الساحلية من خلال تغييرات في الشواطئ والجزر \n",
       "والخليج، مما يؤدي إلى تأثيرات محتملة على النظم الإيكولوجية والمصادر الطبيعية.\n",
       "\n",
       "RESPONSE B: تتمتع المناطق الساحلية بخصائص فريدة من حيث التنوع البيئي والاقتصاد الاجتماعي، وتعتبر مصدرًا هامًا للتوازن\n",
       "المائي والبيئة البحرية.\n",
       "</pre>\n"
      ],
      "text/plain": [
       "RESPONSE A: تؤثر العمليات الجيولوجية على البيئة المحيطة بالمناطق الساحلية من خلال تغييرات في الشواطئ والجزر \n",
       "والخليج، مما يؤدي إلى تأثيرات محتملة على النظم الإيكولوجية والمصادر الطبيعية.\n",
       "\n",
       "RESPONSE B: تتمتع المناطق الساحلية بخصائص فريدة من حيث التنوع البيئي والاقتصاد الاجتماعي، وتعتبر مصدرًا هامًا للتوازن\n",
       "المائي والبيئة البحرية.\n"
      ]
     },
     "metadata": {},
     "output_type": "display_data"
    },
    {
     "data": {
      "text/html": [
       "<pre style=\"white-space:pre;overflow-x:auto;line-height:normal;font-family:Menlo,'DejaVu Sans Mono',consolas,'Courier New',monospace\">Prompt:  \n",
       "Given a question, generate a formal positive and loosely related, irrelevant negative response in Arabic.\n",
       "\n",
       "The questions is: ما هي أهمية التوعية بالصحة النفسية في المجتمع؟\n",
       "\n",
       "RESPONSE A should be a formal, positive response that directly answers the question.\n",
       "RESPONSE B should be a formal, negative response that is loosely related to the question but does not answer it.\n",
       "Your response should follow this format without any numbers, bullet points, additional text, or the question \n",
       "itself:\n",
       "\n",
       "RESPONSE A: <span style=\"font-weight: bold\">[</span>Positive response text here<span style=\"font-weight: bold\">]</span>\n",
       "RESPONSE B: <span style=\"font-weight: bold\">[</span>Negative response text here<span style=\"font-weight: bold\">]</span>\n",
       "\n",
       "</pre>\n"
      ],
      "text/plain": [
       "Prompt:  \n",
       "Given a question, generate a formal positive and loosely related, irrelevant negative response in Arabic.\n",
       "\n",
       "The questions is: ما هي أهمية التوعية بالصحة النفسية في المجتمع؟\n",
       "\n",
       "RESPONSE A should be a formal, positive response that directly answers the question.\n",
       "RESPONSE B should be a formal, negative response that is loosely related to the question but does not answer it.\n",
       "Your response should follow this format without any numbers, bullet points, additional text, or the question \n",
       "itself:\n",
       "\n",
       "RESPONSE A: \u001b[1m[\u001b[0mPositive response text here\u001b[1m]\u001b[0m\n",
       "RESPONSE B: \u001b[1m[\u001b[0mNegative response text here\u001b[1m]\u001b[0m\n",
       "\n"
      ]
     },
     "metadata": {},
     "output_type": "display_data"
    },
    {
     "data": {
      "text/html": [
       "<pre style=\"white-space:pre;overflow-x:auto;line-height:normal;font-family:Menlo,'DejaVu Sans Mono',consolas,'Courier New',monospace\">RESPONSE A: تعتبر التوعية بالصحة النفسية في المجتمع أمرًا ضروريًا لتحقيق الاستقرار والسلامة النفسية للفرد، حيث تسهم\n",
       "في زيادة الوعي بأهمية الحماية من الأمراض النفسية وتقليل الأثر السلبي لها على الفرد والمجتمع.\n",
       "\n",
       "RESPONSE B: يُعتبر تطوير البنية التحتية الصحية في المجتمعات النامية أمرًا حاسمًا لتحسين مستوى الرعاية الصحية، حيث يمكن\n",
       "أن تسهم في زيادة الوصول إلى الخدمات الصحية والتعليم الصحي.\n",
       "</pre>\n"
      ],
      "text/plain": [
       "RESPONSE A: تعتبر التوعية بالصحة النفسية في المجتمع أمرًا ضروريًا لتحقيق الاستقرار والسلامة النفسية للفرد، حيث تسهم\n",
       "في زيادة الوعي بأهمية الحماية من الأمراض النفسية وتقليل الأثر السلبي لها على الفرد والمجتمع.\n",
       "\n",
       "RESPONSE B: يُعتبر تطوير البنية التحتية الصحية في المجتمعات النامية أمرًا حاسمًا لتحسين مستوى الرعاية الصحية، حيث يمكن\n",
       "أن تسهم في زيادة الوصول إلى الخدمات الصحية والتعليم الصحي.\n"
      ]
     },
     "metadata": {},
     "output_type": "display_data"
    },
    {
     "data": {
      "text/html": [
       "<pre style=\"white-space:pre;overflow-x:auto;line-height:normal;font-family:Menlo,'DejaVu Sans Mono',consolas,'Courier New',monospace\">Prompt:  \n",
       "Given a question, generate a formal positive and loosely related, irrelevant negative response in Arabic.\n",
       "\n",
       "The questions is: كيف يمكن أن تؤثر العوامل البيئية على الصحة النفسية للفرد؟\n",
       "\n",
       "RESPONSE A should be a formal, positive response that directly answers the question.\n",
       "RESPONSE B should be a formal, negative response that is loosely related to the question but does not answer it.\n",
       "Your response should follow this format without any numbers, bullet points, additional text, or the question \n",
       "itself:\n",
       "\n",
       "RESPONSE A: <span style=\"font-weight: bold\">[</span>Positive response text here<span style=\"font-weight: bold\">]</span>\n",
       "RESPONSE B: <span style=\"font-weight: bold\">[</span>Negative response text here<span style=\"font-weight: bold\">]</span>\n",
       "\n",
       "</pre>\n"
      ],
      "text/plain": [
       "Prompt:  \n",
       "Given a question, generate a formal positive and loosely related, irrelevant negative response in Arabic.\n",
       "\n",
       "The questions is: كيف يمكن أن تؤثر العوامل البيئية على الصحة النفسية للفرد؟\n",
       "\n",
       "RESPONSE A should be a formal, positive response that directly answers the question.\n",
       "RESPONSE B should be a formal, negative response that is loosely related to the question but does not answer it.\n",
       "Your response should follow this format without any numbers, bullet points, additional text, or the question \n",
       "itself:\n",
       "\n",
       "RESPONSE A: \u001b[1m[\u001b[0mPositive response text here\u001b[1m]\u001b[0m\n",
       "RESPONSE B: \u001b[1m[\u001b[0mNegative response text here\u001b[1m]\u001b[0m\n",
       "\n"
      ]
     },
     "metadata": {},
     "output_type": "display_data"
    },
    {
     "data": {
      "text/html": [
       "<pre style=\"white-space:pre;overflow-x:auto;line-height:normal;font-family:Menlo,'DejaVu Sans Mono',consolas,'Courier New',monospace\">RESPONSE A: يمكن أن تؤثر العوامل البيئية على الصحة النفسية للفرد من خلال تأثيرها على مستويات التوتر والقلق، حيث \n",
       "يمكن أن يؤدي تغير المناخ أو التلوث إلى زيادة مستويات التوتر لدى الفرد مما يؤثر سلبًا على صحته النفسية. كما يمكن أن \n",
       "تؤثر العوامل البيئية على نمط الحياة اليومي للفرد، مما قد يؤدي إلى تغييرات في نمط النوم أو النظام الغذائي، مما يؤثر \n",
       "بدوره على الصحة النفسية.\n",
       "\n",
       "RESPONSE B: من الضروري أن ننظر إلى دور المجتمع في تعزيز التنمية المستدامة، حيث يمكن للتنمية المستدامة أن تؤدي إلى \n",
       "تحسين مستويات المعيشة وتقليل الفقر، مما قد يؤثر إيجابًا على الصحة النفسية للفرد. كما يمكن للتنمية المستدامة أن تؤدي\n",
       "إلى زيادة الوعي بالبيئة والاحترام لها، مما قد يؤدي إلى تغييرات في السلوك البشري وتحسين الصحة النفسية بشكل عام.\n",
       "</pre>\n"
      ],
      "text/plain": [
       "RESPONSE A: يمكن أن تؤثر العوامل البيئية على الصحة النفسية للفرد من خلال تأثيرها على مستويات التوتر والقلق، حيث \n",
       "يمكن أن يؤدي تغير المناخ أو التلوث إلى زيادة مستويات التوتر لدى الفرد مما يؤثر سلبًا على صحته النفسية. كما يمكن أن \n",
       "تؤثر العوامل البيئية على نمط الحياة اليومي للفرد، مما قد يؤدي إلى تغييرات في نمط النوم أو النظام الغذائي، مما يؤثر \n",
       "بدوره على الصحة النفسية.\n",
       "\n",
       "RESPONSE B: من الضروري أن ننظر إلى دور المجتمع في تعزيز التنمية المستدامة، حيث يمكن للتنمية المستدامة أن تؤدي إلى \n",
       "تحسين مستويات المعيشة وتقليل الفقر، مما قد يؤثر إيجابًا على الصحة النفسية للفرد. كما يمكن للتنمية المستدامة أن تؤدي\n",
       "إلى زيادة الوعي بالبيئة والاحترام لها، مما قد يؤدي إلى تغييرات في السلوك البشري وتحسين الصحة النفسية بشكل عام.\n"
      ]
     },
     "metadata": {},
     "output_type": "display_data"
    },
    {
     "data": {
      "text/html": [
       "<pre style=\"white-space:pre;overflow-x:auto;line-height:normal;font-family:Menlo,'DejaVu Sans Mono',consolas,'Courier New',monospace\">Prompt:  \n",
       "Given a question, generate a formal positive and loosely related, irrelevant negative response in Arabic.\n",
       "\n",
       "The questions is: ما هي أهمية دراسة الأحياء في المجتمع؟\n",
       "\n",
       "RESPONSE A should be a formal, positive response that directly answers the question.\n",
       "RESPONSE B should be a formal, negative response that is loosely related to the question but does not answer it.\n",
       "Your response should follow this format without any numbers, bullet points, additional text, or the question \n",
       "itself:\n",
       "\n",
       "RESPONSE A: <span style=\"font-weight: bold\">[</span>Positive response text here<span style=\"font-weight: bold\">]</span>\n",
       "RESPONSE B: <span style=\"font-weight: bold\">[</span>Negative response text here<span style=\"font-weight: bold\">]</span>\n",
       "\n",
       "</pre>\n"
      ],
      "text/plain": [
       "Prompt:  \n",
       "Given a question, generate a formal positive and loosely related, irrelevant negative response in Arabic.\n",
       "\n",
       "The questions is: ما هي أهمية دراسة الأحياء في المجتمع؟\n",
       "\n",
       "RESPONSE A should be a formal, positive response that directly answers the question.\n",
       "RESPONSE B should be a formal, negative response that is loosely related to the question but does not answer it.\n",
       "Your response should follow this format without any numbers, bullet points, additional text, or the question \n",
       "itself:\n",
       "\n",
       "RESPONSE A: \u001b[1m[\u001b[0mPositive response text here\u001b[1m]\u001b[0m\n",
       "RESPONSE B: \u001b[1m[\u001b[0mNegative response text here\u001b[1m]\u001b[0m\n",
       "\n"
      ]
     },
     "metadata": {},
     "output_type": "display_data"
    },
    {
     "data": {
      "text/html": [
       "<pre style=\"white-space:pre;overflow-x:auto;line-height:normal;font-family:Menlo,'DejaVu Sans Mono',consolas,'Courier New',monospace\">RESPONSE A: تعتبر دراسة الأحياء في المجتمع من أهمية كبيرة، حيث تساهم في فهم وتحليل البيئة والمنظومة الإيكولوجية \n",
       "التي نعيش فيها، مما يساعد على اتخاذ القرارات الصحية والبيئية المناسبة لتحسين جودة الحياة.\n",
       "\n",
       "RESPONSE B: يعتبر تطوير تقنيات الاتصالات الحديثة من الأمور المهمة في هذا العصر، حيث تساهم في تسهيل التواصل بين \n",
       "الأفراد والمجتمعات على مستوى العالم، مما يسهم في تعزيز التبادل الثقافي والاقتصادي.\n",
       "</pre>\n"
      ],
      "text/plain": [
       "RESPONSE A: تعتبر دراسة الأحياء في المجتمع من أهمية كبيرة، حيث تساهم في فهم وتحليل البيئة والمنظومة الإيكولوجية \n",
       "التي نعيش فيها، مما يساعد على اتخاذ القرارات الصحية والبيئية المناسبة لتحسين جودة الحياة.\n",
       "\n",
       "RESPONSE B: يعتبر تطوير تقنيات الاتصالات الحديثة من الأمور المهمة في هذا العصر، حيث تساهم في تسهيل التواصل بين \n",
       "الأفراد والمجتمعات على مستوى العالم، مما يسهم في تعزيز التبادل الثقافي والاقتصادي.\n"
      ]
     },
     "metadata": {},
     "output_type": "display_data"
    },
    {
     "data": {
      "text/html": [
       "<pre style=\"white-space:pre;overflow-x:auto;line-height:normal;font-family:Menlo,'DejaVu Sans Mono',consolas,'Courier New',monospace\">Prompt:  \n",
       "Given a question, generate a formal positive and loosely related, irrelevant negative response in Arabic.\n",
       "\n",
       "The questions is: كيف يمكن أن تؤثر التغيرات البيئية على تنوع الحياة على الأرض؟\n",
       "\n",
       "RESPONSE A should be a formal, positive response that directly answers the question.\n",
       "RESPONSE B should be a formal, negative response that is loosely related to the question but does not answer it.\n",
       "Your response should follow this format without any numbers, bullet points, additional text, or the question \n",
       "itself:\n",
       "\n",
       "RESPONSE A: <span style=\"font-weight: bold\">[</span>Positive response text here<span style=\"font-weight: bold\">]</span>\n",
       "RESPONSE B: <span style=\"font-weight: bold\">[</span>Negative response text here<span style=\"font-weight: bold\">]</span>\n",
       "\n",
       "</pre>\n"
      ],
      "text/plain": [
       "Prompt:  \n",
       "Given a question, generate a formal positive and loosely related, irrelevant negative response in Arabic.\n",
       "\n",
       "The questions is: كيف يمكن أن تؤثر التغيرات البيئية على تنوع الحياة على الأرض؟\n",
       "\n",
       "RESPONSE A should be a formal, positive response that directly answers the question.\n",
       "RESPONSE B should be a formal, negative response that is loosely related to the question but does not answer it.\n",
       "Your response should follow this format without any numbers, bullet points, additional text, or the question \n",
       "itself:\n",
       "\n",
       "RESPONSE A: \u001b[1m[\u001b[0mPositive response text here\u001b[1m]\u001b[0m\n",
       "RESPONSE B: \u001b[1m[\u001b[0mNegative response text here\u001b[1m]\u001b[0m\n",
       "\n"
      ]
     },
     "metadata": {},
     "output_type": "display_data"
    },
    {
     "data": {
      "text/html": [
       "<pre style=\"white-space:pre;overflow-x:auto;line-height:normal;font-family:Menlo,'DejaVu Sans Mono',consolas,'Courier New',monospace\">RESPONSE A: يمكن أن تؤثر التغيرات البيئية على تنوع الحياة على الأرض من خلال تغيير ظروف المناخ، مما يؤدي إلى اختفاء \n",
       "بعض الأنواع وتحول بيئة أخرى. كما يمكن أن تؤثر على توازن الأحياء وتنويعها، مما يؤدي إلى فقدان التنوع البيولوجي.\n",
       "\n",
       "RESPONSE B: في الوقت الحالي، هناك حاجة ملحة لتحسين البنية التحتية للطرق السريعة في البلاد، حيث تعاني العديد من \n",
       "المناطق من مشاكل في حركة المرور والازدحام. هذا يؤثر على الاقتصاد الوطني ويعيق تنمية الأعمال.\n",
       "</pre>\n"
      ],
      "text/plain": [
       "RESPONSE A: يمكن أن تؤثر التغيرات البيئية على تنوع الحياة على الأرض من خلال تغيير ظروف المناخ، مما يؤدي إلى اختفاء \n",
       "بعض الأنواع وتحول بيئة أخرى. كما يمكن أن تؤثر على توازن الأحياء وتنويعها، مما يؤدي إلى فقدان التنوع البيولوجي.\n",
       "\n",
       "RESPONSE B: في الوقت الحالي، هناك حاجة ملحة لتحسين البنية التحتية للطرق السريعة في البلاد، حيث تعاني العديد من \n",
       "المناطق من مشاكل في حركة المرور والازدحام. هذا يؤثر على الاقتصاد الوطني ويعيق تنمية الأعمال.\n"
      ]
     },
     "metadata": {},
     "output_type": "display_data"
    },
    {
     "data": {
      "text/html": [
       "<pre style=\"white-space:pre;overflow-x:auto;line-height:normal;font-family:Menlo,'DejaVu Sans Mono',consolas,'Courier New',monospace\">Prompt:  \n",
       "Given a question, generate a formal positive and loosely related, irrelevant negative response in Arabic.\n",
       "\n",
       "The questions is: ما هي أهمية التكنولوجيا في مجال الطب الحديث؟\n",
       "\n",
       "RESPONSE A should be a formal, positive response that directly answers the question.\n",
       "RESPONSE B should be a formal, negative response that is loosely related to the question but does not answer it.\n",
       "Your response should follow this format without any numbers, bullet points, additional text, or the question \n",
       "itself:\n",
       "\n",
       "RESPONSE A: <span style=\"font-weight: bold\">[</span>Positive response text here<span style=\"font-weight: bold\">]</span>\n",
       "RESPONSE B: <span style=\"font-weight: bold\">[</span>Negative response text here<span style=\"font-weight: bold\">]</span>\n",
       "\n",
       "</pre>\n"
      ],
      "text/plain": [
       "Prompt:  \n",
       "Given a question, generate a formal positive and loosely related, irrelevant negative response in Arabic.\n",
       "\n",
       "The questions is: ما هي أهمية التكنولوجيا في مجال الطب الحديث؟\n",
       "\n",
       "RESPONSE A should be a formal, positive response that directly answers the question.\n",
       "RESPONSE B should be a formal, negative response that is loosely related to the question but does not answer it.\n",
       "Your response should follow this format without any numbers, bullet points, additional text, or the question \n",
       "itself:\n",
       "\n",
       "RESPONSE A: \u001b[1m[\u001b[0mPositive response text here\u001b[1m]\u001b[0m\n",
       "RESPONSE B: \u001b[1m[\u001b[0mNegative response text here\u001b[1m]\u001b[0m\n",
       "\n"
      ]
     },
     "metadata": {},
     "output_type": "display_data"
    },
    {
     "data": {
      "text/html": [
       "<pre style=\"white-space:pre;overflow-x:auto;line-height:normal;font-family:Menlo,'DejaVu Sans Mono',consolas,'Courier New',monospace\">RESPONSE A: تعتبر التكنولوجيا من أهم العوامل التي تساهم في تقدم الطب الحديث، حيث تتيح للعلماء والباحثين استخدام \n",
       "أدوات ووسائل حديثة لتحليل وتطوير الأدوية والمعدات الطبية، مما يؤدي إلى تحسين جودة الرعاية الصحية وتقليل معدلات \n",
       "الأمراض.\n",
       "\n",
       "RESPONSE B: إن التكنولوجيا لها تأثير كبير على الاقتصاد العالمي، حيث تسهم في زيادة الإنتاجية وخفض تكاليف الإنتاج، \n",
       "مما يؤدي إلى نمو اقتصادي سريع.\n",
       "</pre>\n"
      ],
      "text/plain": [
       "RESPONSE A: تعتبر التكنولوجيا من أهم العوامل التي تساهم في تقدم الطب الحديث، حيث تتيح للعلماء والباحثين استخدام \n",
       "أدوات ووسائل حديثة لتحليل وتطوير الأدوية والمعدات الطبية، مما يؤدي إلى تحسين جودة الرعاية الصحية وتقليل معدلات \n",
       "الأمراض.\n",
       "\n",
       "RESPONSE B: إن التكنولوجيا لها تأثير كبير على الاقتصاد العالمي، حيث تسهم في زيادة الإنتاجية وخفض تكاليف الإنتاج، \n",
       "مما يؤدي إلى نمو اقتصادي سريع.\n"
      ]
     },
     "metadata": {},
     "output_type": "display_data"
    },
    {
     "data": {
      "text/html": [
       "<pre style=\"white-space:pre;overflow-x:auto;line-height:normal;font-family:Menlo,'DejaVu Sans Mono',consolas,'Courier New',monospace\">Prompt:  \n",
       "Given a question, generate a formal positive and loosely related, irrelevant negative response in Arabic.\n",
       "\n",
       "The questions is: كيف يمكن للطب البديل أن يتعامل مع الأمراض التي لا يمكن علاجها بالعلاجات التقليدية؟\n",
       "\n",
       "RESPONSE A should be a formal, positive response that directly answers the question.\n",
       "RESPONSE B should be a formal, negative response that is loosely related to the question but does not answer it.\n",
       "Your response should follow this format without any numbers, bullet points, additional text, or the question \n",
       "itself:\n",
       "\n",
       "RESPONSE A: <span style=\"font-weight: bold\">[</span>Positive response text here<span style=\"font-weight: bold\">]</span>\n",
       "RESPONSE B: <span style=\"font-weight: bold\">[</span>Negative response text here<span style=\"font-weight: bold\">]</span>\n",
       "\n",
       "</pre>\n"
      ],
      "text/plain": [
       "Prompt:  \n",
       "Given a question, generate a formal positive and loosely related, irrelevant negative response in Arabic.\n",
       "\n",
       "The questions is: كيف يمكن للطب البديل أن يتعامل مع الأمراض التي لا يمكن علاجها بالعلاجات التقليدية؟\n",
       "\n",
       "RESPONSE A should be a formal, positive response that directly answers the question.\n",
       "RESPONSE B should be a formal, negative response that is loosely related to the question but does not answer it.\n",
       "Your response should follow this format without any numbers, bullet points, additional text, or the question \n",
       "itself:\n",
       "\n",
       "RESPONSE A: \u001b[1m[\u001b[0mPositive response text here\u001b[1m]\u001b[0m\n",
       "RESPONSE B: \u001b[1m[\u001b[0mNegative response text here\u001b[1m]\u001b[0m\n",
       "\n"
      ]
     },
     "metadata": {},
     "output_type": "display_data"
    },
    {
     "data": {
      "text/html": [
       "<pre style=\"white-space:pre;overflow-x:auto;line-height:normal;font-family:Menlo,'DejaVu Sans Mono',consolas,'Courier New',monospace\">RESPONSE A: يمكن للطب البديل أن يتعامل مع الأمراض التي لا يمكن علاجها بالعلاجات التقليدية من خلال استخدام تقنيات \n",
       "مثل العلاج بالأشعة تحت الحمراء والتدليك والعلاج بالطاقة، مما يساعد في تحسين الصحة العامة وتحفيز الجهاز المناعي.\n",
       "\n",
       "RESPONSE B: يعتبر تطوير البنية التحتية الصحية في البلدان النامية من الأهمية بمكان لضمان الوصول إلى خدمات الرعاية \n",
       "الصحية المتاحة.\n",
       "</pre>\n"
      ],
      "text/plain": [
       "RESPONSE A: يمكن للطب البديل أن يتعامل مع الأمراض التي لا يمكن علاجها بالعلاجات التقليدية من خلال استخدام تقنيات \n",
       "مثل العلاج بالأشعة تحت الحمراء والتدليك والعلاج بالطاقة، مما يساعد في تحسين الصحة العامة وتحفيز الجهاز المناعي.\n",
       "\n",
       "RESPONSE B: يعتبر تطوير البنية التحتية الصحية في البلدان النامية من الأهمية بمكان لضمان الوصول إلى خدمات الرعاية \n",
       "الصحية المتاحة.\n"
      ]
     },
     "metadata": {},
     "output_type": "display_data"
    }
   ],
   "source": [
    "# 3. Responses Generation\n",
    "RESPONSE_PROMPT_TEMPLATE = \"\"\"\n",
    "Given a question, generate a formal positive and loosely related, irrelevant negative response in Arabic.\n",
    "\n",
    "The questions is: {question}\n",
    "\n",
    "RESPONSE A should be a formal, positive response that directly answers the question.\n",
    "RESPONSE B should be a formal, negative response that is loosely related to the question but does not answer it.\n",
    "Your response should follow this format without any numbers, bullet points, additional text, or the question itself:\n",
    "\n",
    "RESPONSE A: [Positive response text here]\n",
    "RESPONSE B: [Negative response text here]\n",
    "\"\"\"\n",
    "def generate_responses(client, question):\n",
    "    prompt = RESPONSE_PROMPT_TEMPLATE.format(question=question)\n",
    "    print('Prompt: ', prompt)\n",
    "    response = client.chat.completions.create(\n",
    "        model=modelName,\n",
    "        messages=[\n",
    "            {\"role\": \"user\",\n",
    "             \"content\": prompt}\n",
    "        ],\n",
    "        temperature=0.2,\n",
    "        top_p=0.7,\n",
    "        max_tokens=1024,\n",
    "    )\n",
    "    print(response.choices[0].message.content)\n",
    "    return response.choices[0].message.content\n",
    "\n",
    "def response_generator(client, question_list):\n",
    "    tasks = [generate_responses(client, question) for question in question_list]\n",
    "    response_list = tasks\n",
    "    return response_list\n",
    "\n",
    "question_response_list = response_generator(client, question_list_formatted)\n",
    "question_response_pair_list = []\n",
    "for question, response_set in zip(question_list_formatted, question_response_list):\n",
    "    question_response_pair_list.append(\n",
    "        {\n",
    "            \"question\": question,\n",
    "            \"positive\": response_set.split(\"RESPONSE B:\")[0].replace(\"RESPONSE A:\", \"\").strip(),\n",
    "            \"negative\": response_set.split(\"RESPONSE B:\")[-1].split(\"\\n\\n\")[0].strip()\n",
    "        }\n",
    "    )\n",
    "    \n",
    "\n",
    "\n",
    "with open(fileName, 'w') as f:\n",
    "    for item in question_response_pair_list:\n",
    "        f.write(json.dumps(item))\n",
    "        f.write('\\n')\n"
   ]
  },
  {
   "cell_type": "code",
   "execution_count": 20,
   "id": "29cff972-af34-4f72-ac01-980c6954de6f",
   "metadata": {
    "tags": []
   },
   "outputs": [],
   "source": [
    "scoringModelName = \"gemma2:9b-instruct-fp16\""
   ]
  },
  {
   "cell_type": "code",
   "execution_count": 21,
   "id": "80e41f8f-ca3a-4886-8d0d-059d6ea5e24d",
   "metadata": {
    "tags": []
   },
   "outputs": [
    {
     "data": {
      "text/html": [
       "<pre style=\"white-space:pre;overflow-x:auto;line-height:normal;font-family:Menlo,'DejaVu Sans Mono',consolas,'Courier New',monospace\"><span style=\"font-weight: bold\">{</span>\n",
       "    <span style=\"color: #008000; text-decoration-color: #008000\">'question'</span>: <span style=\"color: #008000; text-decoration-color: #008000\">'ما هي أهمية علم الفلك في فهم تشكل الكون وتطوره؟'</span>,\n",
       "    <span style=\"color: #008000; text-decoration-color: #008000\">'positive'</span>: <span style=\"color: #008000; text-decoration-color: #008000\">'يعد علم الفلك من العلوم الأساسية التي تساعدنا في فهم تشكل الكون وتطوره، حيث يعمل على دراسة حركة </span>\n",
       "<span style=\"color: #008000; text-decoration-color: #008000\">النجوم والكواكب والمذنبات وجميع الأجرام السماوية الأخرى، مما يساعدنا في فهم كيفية تكون النظام الشمسي وكيف ساءل عن </span>\n",
       "<span style=\"color: #008000; text-decoration-color: #008000\">طريق الزمن.'</span>,\n",
       "    <span style=\"color: #008000; text-decoration-color: #008000\">'negative'</span>: <span style=\"color: #008000; text-decoration-color: #008000\">'تتمتع بعض الثقافات القديمة بالاهتمام الكبير بدراسة حركة النجوم والكواكب، حيث كانوا يعتبرونها علامة</span>\n",
       "<span style=\"color: #008000; text-decoration-color: #008000\">على التغيرات التي تحدث في العالم المادي، مثل تغير مواسم الزراعة أو حدوث الزلازل.'</span>\n",
       "<span style=\"font-weight: bold\">}</span>\n",
       "</pre>\n"
      ],
      "text/plain": [
       "\u001b[1m{\u001b[0m\n",
       "    \u001b[32m'question'\u001b[0m: \u001b[32m'ما هي أهمية علم الفلك في فهم تشكل الكون وتطوره؟'\u001b[0m,\n",
       "    \u001b[32m'positive'\u001b[0m: \u001b[32m'يعد علم الفلك من العلوم الأساسية التي تساعدنا في فهم تشكل الكون وتطوره، حيث يعمل على دراسة حركة \u001b[0m\n",
       "\u001b[32mالنجوم والكواكب والمذنبات وجميع الأجرام السماوية الأخرى، مما يساعدنا في فهم كيفية تكون النظام الشمسي وكيف ساءل عن \u001b[0m\n",
       "\u001b[32mطريق الزمن.'\u001b[0m,\n",
       "    \u001b[32m'negative'\u001b[0m: \u001b[32m'تتمتع بعض الثقافات القديمة بالاهتمام الكبير بدراسة حركة النجوم والكواكب، حيث كانوا يعتبرونها علامة\u001b[0m\n",
       "\u001b[32mعلى التغيرات التي تحدث في العالم المادي، مثل تغير مواسم الزراعة أو حدوث الزلازل.'\u001b[0m\n",
       "\u001b[1m}\u001b[0m\n"
      ]
     },
     "metadata": {},
     "output_type": "display_data"
    }
   ],
   "source": [
    "import json\n",
    "with open(fileName) as f:\n",
    "    data = [json.loads(line) for line in f]\n",
    "    \n",
    "print(data[0])"
   ]
  },
  {
   "cell_type": "code",
   "execution_count": 22,
   "id": "2776dbf5-64ec-45ed-9886-0188a0aa5539",
   "metadata": {
    "scrolled": true,
    "tags": []
   },
   "outputs": [
    {
     "data": {
      "text/html": [
       "<pre style=\"white-space:pre;overflow-x:auto;line-height:normal;font-family:Menlo,'DejaVu Sans Mono',consolas,'Courier New',monospace\">Prompt:  \n",
       "Acting as an Arabic language expert and a subject matter expert on the provided question, evaluate the quality of \n",
       "the following positive answer based on its accuracy, relevance, and clarity in addressing the question. Rate the \n",
       "answer on a confidence scale from <span style=\"color: #008080; text-decoration-color: #008080; font-weight: bold\">1</span> to <span style=\"color: #008080; text-decoration-color: #008080; font-weight: bold\">10</span>, where <span style=\"color: #008080; text-decoration-color: #008080; font-weight: bold\">1</span> represents the lowest confidence in the answer's validity and <span style=\"color: #008080; text-decoration-color: #008080; font-weight: bold\">10</span>\n",
       "represents the highest. If the question or answer is missing, incomplete, appears incorrect, or contains any words \n",
       "that are neither English nor Arabic, respond with <span style=\"color: #008080; text-decoration-color: #008080; font-weight: bold\">0</span>. Only respond with the evaluation number.\n",
       "\n",
       "Question: ما هي أهمية علم الفلك في فهم تشكل الكون وتطوره؟\n",
       "Positive Answer: يعد علم الفلك من العلوم الأساسية التي تساعدنا في فهم تشكل الكون وتطوره، حيث يعمل على دراسة حركة \n",
       "النجوم والكواكب والمذنبات وجميع الأجرام السماوية الأخرى، مما يساعدنا في فهم كيفية تكون النظام الشمسي وكيف ساءل عن \n",
       "طريق الزمن.\n",
       "\n",
       "</pre>\n"
      ],
      "text/plain": [
       "Prompt:  \n",
       "Acting as an Arabic language expert and a subject matter expert on the provided question, evaluate the quality of \n",
       "the following positive answer based on its accuracy, relevance, and clarity in addressing the question. Rate the \n",
       "answer on a confidence scale from \u001b[1;36m1\u001b[0m to \u001b[1;36m10\u001b[0m, where \u001b[1;36m1\u001b[0m represents the lowest confidence in the answer's validity and \u001b[1;36m10\u001b[0m\n",
       "represents the highest. If the question or answer is missing, incomplete, appears incorrect, or contains any words \n",
       "that are neither English nor Arabic, respond with \u001b[1;36m0\u001b[0m. Only respond with the evaluation number.\n",
       "\n",
       "Question: ما هي أهمية علم الفلك في فهم تشكل الكون وتطوره؟\n",
       "Positive Answer: يعد علم الفلك من العلوم الأساسية التي تساعدنا في فهم تشكل الكون وتطوره، حيث يعمل على دراسة حركة \n",
       "النجوم والكواكب والمذنبات وجميع الأجرام السماوية الأخرى، مما يساعدنا في فهم كيفية تكون النظام الشمسي وكيف ساءل عن \n",
       "طريق الزمن.\n",
       "\n"
      ]
     },
     "metadata": {},
     "output_type": "display_data"
    },
    {
     "data": {
      "text/html": [
       "<pre style=\"white-space:pre;overflow-x:auto;line-height:normal;font-family:Menlo,'DejaVu Sans Mono',consolas,'Courier New',monospace\"><span style=\"color: #008080; text-decoration-color: #008080; font-weight: bold\">10</span>\n",
       "</pre>\n"
      ],
      "text/plain": [
       "\u001b[1;36m10\u001b[0m\n"
      ]
     },
     "metadata": {},
     "output_type": "display_data"
    },
    {
     "data": {
      "text/html": [
       "<pre style=\"white-space:pre;overflow-x:auto;line-height:normal;font-family:Menlo,'DejaVu Sans Mono',consolas,'Courier New',monospace\">Prompt:  \n",
       "Acting as an Arabic language expert and a subject matter expert on the provided question, evaluate the quality of \n",
       "the following positive answer based on its accuracy, relevance, and clarity in addressing the question. Rate the \n",
       "answer on a confidence scale from <span style=\"color: #008080; text-decoration-color: #008080; font-weight: bold\">1</span> to <span style=\"color: #008080; text-decoration-color: #008080; font-weight: bold\">10</span>, where <span style=\"color: #008080; text-decoration-color: #008080; font-weight: bold\">1</span> represents the lowest confidence in the answer's validity and <span style=\"color: #008080; text-decoration-color: #008080; font-weight: bold\">10</span>\n",
       "represents the highest. If the question or answer is missing, incomplete, appears incorrect, or contains any words \n",
       "that are neither English nor Arabic, respond with <span style=\"color: #008080; text-decoration-color: #008080; font-weight: bold\">0</span>. Only respond with the evaluation number.\n",
       "\n",
       "Question: كيف يمكن استخدام تقنيات الفضاء الحديثة لتحسين معرفتنا بظواهر الفلك والنجوم؟\n",
       "Positive Answer: يمكننا استخدام تقنيات الفضاء الحديثة مثل الأقمار الصناعية والمراصد الفلكية لتحسين معرفتنا بظواهر \n",
       "الفلك والنجوم، حيث يمكنها توفير صور عالية الدقة وتحليل البيانات الفلكية بشكل دقيق.\n",
       "\n",
       "</pre>\n"
      ],
      "text/plain": [
       "Prompt:  \n",
       "Acting as an Arabic language expert and a subject matter expert on the provided question, evaluate the quality of \n",
       "the following positive answer based on its accuracy, relevance, and clarity in addressing the question. Rate the \n",
       "answer on a confidence scale from \u001b[1;36m1\u001b[0m to \u001b[1;36m10\u001b[0m, where \u001b[1;36m1\u001b[0m represents the lowest confidence in the answer's validity and \u001b[1;36m10\u001b[0m\n",
       "represents the highest. If the question or answer is missing, incomplete, appears incorrect, or contains any words \n",
       "that are neither English nor Arabic, respond with \u001b[1;36m0\u001b[0m. Only respond with the evaluation number.\n",
       "\n",
       "Question: كيف يمكن استخدام تقنيات الفضاء الحديثة لتحسين معرفتنا بظواهر الفلك والنجوم؟\n",
       "Positive Answer: يمكننا استخدام تقنيات الفضاء الحديثة مثل الأقمار الصناعية والمراصد الفلكية لتحسين معرفتنا بظواهر \n",
       "الفلك والنجوم، حيث يمكنها توفير صور عالية الدقة وتحليل البيانات الفلكية بشكل دقيق.\n",
       "\n"
      ]
     },
     "metadata": {},
     "output_type": "display_data"
    },
    {
     "data": {
      "text/html": [
       "<pre style=\"white-space:pre;overflow-x:auto;line-height:normal;font-family:Menlo,'DejaVu Sans Mono',consolas,'Courier New',monospace\"><span style=\"color: #008080; text-decoration-color: #008080; font-weight: bold\">10</span>\n",
       "</pre>\n"
      ],
      "text/plain": [
       "\u001b[1;36m10\u001b[0m\n"
      ]
     },
     "metadata": {},
     "output_type": "display_data"
    },
    {
     "data": {
      "text/html": [
       "<pre style=\"white-space:pre;overflow-x:auto;line-height:normal;font-family:Menlo,'DejaVu Sans Mono',consolas,'Courier New',monospace\">Prompt:  \n",
       "Acting as an Arabic language expert and a subject matter expert on the provided question, evaluate the quality of \n",
       "the following positive answer based on its accuracy, relevance, and clarity in addressing the question. Rate the \n",
       "answer on a confidence scale from <span style=\"color: #008080; text-decoration-color: #008080; font-weight: bold\">1</span> to <span style=\"color: #008080; text-decoration-color: #008080; font-weight: bold\">10</span>, where <span style=\"color: #008080; text-decoration-color: #008080; font-weight: bold\">1</span> represents the lowest confidence in the answer's validity and <span style=\"color: #008080; text-decoration-color: #008080; font-weight: bold\">10</span>\n",
       "represents the highest. If the question or answer is missing, incomplete, appears incorrect, or contains any words \n",
       "that are neither English nor Arabic, respond with <span style=\"color: #008080; text-decoration-color: #008080; font-weight: bold\">0</span>. Only respond with the evaluation number.\n",
       "\n",
       "Question: ما هي خصائص الجزيئات في الكيمياء؟\n",
       "Positive Answer: تعتبر الجزيئات في الكيمياء هي الوحدات الأساسية التي تتألف منها المواد، وتتميز بخصائصها الفريدة مثل\n",
       "الشكل والوزن والمادة المكونة لها، وتتحد معًا لتشكيل جزيئات أكبر وتشكيل مادة جديدة.\n",
       "\n",
       "</pre>\n"
      ],
      "text/plain": [
       "Prompt:  \n",
       "Acting as an Arabic language expert and a subject matter expert on the provided question, evaluate the quality of \n",
       "the following positive answer based on its accuracy, relevance, and clarity in addressing the question. Rate the \n",
       "answer on a confidence scale from \u001b[1;36m1\u001b[0m to \u001b[1;36m10\u001b[0m, where \u001b[1;36m1\u001b[0m represents the lowest confidence in the answer's validity and \u001b[1;36m10\u001b[0m\n",
       "represents the highest. If the question or answer is missing, incomplete, appears incorrect, or contains any words \n",
       "that are neither English nor Arabic, respond with \u001b[1;36m0\u001b[0m. Only respond with the evaluation number.\n",
       "\n",
       "Question: ما هي خصائص الجزيئات في الكيمياء؟\n",
       "Positive Answer: تعتبر الجزيئات في الكيمياء هي الوحدات الأساسية التي تتألف منها المواد، وتتميز بخصائصها الفريدة مثل\n",
       "الشكل والوزن والمادة المكونة لها، وتتحد معًا لتشكيل جزيئات أكبر وتشكيل مادة جديدة.\n",
       "\n"
      ]
     },
     "metadata": {},
     "output_type": "display_data"
    },
    {
     "data": {
      "text/html": [
       "<pre style=\"white-space:pre;overflow-x:auto;line-height:normal;font-family:Menlo,'DejaVu Sans Mono',consolas,'Courier New',monospace\"><span style=\"color: #008080; text-decoration-color: #008080; font-weight: bold\">10</span>\n",
       "</pre>\n"
      ],
      "text/plain": [
       "\u001b[1;36m10\u001b[0m\n"
      ]
     },
     "metadata": {},
     "output_type": "display_data"
    },
    {
     "data": {
      "text/html": [
       "<pre style=\"white-space:pre;overflow-x:auto;line-height:normal;font-family:Menlo,'DejaVu Sans Mono',consolas,'Courier New',monospace\">Prompt:  \n",
       "Acting as an Arabic language expert and a subject matter expert on the provided question, evaluate the quality of \n",
       "the following positive answer based on its accuracy, relevance, and clarity in addressing the question. Rate the \n",
       "answer on a confidence scale from <span style=\"color: #008080; text-decoration-color: #008080; font-weight: bold\">1</span> to <span style=\"color: #008080; text-decoration-color: #008080; font-weight: bold\">10</span>, where <span style=\"color: #008080; text-decoration-color: #008080; font-weight: bold\">1</span> represents the lowest confidence in the answer's validity and <span style=\"color: #008080; text-decoration-color: #008080; font-weight: bold\">10</span>\n",
       "represents the highest. If the question or answer is missing, incomplete, appears incorrect, or contains any words \n",
       "that are neither English nor Arabic, respond with <span style=\"color: #008080; text-decoration-color: #008080; font-weight: bold\">0</span>. Only respond with the evaluation number.\n",
       "\n",
       "Question: كم عدد أنواع الجزيئات الموجودة في الطبيعة؟\n",
       "Positive Answer: توجد العديد من أنواع الجزيئات الموجودة في الطبيعة، مثل جزيئات الهيدروجين والكربون والأكسجين التي \n",
       "تشكل جزءًا أساسيًا من الكيمياء الحيوية.\n",
       "\n",
       "</pre>\n"
      ],
      "text/plain": [
       "Prompt:  \n",
       "Acting as an Arabic language expert and a subject matter expert on the provided question, evaluate the quality of \n",
       "the following positive answer based on its accuracy, relevance, and clarity in addressing the question. Rate the \n",
       "answer on a confidence scale from \u001b[1;36m1\u001b[0m to \u001b[1;36m10\u001b[0m, where \u001b[1;36m1\u001b[0m represents the lowest confidence in the answer's validity and \u001b[1;36m10\u001b[0m\n",
       "represents the highest. If the question or answer is missing, incomplete, appears incorrect, or contains any words \n",
       "that are neither English nor Arabic, respond with \u001b[1;36m0\u001b[0m. Only respond with the evaluation number.\n",
       "\n",
       "Question: كم عدد أنواع الجزيئات الموجودة في الطبيعة؟\n",
       "Positive Answer: توجد العديد من أنواع الجزيئات الموجودة في الطبيعة، مثل جزيئات الهيدروجين والكربون والأكسجين التي \n",
       "تشكل جزءًا أساسيًا من الكيمياء الحيوية.\n",
       "\n"
      ]
     },
     "metadata": {},
     "output_type": "display_data"
    },
    {
     "data": {
      "text/html": [
       "<pre style=\"white-space:pre;overflow-x:auto;line-height:normal;font-family:Menlo,'DejaVu Sans Mono',consolas,'Courier New',monospace\"><span style=\"color: #008080; text-decoration-color: #008080; font-weight: bold\">9</span>\n",
       "</pre>\n"
      ],
      "text/plain": [
       "\u001b[1;36m9\u001b[0m\n"
      ]
     },
     "metadata": {},
     "output_type": "display_data"
    },
    {
     "data": {
      "text/html": [
       "<pre style=\"white-space:pre;overflow-x:auto;line-height:normal;font-family:Menlo,'DejaVu Sans Mono',consolas,'Courier New',monospace\">Prompt:  \n",
       "Acting as an Arabic language expert and a subject matter expert on the provided question, evaluate the quality of \n",
       "the following positive answer based on its accuracy, relevance, and clarity in addressing the question. Rate the \n",
       "answer on a confidence scale from <span style=\"color: #008080; text-decoration-color: #008080; font-weight: bold\">1</span> to <span style=\"color: #008080; text-decoration-color: #008080; font-weight: bold\">10</span>, where <span style=\"color: #008080; text-decoration-color: #008080; font-weight: bold\">1</span> represents the lowest confidence in the answer's validity and <span style=\"color: #008080; text-decoration-color: #008080; font-weight: bold\">10</span>\n",
       "represents the highest. If the question or answer is missing, incomplete, appears incorrect, or contains any words \n",
       "that are neither English nor Arabic, respond with <span style=\"color: #008080; text-decoration-color: #008080; font-weight: bold\">0</span>. Only respond with the evaluation number.\n",
       "\n",
       "Question: ما هي أهمية تطبيق مبادئ التنمية المستدامة في المجتمعات الحضرية؟\n",
       "Positive Answer: يعد تطبيق مبادئ التنمية المستدامة في المجتمعات الحضرية أمرًا ضروريًا لضمان الاستدامة البيئية \n",
       "والاقتصادية الاجتماعية، وتحقيق التنمية المستدامة في هذه المجتمعات.\n",
       "\n",
       "</pre>\n"
      ],
      "text/plain": [
       "Prompt:  \n",
       "Acting as an Arabic language expert and a subject matter expert on the provided question, evaluate the quality of \n",
       "the following positive answer based on its accuracy, relevance, and clarity in addressing the question. Rate the \n",
       "answer on a confidence scale from \u001b[1;36m1\u001b[0m to \u001b[1;36m10\u001b[0m, where \u001b[1;36m1\u001b[0m represents the lowest confidence in the answer's validity and \u001b[1;36m10\u001b[0m\n",
       "represents the highest. If the question or answer is missing, incomplete, appears incorrect, or contains any words \n",
       "that are neither English nor Arabic, respond with \u001b[1;36m0\u001b[0m. Only respond with the evaluation number.\n",
       "\n",
       "Question: ما هي أهمية تطبيق مبادئ التنمية المستدامة في المجتمعات الحضرية؟\n",
       "Positive Answer: يعد تطبيق مبادئ التنمية المستدامة في المجتمعات الحضرية أمرًا ضروريًا لضمان الاستدامة البيئية \n",
       "والاقتصادية الاجتماعية، وتحقيق التنمية المستدامة في هذه المجتمعات.\n",
       "\n"
      ]
     },
     "metadata": {},
     "output_type": "display_data"
    },
    {
     "data": {
      "text/html": [
       "<pre style=\"white-space:pre;overflow-x:auto;line-height:normal;font-family:Menlo,'DejaVu Sans Mono',consolas,'Courier New',monospace\"><span style=\"color: #008080; text-decoration-color: #008080; font-weight: bold\">10</span>\n",
       "</pre>\n"
      ],
      "text/plain": [
       "\u001b[1;36m10\u001b[0m\n"
      ]
     },
     "metadata": {},
     "output_type": "display_data"
    },
    {
     "data": {
      "text/html": [
       "<pre style=\"white-space:pre;overflow-x:auto;line-height:normal;font-family:Menlo,'DejaVu Sans Mono',consolas,'Courier New',monospace\">Prompt:  \n",
       "Acting as an Arabic language expert and a subject matter expert on the provided question, evaluate the quality of \n",
       "the following positive answer based on its accuracy, relevance, and clarity in addressing the question. Rate the \n",
       "answer on a confidence scale from <span style=\"color: #008080; text-decoration-color: #008080; font-weight: bold\">1</span> to <span style=\"color: #008080; text-decoration-color: #008080; font-weight: bold\">10</span>, where <span style=\"color: #008080; text-decoration-color: #008080; font-weight: bold\">1</span> represents the lowest confidence in the answer's validity and <span style=\"color: #008080; text-decoration-color: #008080; font-weight: bold\">10</span>\n",
       "represents the highest. If the question or answer is missing, incomplete, appears incorrect, or contains any words \n",
       "that are neither English nor Arabic, respond with <span style=\"color: #008080; text-decoration-color: #008080; font-weight: bold\">0</span>. Only respond with the evaluation number.\n",
       "\n",
       "Question: كيف يمكن أن يؤثر نمو السكان على الموارد الطبيعية والبيئة في المناطق الحضرية؟\n",
       "Positive Answer: يمكن أن يؤثر نمو السكان على الموارد الطبيعية والبيئة في المناطق الحضرية من خلال زيادة الطلب على \n",
       "الأراضي والمياه والطاقة، مما يؤدي إلى التدهور البيئي وزيادة الفقر والاضطرابات الاجتماعية. كما يمكن أن يؤدي هذا \n",
       "النمو إلى زيادة إنتاج المخلفات والتلوث الجوي والصوتي، مما يهدد الصحة العامة للمواطنين.\n",
       "\n",
       "</pre>\n"
      ],
      "text/plain": [
       "Prompt:  \n",
       "Acting as an Arabic language expert and a subject matter expert on the provided question, evaluate the quality of \n",
       "the following positive answer based on its accuracy, relevance, and clarity in addressing the question. Rate the \n",
       "answer on a confidence scale from \u001b[1;36m1\u001b[0m to \u001b[1;36m10\u001b[0m, where \u001b[1;36m1\u001b[0m represents the lowest confidence in the answer's validity and \u001b[1;36m10\u001b[0m\n",
       "represents the highest. If the question or answer is missing, incomplete, appears incorrect, or contains any words \n",
       "that are neither English nor Arabic, respond with \u001b[1;36m0\u001b[0m. Only respond with the evaluation number.\n",
       "\n",
       "Question: كيف يمكن أن يؤثر نمو السكان على الموارد الطبيعية والبيئة في المناطق الحضرية؟\n",
       "Positive Answer: يمكن أن يؤثر نمو السكان على الموارد الطبيعية والبيئة في المناطق الحضرية من خلال زيادة الطلب على \n",
       "الأراضي والمياه والطاقة، مما يؤدي إلى التدهور البيئي وزيادة الفقر والاضطرابات الاجتماعية. كما يمكن أن يؤدي هذا \n",
       "النمو إلى زيادة إنتاج المخلفات والتلوث الجوي والصوتي، مما يهدد الصحة العامة للمواطنين.\n",
       "\n"
      ]
     },
     "metadata": {},
     "output_type": "display_data"
    },
    {
     "data": {
      "text/html": [
       "<pre style=\"white-space:pre;overflow-x:auto;line-height:normal;font-family:Menlo,'DejaVu Sans Mono',consolas,'Courier New',monospace\"><span style=\"color: #008080; text-decoration-color: #008080; font-weight: bold\">10</span>\n",
       "</pre>\n"
      ],
      "text/plain": [
       "\u001b[1;36m10\u001b[0m\n"
      ]
     },
     "metadata": {},
     "output_type": "display_data"
    },
    {
     "data": {
      "text/html": [
       "<pre style=\"white-space:pre;overflow-x:auto;line-height:normal;font-family:Menlo,'DejaVu Sans Mono',consolas,'Courier New',monospace\">Prompt:  \n",
       "Acting as an Arabic language expert and a subject matter expert on the provided question, evaluate the quality of \n",
       "the following positive answer based on its accuracy, relevance, and clarity in addressing the question. Rate the \n",
       "answer on a confidence scale from <span style=\"color: #008080; text-decoration-color: #008080; font-weight: bold\">1</span> to <span style=\"color: #008080; text-decoration-color: #008080; font-weight: bold\">10</span>, where <span style=\"color: #008080; text-decoration-color: #008080; font-weight: bold\">1</span> represents the lowest confidence in the answer's validity and <span style=\"color: #008080; text-decoration-color: #008080; font-weight: bold\">10</span>\n",
       "represents the highest. If the question or answer is missing, incomplete, appears incorrect, or contains any words \n",
       "that are neither English nor Arabic, respond with <span style=\"color: #008080; text-decoration-color: #008080; font-weight: bold\">0</span>. Only respond with the evaluation number.\n",
       "\n",
       "Question: ما هي العلاقة بين القوة والجاذبية فيزيائياً؟\n",
       "Positive Answer: تعتبر القوة والجاذبية من المفاهيم الأساسية في الفيزياء، حيث أن الجاذبية هي قوة طبيعية تؤثر على \n",
       "جميع الأجسام المادة في الكون، وتعتمد قوة الجاذبية بين أجسامتين على كتلة كل جسم وتبعد بينهما. هذا يعني أن أكبر القوى\n",
       "التي يمكن أن نلاحظها في الحياة اليومية هي قوة الجاذبية، والتي تسبب في انحناء الأجسام المادة نحو بعضها البعض.\n",
       "\n",
       "</pre>\n"
      ],
      "text/plain": [
       "Prompt:  \n",
       "Acting as an Arabic language expert and a subject matter expert on the provided question, evaluate the quality of \n",
       "the following positive answer based on its accuracy, relevance, and clarity in addressing the question. Rate the \n",
       "answer on a confidence scale from \u001b[1;36m1\u001b[0m to \u001b[1;36m10\u001b[0m, where \u001b[1;36m1\u001b[0m represents the lowest confidence in the answer's validity and \u001b[1;36m10\u001b[0m\n",
       "represents the highest. If the question or answer is missing, incomplete, appears incorrect, or contains any words \n",
       "that are neither English nor Arabic, respond with \u001b[1;36m0\u001b[0m. Only respond with the evaluation number.\n",
       "\n",
       "Question: ما هي العلاقة بين القوة والجاذبية فيزيائياً؟\n",
       "Positive Answer: تعتبر القوة والجاذبية من المفاهيم الأساسية في الفيزياء، حيث أن الجاذبية هي قوة طبيعية تؤثر على \n",
       "جميع الأجسام المادة في الكون، وتعتمد قوة الجاذبية بين أجسامتين على كتلة كل جسم وتبعد بينهما. هذا يعني أن أكبر القوى\n",
       "التي يمكن أن نلاحظها في الحياة اليومية هي قوة الجاذبية، والتي تسبب في انحناء الأجسام المادة نحو بعضها البعض.\n",
       "\n"
      ]
     },
     "metadata": {},
     "output_type": "display_data"
    },
    {
     "data": {
      "text/html": [
       "<pre style=\"white-space:pre;overflow-x:auto;line-height:normal;font-family:Menlo,'DejaVu Sans Mono',consolas,'Courier New',monospace\"><span style=\"color: #008080; text-decoration-color: #008080; font-weight: bold\">10</span>\n",
       "</pre>\n"
      ],
      "text/plain": [
       "\u001b[1;36m10\u001b[0m\n"
      ]
     },
     "metadata": {},
     "output_type": "display_data"
    },
    {
     "data": {
      "text/html": [
       "<pre style=\"white-space:pre;overflow-x:auto;line-height:normal;font-family:Menlo,'DejaVu Sans Mono',consolas,'Courier New',monospace\">Prompt:  \n",
       "Acting as an Arabic language expert and a subject matter expert on the provided question, evaluate the quality of \n",
       "the following positive answer based on its accuracy, relevance, and clarity in addressing the question. Rate the \n",
       "answer on a confidence scale from <span style=\"color: #008080; text-decoration-color: #008080; font-weight: bold\">1</span> to <span style=\"color: #008080; text-decoration-color: #008080; font-weight: bold\">10</span>, where <span style=\"color: #008080; text-decoration-color: #008080; font-weight: bold\">1</span> represents the lowest confidence in the answer's validity and <span style=\"color: #008080; text-decoration-color: #008080; font-weight: bold\">10</span>\n",
       "represents the highest. If the question or answer is missing, incomplete, appears incorrect, or contains any words \n",
       "that are neither English nor Arabic, respond with <span style=\"color: #008080; text-decoration-color: #008080; font-weight: bold\">0</span>. Only respond with the evaluation number.\n",
       "\n",
       "Question: هل يمكن أن تؤثر الظروف البيئية على قياس المادة في الفيزياء؟\n",
       "Positive Answer: نعم، يمكن أن تؤثر الظروف البيئية على قياس المادة في الفيزياء، حيث يعتمد النتائج على عوامل مثل درجة\n",
       "الحرارة والرطوبة والضوء، مما يتطلب استخدام تقنيات معينة لضمان دقة القياسات.\n",
       "\n",
       "</pre>\n"
      ],
      "text/plain": [
       "Prompt:  \n",
       "Acting as an Arabic language expert and a subject matter expert on the provided question, evaluate the quality of \n",
       "the following positive answer based on its accuracy, relevance, and clarity in addressing the question. Rate the \n",
       "answer on a confidence scale from \u001b[1;36m1\u001b[0m to \u001b[1;36m10\u001b[0m, where \u001b[1;36m1\u001b[0m represents the lowest confidence in the answer's validity and \u001b[1;36m10\u001b[0m\n",
       "represents the highest. If the question or answer is missing, incomplete, appears incorrect, or contains any words \n",
       "that are neither English nor Arabic, respond with \u001b[1;36m0\u001b[0m. Only respond with the evaluation number.\n",
       "\n",
       "Question: هل يمكن أن تؤثر الظروف البيئية على قياس المادة في الفيزياء؟\n",
       "Positive Answer: نعم، يمكن أن تؤثر الظروف البيئية على قياس المادة في الفيزياء، حيث يعتمد النتائج على عوامل مثل درجة\n",
       "الحرارة والرطوبة والضوء، مما يتطلب استخدام تقنيات معينة لضمان دقة القياسات.\n",
       "\n"
      ]
     },
     "metadata": {},
     "output_type": "display_data"
    },
    {
     "data": {
      "text/html": [
       "<pre style=\"white-space:pre;overflow-x:auto;line-height:normal;font-family:Menlo,'DejaVu Sans Mono',consolas,'Courier New',monospace\"><span style=\"color: #008080; text-decoration-color: #008080; font-weight: bold\">10</span>\n",
       "</pre>\n"
      ],
      "text/plain": [
       "\u001b[1;36m10\u001b[0m\n"
      ]
     },
     "metadata": {},
     "output_type": "display_data"
    },
    {
     "data": {
      "text/html": [
       "<pre style=\"white-space:pre;overflow-x:auto;line-height:normal;font-family:Menlo,'DejaVu Sans Mono',consolas,'Courier New',monospace\">Prompt:  \n",
       "Acting as an Arabic language expert and a subject matter expert on the provided question, evaluate the quality of \n",
       "the following positive answer based on its accuracy, relevance, and clarity in addressing the question. Rate the \n",
       "answer on a confidence scale from <span style=\"color: #008080; text-decoration-color: #008080; font-weight: bold\">1</span> to <span style=\"color: #008080; text-decoration-color: #008080; font-weight: bold\">10</span>, where <span style=\"color: #008080; text-decoration-color: #008080; font-weight: bold\">1</span> represents the lowest confidence in the answer's validity and <span style=\"color: #008080; text-decoration-color: #008080; font-weight: bold\">10</span>\n",
       "represents the highest. If the question or answer is missing, incomplete, appears incorrect, or contains any words \n",
       "that are neither English nor Arabic, respond with <span style=\"color: #008080; text-decoration-color: #008080; font-weight: bold\">0</span>. Only respond with the evaluation number.\n",
       "\n",
       "Question: ما هي العوامل التي تؤثر على توازن المكونات في الخلايا الحية؟\n",
       "Positive Answer: تؤثر العوامل الجينية والبيئية على توازن المكونات في الخلايا الحية، حيث يلعب الوراثة دورًا رئيسيًا في\n",
       "تحديد التركيب الكيميائي للخلايا، بينما يؤثر البيئة على التفاعلات بين المكونات وتحسينها.\n",
       "\n",
       "</pre>\n"
      ],
      "text/plain": [
       "Prompt:  \n",
       "Acting as an Arabic language expert and a subject matter expert on the provided question, evaluate the quality of \n",
       "the following positive answer based on its accuracy, relevance, and clarity in addressing the question. Rate the \n",
       "answer on a confidence scale from \u001b[1;36m1\u001b[0m to \u001b[1;36m10\u001b[0m, where \u001b[1;36m1\u001b[0m represents the lowest confidence in the answer's validity and \u001b[1;36m10\u001b[0m\n",
       "represents the highest. If the question or answer is missing, incomplete, appears incorrect, or contains any words \n",
       "that are neither English nor Arabic, respond with \u001b[1;36m0\u001b[0m. Only respond with the evaluation number.\n",
       "\n",
       "Question: ما هي العوامل التي تؤثر على توازن المكونات في الخلايا الحية؟\n",
       "Positive Answer: تؤثر العوامل الجينية والبيئية على توازن المكونات في الخلايا الحية، حيث يلعب الوراثة دورًا رئيسيًا في\n",
       "تحديد التركيب الكيميائي للخلايا، بينما يؤثر البيئة على التفاعلات بين المكونات وتحسينها.\n",
       "\n"
      ]
     },
     "metadata": {},
     "output_type": "display_data"
    },
    {
     "data": {
      "text/html": [
       "<pre style=\"white-space:pre;overflow-x:auto;line-height:normal;font-family:Menlo,'DejaVu Sans Mono',consolas,'Courier New',monospace\"><span style=\"color: #008080; text-decoration-color: #008080; font-weight: bold\">10</span>\n",
       "</pre>\n"
      ],
      "text/plain": [
       "\u001b[1;36m10\u001b[0m\n"
      ]
     },
     "metadata": {},
     "output_type": "display_data"
    },
    {
     "data": {
      "text/html": [
       "<pre style=\"white-space:pre;overflow-x:auto;line-height:normal;font-family:Menlo,'DejaVu Sans Mono',consolas,'Courier New',monospace\">Prompt:  \n",
       "Acting as an Arabic language expert and a subject matter expert on the provided question, evaluate the quality of \n",
       "the following positive answer based on its accuracy, relevance, and clarity in addressing the question. Rate the \n",
       "answer on a confidence scale from <span style=\"color: #008080; text-decoration-color: #008080; font-weight: bold\">1</span> to <span style=\"color: #008080; text-decoration-color: #008080; font-weight: bold\">10</span>, where <span style=\"color: #008080; text-decoration-color: #008080; font-weight: bold\">1</span> represents the lowest confidence in the answer's validity and <span style=\"color: #008080; text-decoration-color: #008080; font-weight: bold\">10</span>\n",
       "represents the highest. If the question or answer is missing, incomplete, appears incorrect, or contains any words \n",
       "that are neither English nor Arabic, respond with <span style=\"color: #008080; text-decoration-color: #008080; font-weight: bold\">0</span>. Only respond with the evaluation number.\n",
       "\n",
       "Question: كيف يتفاعل الجينوم مع البيئة الخارجية لتحقيق التوازن البيولوجي؟\n",
       "Positive Answer: يتفاعل الجينوم مع البيئة الخارجية من خلال التكيف والتعديل لتحقيق التوازن البيولوجي، حيث يتم تنفيذ \n",
       "هذه العملية عن طريق تحليل البيانات الوراثية وتحديد العوامل التي تؤثر على التوازن البيولوجي، مما يسمح بالاستجابة \n",
       "الفعالة للبيئة الخارجية.\n",
       "\n",
       "</pre>\n"
      ],
      "text/plain": [
       "Prompt:  \n",
       "Acting as an Arabic language expert and a subject matter expert on the provided question, evaluate the quality of \n",
       "the following positive answer based on its accuracy, relevance, and clarity in addressing the question. Rate the \n",
       "answer on a confidence scale from \u001b[1;36m1\u001b[0m to \u001b[1;36m10\u001b[0m, where \u001b[1;36m1\u001b[0m represents the lowest confidence in the answer's validity and \u001b[1;36m10\u001b[0m\n",
       "represents the highest. If the question or answer is missing, incomplete, appears incorrect, or contains any words \n",
       "that are neither English nor Arabic, respond with \u001b[1;36m0\u001b[0m. Only respond with the evaluation number.\n",
       "\n",
       "Question: كيف يتفاعل الجينوم مع البيئة الخارجية لتحقيق التوازن البيولوجي؟\n",
       "Positive Answer: يتفاعل الجينوم مع البيئة الخارجية من خلال التكيف والتعديل لتحقيق التوازن البيولوجي، حيث يتم تنفيذ \n",
       "هذه العملية عن طريق تحليل البيانات الوراثية وتحديد العوامل التي تؤثر على التوازن البيولوجي، مما يسمح بالاستجابة \n",
       "الفعالة للبيئة الخارجية.\n",
       "\n"
      ]
     },
     "metadata": {},
     "output_type": "display_data"
    },
    {
     "data": {
      "text/html": [
       "<pre style=\"white-space:pre;overflow-x:auto;line-height:normal;font-family:Menlo,'DejaVu Sans Mono',consolas,'Courier New',monospace\"><span style=\"color: #008080; text-decoration-color: #008080; font-weight: bold\">9</span>\n",
       "</pre>\n"
      ],
      "text/plain": [
       "\u001b[1;36m9\u001b[0m\n"
      ]
     },
     "metadata": {},
     "output_type": "display_data"
    },
    {
     "data": {
      "text/html": [
       "<pre style=\"white-space:pre;overflow-x:auto;line-height:normal;font-family:Menlo,'DejaVu Sans Mono',consolas,'Courier New',monospace\">Prompt:  \n",
       "Acting as an Arabic language expert and a subject matter expert on the provided question, evaluate the quality of \n",
       "the following positive answer based on its accuracy, relevance, and clarity in addressing the question. Rate the \n",
       "answer on a confidence scale from <span style=\"color: #008080; text-decoration-color: #008080; font-weight: bold\">1</span> to <span style=\"color: #008080; text-decoration-color: #008080; font-weight: bold\">10</span>, where <span style=\"color: #008080; text-decoration-color: #008080; font-weight: bold\">1</span> represents the lowest confidence in the answer's validity and <span style=\"color: #008080; text-decoration-color: #008080; font-weight: bold\">10</span>\n",
       "represents the highest. If the question or answer is missing, incomplete, appears incorrect, or contains any words \n",
       "that are neither English nor Arabic, respond with <span style=\"color: #008080; text-decoration-color: #008080; font-weight: bold\">0</span>. Only respond with the evaluation number.\n",
       "\n",
       "Question: ما هي أهمية تعزيز الوعي بالصحة النفسية في المجتمع؟\n",
       "Positive Answer: تعزيز الوعي بالصحة النفسية في المجتمع يعد من الأهمية الأساسية لتحقيق التنمية المستدامة والازدهار \n",
       "الاجتماعي، حيث يساهم في تقليل الإصابات النفسية وتحسين جودة الحياة للفرد والمجتمع ككل.\n",
       "\n",
       "</pre>\n"
      ],
      "text/plain": [
       "Prompt:  \n",
       "Acting as an Arabic language expert and a subject matter expert on the provided question, evaluate the quality of \n",
       "the following positive answer based on its accuracy, relevance, and clarity in addressing the question. Rate the \n",
       "answer on a confidence scale from \u001b[1;36m1\u001b[0m to \u001b[1;36m10\u001b[0m, where \u001b[1;36m1\u001b[0m represents the lowest confidence in the answer's validity and \u001b[1;36m10\u001b[0m\n",
       "represents the highest. If the question or answer is missing, incomplete, appears incorrect, or contains any words \n",
       "that are neither English nor Arabic, respond with \u001b[1;36m0\u001b[0m. Only respond with the evaluation number.\n",
       "\n",
       "Question: ما هي أهمية تعزيز الوعي بالصحة النفسية في المجتمع؟\n",
       "Positive Answer: تعزيز الوعي بالصحة النفسية في المجتمع يعد من الأهمية الأساسية لتحقيق التنمية المستدامة والازدهار \n",
       "الاجتماعي، حيث يساهم في تقليل الإصابات النفسية وتحسين جودة الحياة للفرد والمجتمع ككل.\n",
       "\n"
      ]
     },
     "metadata": {},
     "output_type": "display_data"
    },
    {
     "data": {
      "text/html": [
       "<pre style=\"white-space:pre;overflow-x:auto;line-height:normal;font-family:Menlo,'DejaVu Sans Mono',consolas,'Courier New',monospace\"><span style=\"color: #008080; text-decoration-color: #008080; font-weight: bold\">10</span>\n",
       "</pre>\n"
      ],
      "text/plain": [
       "\u001b[1;36m10\u001b[0m\n"
      ]
     },
     "metadata": {},
     "output_type": "display_data"
    },
    {
     "data": {
      "text/html": [
       "<pre style=\"white-space:pre;overflow-x:auto;line-height:normal;font-family:Menlo,'DejaVu Sans Mono',consolas,'Courier New',monospace\">Prompt:  \n",
       "Acting as an Arabic language expert and a subject matter expert on the provided question, evaluate the quality of \n",
       "the following positive answer based on its accuracy, relevance, and clarity in addressing the question. Rate the \n",
       "answer on a confidence scale from <span style=\"color: #008080; text-decoration-color: #008080; font-weight: bold\">1</span> to <span style=\"color: #008080; text-decoration-color: #008080; font-weight: bold\">10</span>, where <span style=\"color: #008080; text-decoration-color: #008080; font-weight: bold\">1</span> represents the lowest confidence in the answer's validity and <span style=\"color: #008080; text-decoration-color: #008080; font-weight: bold\">10</span>\n",
       "represents the highest. If the question or answer is missing, incomplete, appears incorrect, or contains any words \n",
       "that are neither English nor Arabic, respond with <span style=\"color: #008080; text-decoration-color: #008080; font-weight: bold\">0</span>. Only respond with the evaluation number.\n",
       "\n",
       "Question: كيف يمكن أن تؤثر التكنولوجيا على صحة النفس البشرية؟\n",
       "Positive Answer: يمكن أن تؤثر التكنولوجيا على صحة النفس البشرية من خلال تأثيرها على نمط الحياة والتواصل الاجتماعي، \n",
       "حيث يمكن أن تسهم في زيادة تواصل الأفراد وتحسين نوعية حياتهم، كما يمكن أن تساهم في تحسين الوصول إلى الرعاية الصحية \n",
       "وزيادة الوعي بالصحة النفسية.\n",
       "\n",
       "</pre>\n"
      ],
      "text/plain": [
       "Prompt:  \n",
       "Acting as an Arabic language expert and a subject matter expert on the provided question, evaluate the quality of \n",
       "the following positive answer based on its accuracy, relevance, and clarity in addressing the question. Rate the \n",
       "answer on a confidence scale from \u001b[1;36m1\u001b[0m to \u001b[1;36m10\u001b[0m, where \u001b[1;36m1\u001b[0m represents the lowest confidence in the answer's validity and \u001b[1;36m10\u001b[0m\n",
       "represents the highest. If the question or answer is missing, incomplete, appears incorrect, or contains any words \n",
       "that are neither English nor Arabic, respond with \u001b[1;36m0\u001b[0m. Only respond with the evaluation number.\n",
       "\n",
       "Question: كيف يمكن أن تؤثر التكنولوجيا على صحة النفس البشرية؟\n",
       "Positive Answer: يمكن أن تؤثر التكنولوجيا على صحة النفس البشرية من خلال تأثيرها على نمط الحياة والتواصل الاجتماعي، \n",
       "حيث يمكن أن تسهم في زيادة تواصل الأفراد وتحسين نوعية حياتهم، كما يمكن أن تساهم في تحسين الوصول إلى الرعاية الصحية \n",
       "وزيادة الوعي بالصحة النفسية.\n",
       "\n"
      ]
     },
     "metadata": {},
     "output_type": "display_data"
    },
    {
     "data": {
      "text/html": [
       "<pre style=\"white-space:pre;overflow-x:auto;line-height:normal;font-family:Menlo,'DejaVu Sans Mono',consolas,'Courier New',monospace\"><span style=\"color: #008080; text-decoration-color: #008080; font-weight: bold\">10</span>\n",
       "</pre>\n"
      ],
      "text/plain": [
       "\u001b[1;36m10\u001b[0m\n"
      ]
     },
     "metadata": {},
     "output_type": "display_data"
    },
    {
     "data": {
      "text/html": [
       "<pre style=\"white-space:pre;overflow-x:auto;line-height:normal;font-family:Menlo,'DejaVu Sans Mono',consolas,'Courier New',monospace\">Prompt:  \n",
       "Acting as an Arabic language expert and a subject matter expert on the provided question, evaluate the quality of \n",
       "the following positive answer based on its accuracy, relevance, and clarity in addressing the question. Rate the \n",
       "answer on a confidence scale from <span style=\"color: #008080; text-decoration-color: #008080; font-weight: bold\">1</span> to <span style=\"color: #008080; text-decoration-color: #008080; font-weight: bold\">10</span>, where <span style=\"color: #008080; text-decoration-color: #008080; font-weight: bold\">1</span> represents the lowest confidence in the answer's validity and <span style=\"color: #008080; text-decoration-color: #008080; font-weight: bold\">10</span>\n",
       "represents the highest. If the question or answer is missing, incomplete, appears incorrect, or contains any words \n",
       "that are neither English nor Arabic, respond with <span style=\"color: #008080; text-decoration-color: #008080; font-weight: bold\">0</span>. Only respond with the evaluation number.\n",
       "\n",
       "Question: ما هي دورة حياة المنتجات التكنولوجية وتأثيرها على الصناعة؟\n",
       "Positive Answer: تعتبر دورة حياة المنتجات التكنولوجية مرحلةً متكاملةً من مراحل تطوير وتصنيع وتسويق وترقية منتج \n",
       "تكنولوجي، حيث يبدأ المنتج بمرحلة البحث والتطوير ثم ينتقل إلى مرحلة التصنيع والانتاج، وبعد ذلك يتم تسويقه في السوق، \n",
       "ومن ثم يتم ترقيته لتحسين أدائه أو إضافة ميزات جديدة. وتأثيرها على الصناعة هو أن تؤدي إلى تحسين كفاءة الإنتاج وزيادة\n",
       "competitiveness للمنتج، كما يمكن أن تؤدي إلى خلق فرص عمل جديدة.\n",
       "\n",
       "</pre>\n"
      ],
      "text/plain": [
       "Prompt:  \n",
       "Acting as an Arabic language expert and a subject matter expert on the provided question, evaluate the quality of \n",
       "the following positive answer based on its accuracy, relevance, and clarity in addressing the question. Rate the \n",
       "answer on a confidence scale from \u001b[1;36m1\u001b[0m to \u001b[1;36m10\u001b[0m, where \u001b[1;36m1\u001b[0m represents the lowest confidence in the answer's validity and \u001b[1;36m10\u001b[0m\n",
       "represents the highest. If the question or answer is missing, incomplete, appears incorrect, or contains any words \n",
       "that are neither English nor Arabic, respond with \u001b[1;36m0\u001b[0m. Only respond with the evaluation number.\n",
       "\n",
       "Question: ما هي دورة حياة المنتجات التكنولوجية وتأثيرها على الصناعة؟\n",
       "Positive Answer: تعتبر دورة حياة المنتجات التكنولوجية مرحلةً متكاملةً من مراحل تطوير وتصنيع وتسويق وترقية منتج \n",
       "تكنولوجي، حيث يبدأ المنتج بمرحلة البحث والتطوير ثم ينتقل إلى مرحلة التصنيع والانتاج، وبعد ذلك يتم تسويقه في السوق، \n",
       "ومن ثم يتم ترقيته لتحسين أدائه أو إضافة ميزات جديدة. وتأثيرها على الصناعة هو أن تؤدي إلى تحسين كفاءة الإنتاج وزيادة\n",
       "competitiveness للمنتج، كما يمكن أن تؤدي إلى خلق فرص عمل جديدة.\n",
       "\n"
      ]
     },
     "metadata": {},
     "output_type": "display_data"
    },
    {
     "data": {
      "text/html": [
       "<pre style=\"white-space:pre;overflow-x:auto;line-height:normal;font-family:Menlo,'DejaVu Sans Mono',consolas,'Courier New',monospace\"><span style=\"color: #008080; text-decoration-color: #008080; font-weight: bold\">10</span>\n",
       "</pre>\n"
      ],
      "text/plain": [
       "\u001b[1;36m10\u001b[0m\n"
      ]
     },
     "metadata": {},
     "output_type": "display_data"
    },
    {
     "data": {
      "text/html": [
       "<pre style=\"white-space:pre;overflow-x:auto;line-height:normal;font-family:Menlo,'DejaVu Sans Mono',consolas,'Courier New',monospace\">Prompt:  \n",
       "Acting as an Arabic language expert and a subject matter expert on the provided question, evaluate the quality of \n",
       "the following positive answer based on its accuracy, relevance, and clarity in addressing the question. Rate the \n",
       "answer on a confidence scale from <span style=\"color: #008080; text-decoration-color: #008080; font-weight: bold\">1</span> to <span style=\"color: #008080; text-decoration-color: #008080; font-weight: bold\">10</span>, where <span style=\"color: #008080; text-decoration-color: #008080; font-weight: bold\">1</span> represents the lowest confidence in the answer's validity and <span style=\"color: #008080; text-decoration-color: #008080; font-weight: bold\">10</span>\n",
       "represents the highest. If the question or answer is missing, incomplete, appears incorrect, or contains any words \n",
       "that are neither English nor Arabic, respond with <span style=\"color: #008080; text-decoration-color: #008080; font-weight: bold\">0</span>. Only respond with the evaluation number.\n",
       "\n",
       "Question: كيف يمكن للتقنيات الجديدة مثل الذكاء الاصطناعي والروبوتيات أن تؤثر على سوق العمل في المستقبل؟\n",
       "Positive Answer: سيساهم الذكاء الاصطناعي والروبوتيات في تحسين كفاءة عمليات الشركات وزيادة الإنتاجية، مما يؤدي إلى \n",
       "خلق فرص عمل جديدة وتحديث مهارات العمال. كما سيتمكن العملاء من الوصول إلى خدمات أفضل وذات جودة عالية، مما سيسهم في \n",
       "نمو الاقتصاد والازدهار.\n",
       "\n",
       "</pre>\n"
      ],
      "text/plain": [
       "Prompt:  \n",
       "Acting as an Arabic language expert and a subject matter expert on the provided question, evaluate the quality of \n",
       "the following positive answer based on its accuracy, relevance, and clarity in addressing the question. Rate the \n",
       "answer on a confidence scale from \u001b[1;36m1\u001b[0m to \u001b[1;36m10\u001b[0m, where \u001b[1;36m1\u001b[0m represents the lowest confidence in the answer's validity and \u001b[1;36m10\u001b[0m\n",
       "represents the highest. If the question or answer is missing, incomplete, appears incorrect, or contains any words \n",
       "that are neither English nor Arabic, respond with \u001b[1;36m0\u001b[0m. Only respond with the evaluation number.\n",
       "\n",
       "Question: كيف يمكن للتقنيات الجديدة مثل الذكاء الاصطناعي والروبوتيات أن تؤثر على سوق العمل في المستقبل؟\n",
       "Positive Answer: سيساهم الذكاء الاصطناعي والروبوتيات في تحسين كفاءة عمليات الشركات وزيادة الإنتاجية، مما يؤدي إلى \n",
       "خلق فرص عمل جديدة وتحديث مهارات العمال. كما سيتمكن العملاء من الوصول إلى خدمات أفضل وذات جودة عالية، مما سيسهم في \n",
       "نمو الاقتصاد والازدهار.\n",
       "\n"
      ]
     },
     "metadata": {},
     "output_type": "display_data"
    },
    {
     "data": {
      "text/html": [
       "<pre style=\"white-space:pre;overflow-x:auto;line-height:normal;font-family:Menlo,'DejaVu Sans Mono',consolas,'Courier New',monospace\"><span style=\"color: #008080; text-decoration-color: #008080; font-weight: bold\">9</span>\n",
       "</pre>\n"
      ],
      "text/plain": [
       "\u001b[1;36m9\u001b[0m\n"
      ]
     },
     "metadata": {},
     "output_type": "display_data"
    },
    {
     "data": {
      "text/html": [
       "<pre style=\"white-space:pre;overflow-x:auto;line-height:normal;font-family:Menlo,'DejaVu Sans Mono',consolas,'Courier New',monospace\">Prompt:  \n",
       "Acting as an Arabic language expert and a subject matter expert on the provided question, evaluate the quality of \n",
       "the following positive answer based on its accuracy, relevance, and clarity in addressing the question. Rate the \n",
       "answer on a confidence scale from <span style=\"color: #008080; text-decoration-color: #008080; font-weight: bold\">1</span> to <span style=\"color: #008080; text-decoration-color: #008080; font-weight: bold\">10</span>, where <span style=\"color: #008080; text-decoration-color: #008080; font-weight: bold\">1</span> represents the lowest confidence in the answer's validity and <span style=\"color: #008080; text-decoration-color: #008080; font-weight: bold\">10</span>\n",
       "represents the highest. If the question or answer is missing, incomplete, appears incorrect, or contains any words \n",
       "that are neither English nor Arabic, respond with <span style=\"color: #008080; text-decoration-color: #008080; font-weight: bold\">0</span>. Only respond with the evaluation number.\n",
       "\n",
       "Question: ما هي أهمية الحفاظ على التنوع البيئي في مواجهة تغير المناخ؟\n",
       "Positive Answer: يعد الحفاظ على التنوع البيئي أمرًا حاسمًا في مواجهة تغير المناخ، حيث يسهم في تعزيز قدرة النظام \n",
       "البيئي على الصمود أمام التغيرات الكبيرة التي تسببها تغير المناخ. كما يساعد في الحفاظ على الموارد الطبيعية والخدمات \n",
       "الإيكولوجية التي توفرها للبشر.\n",
       "\n",
       "</pre>\n"
      ],
      "text/plain": [
       "Prompt:  \n",
       "Acting as an Arabic language expert and a subject matter expert on the provided question, evaluate the quality of \n",
       "the following positive answer based on its accuracy, relevance, and clarity in addressing the question. Rate the \n",
       "answer on a confidence scale from \u001b[1;36m1\u001b[0m to \u001b[1;36m10\u001b[0m, where \u001b[1;36m1\u001b[0m represents the lowest confidence in the answer's validity and \u001b[1;36m10\u001b[0m\n",
       "represents the highest. If the question or answer is missing, incomplete, appears incorrect, or contains any words \n",
       "that are neither English nor Arabic, respond with \u001b[1;36m0\u001b[0m. Only respond with the evaluation number.\n",
       "\n",
       "Question: ما هي أهمية الحفاظ على التنوع البيئي في مواجهة تغير المناخ؟\n",
       "Positive Answer: يعد الحفاظ على التنوع البيئي أمرًا حاسمًا في مواجهة تغير المناخ، حيث يسهم في تعزيز قدرة النظام \n",
       "البيئي على الصمود أمام التغيرات الكبيرة التي تسببها تغير المناخ. كما يساعد في الحفاظ على الموارد الطبيعية والخدمات \n",
       "الإيكولوجية التي توفرها للبشر.\n",
       "\n"
      ]
     },
     "metadata": {},
     "output_type": "display_data"
    },
    {
     "data": {
      "text/html": [
       "<pre style=\"white-space:pre;overflow-x:auto;line-height:normal;font-family:Menlo,'DejaVu Sans Mono',consolas,'Courier New',monospace\"><span style=\"color: #008080; text-decoration-color: #008080; font-weight: bold\">10</span>\n",
       "</pre>\n"
      ],
      "text/plain": [
       "\u001b[1;36m10\u001b[0m\n"
      ]
     },
     "metadata": {},
     "output_type": "display_data"
    },
    {
     "data": {
      "text/html": [
       "<pre style=\"white-space:pre;overflow-x:auto;line-height:normal;font-family:Menlo,'DejaVu Sans Mono',consolas,'Courier New',monospace\">Prompt:  \n",
       "Acting as an Arabic language expert and a subject matter expert on the provided question, evaluate the quality of \n",
       "the following positive answer based on its accuracy, relevance, and clarity in addressing the question. Rate the \n",
       "answer on a confidence scale from <span style=\"color: #008080; text-decoration-color: #008080; font-weight: bold\">1</span> to <span style=\"color: #008080; text-decoration-color: #008080; font-weight: bold\">10</span>, where <span style=\"color: #008080; text-decoration-color: #008080; font-weight: bold\">1</span> represents the lowest confidence in the answer's validity and <span style=\"color: #008080; text-decoration-color: #008080; font-weight: bold\">10</span>\n",
       "represents the highest. If the question or answer is missing, incomplete, appears incorrect, or contains any words \n",
       "that are neither English nor Arabic, respond with <span style=\"color: #008080; text-decoration-color: #008080; font-weight: bold\">0</span>. Only respond with the evaluation number.\n",
       "\n",
       "Question: كيف يمكن للسياسات الاقتصادية أن تؤثر على جودة الهواء والتربة في المجتمعات المحلية؟\n",
       "Positive Answer: يمكن للسياسات الاقتصادية أن تؤثر على جودة الهواء والتربة في المجتمعات المحلية من خلال تحديد \n",
       "الأولويات الاقتصادية وتخصيص الموارد لتحسين إدارة النفايات والمواد الكيميائية، مما يؤدي إلى انخفاض التلوث الجوي \n",
       "والتربي. كما يمكن أن تسهم السياسات الاقتصادية في تشجيع الاستدامة البيئية من خلال الحد من استخدام الموارد غير \n",
       "المستدامة وتشجيع تقنيات إنتاج أكثر كفاءة.\n",
       "\n",
       "</pre>\n"
      ],
      "text/plain": [
       "Prompt:  \n",
       "Acting as an Arabic language expert and a subject matter expert on the provided question, evaluate the quality of \n",
       "the following positive answer based on its accuracy, relevance, and clarity in addressing the question. Rate the \n",
       "answer on a confidence scale from \u001b[1;36m1\u001b[0m to \u001b[1;36m10\u001b[0m, where \u001b[1;36m1\u001b[0m represents the lowest confidence in the answer's validity and \u001b[1;36m10\u001b[0m\n",
       "represents the highest. If the question or answer is missing, incomplete, appears incorrect, or contains any words \n",
       "that are neither English nor Arabic, respond with \u001b[1;36m0\u001b[0m. Only respond with the evaluation number.\n",
       "\n",
       "Question: كيف يمكن للسياسات الاقتصادية أن تؤثر على جودة الهواء والتربة في المجتمعات المحلية؟\n",
       "Positive Answer: يمكن للسياسات الاقتصادية أن تؤثر على جودة الهواء والتربة في المجتمعات المحلية من خلال تحديد \n",
       "الأولويات الاقتصادية وتخصيص الموارد لتحسين إدارة النفايات والمواد الكيميائية، مما يؤدي إلى انخفاض التلوث الجوي \n",
       "والتربي. كما يمكن أن تسهم السياسات الاقتصادية في تشجيع الاستدامة البيئية من خلال الحد من استخدام الموارد غير \n",
       "المستدامة وتشجيع تقنيات إنتاج أكثر كفاءة.\n",
       "\n"
      ]
     },
     "metadata": {},
     "output_type": "display_data"
    },
    {
     "data": {
      "text/html": [
       "<pre style=\"white-space:pre;overflow-x:auto;line-height:normal;font-family:Menlo,'DejaVu Sans Mono',consolas,'Courier New',monospace\"><span style=\"color: #008080; text-decoration-color: #008080; font-weight: bold\">10</span>\n",
       "</pre>\n"
      ],
      "text/plain": [
       "\u001b[1;36m10\u001b[0m\n"
      ]
     },
     "metadata": {},
     "output_type": "display_data"
    },
    {
     "data": {
      "text/html": [
       "<pre style=\"white-space:pre;overflow-x:auto;line-height:normal;font-family:Menlo,'DejaVu Sans Mono',consolas,'Courier New',monospace\">Prompt:  \n",
       "Acting as an Arabic language expert and a subject matter expert on the provided question, evaluate the quality of \n",
       "the following positive answer based on its accuracy, relevance, and clarity in addressing the question. Rate the \n",
       "answer on a confidence scale from <span style=\"color: #008080; text-decoration-color: #008080; font-weight: bold\">1</span> to <span style=\"color: #008080; text-decoration-color: #008080; font-weight: bold\">10</span>, where <span style=\"color: #008080; text-decoration-color: #008080; font-weight: bold\">1</span> represents the lowest confidence in the answer's validity and <span style=\"color: #008080; text-decoration-color: #008080; font-weight: bold\">10</span>\n",
       "represents the highest. If the question or answer is missing, incomplete, appears incorrect, or contains any words \n",
       "that are neither English nor Arabic, respond with <span style=\"color: #008080; text-decoration-color: #008080; font-weight: bold\">0</span>. Only respond with the evaluation number.\n",
       "\n",
       "Question: ما هي أهمية دراسة تأثيرات التغير المناخي على البيئة في الدول النامية؟\n",
       "Positive Answer: إن دراسة تأثيرات التغير المناخي على البيئة في الدول النامية من الأهمية الكبرى، حيث يمكن أن تساعد \n",
       "في تحسين الاستدامة البيئية وتقليل الآثار السلبية للبيئة. كما يمكن أن تساهم في توفير فرص عمل جديدة في مجال الصحة \n",
       "العامة والبيئة، مما يسهم في التنمية الاقتصادية والاجتماعية.\n",
       "\n",
       "</pre>\n"
      ],
      "text/plain": [
       "Prompt:  \n",
       "Acting as an Arabic language expert and a subject matter expert on the provided question, evaluate the quality of \n",
       "the following positive answer based on its accuracy, relevance, and clarity in addressing the question. Rate the \n",
       "answer on a confidence scale from \u001b[1;36m1\u001b[0m to \u001b[1;36m10\u001b[0m, where \u001b[1;36m1\u001b[0m represents the lowest confidence in the answer's validity and \u001b[1;36m10\u001b[0m\n",
       "represents the highest. If the question or answer is missing, incomplete, appears incorrect, or contains any words \n",
       "that are neither English nor Arabic, respond with \u001b[1;36m0\u001b[0m. Only respond with the evaluation number.\n",
       "\n",
       "Question: ما هي أهمية دراسة تأثيرات التغير المناخي على البيئة في الدول النامية؟\n",
       "Positive Answer: إن دراسة تأثيرات التغير المناخي على البيئة في الدول النامية من الأهمية الكبرى، حيث يمكن أن تساعد \n",
       "في تحسين الاستدامة البيئية وتقليل الآثار السلبية للبيئة. كما يمكن أن تساهم في توفير فرص عمل جديدة في مجال الصحة \n",
       "العامة والبيئة، مما يسهم في التنمية الاقتصادية والاجتماعية.\n",
       "\n"
      ]
     },
     "metadata": {},
     "output_type": "display_data"
    },
    {
     "data": {
      "text/html": [
       "<pre style=\"white-space:pre;overflow-x:auto;line-height:normal;font-family:Menlo,'DejaVu Sans Mono',consolas,'Courier New',monospace\"><span style=\"color: #008080; text-decoration-color: #008080; font-weight: bold\">10</span>\n",
       "</pre>\n"
      ],
      "text/plain": [
       "\u001b[1;36m10\u001b[0m\n"
      ]
     },
     "metadata": {},
     "output_type": "display_data"
    },
    {
     "data": {
      "text/html": [
       "<pre style=\"white-space:pre;overflow-x:auto;line-height:normal;font-family:Menlo,'DejaVu Sans Mono',consolas,'Courier New',monospace\">Prompt:  \n",
       "Acting as an Arabic language expert and a subject matter expert on the provided question, evaluate the quality of \n",
       "the following positive answer based on its accuracy, relevance, and clarity in addressing the question. Rate the \n",
       "answer on a confidence scale from <span style=\"color: #008080; text-decoration-color: #008080; font-weight: bold\">1</span> to <span style=\"color: #008080; text-decoration-color: #008080; font-weight: bold\">10</span>, where <span style=\"color: #008080; text-decoration-color: #008080; font-weight: bold\">1</span> represents the lowest confidence in the answer's validity and <span style=\"color: #008080; text-decoration-color: #008080; font-weight: bold\">10</span>\n",
       "represents the highest. If the question or answer is missing, incomplete, appears incorrect, or contains any words \n",
       "that are neither English nor Arabic, respond with <span style=\"color: #008080; text-decoration-color: #008080; font-weight: bold\">0</span>. Only respond with the evaluation number.\n",
       "\n",
       "Question: هل يمكن أن يؤدي زيادة مستويات الطاقة الشمسية إلى تقليل الاعتماد على الوقود الأحفوري؟\n",
       "Positive Answer: يمكن أن يؤدي زيادة مستويات الطاقة الشمسية إلى تقليل الاعتماد على الوقود الأحفوري، حيث يمكن استخدام\n",
       "الطاقة الشمسية ك источاء للطاقة المتجددة التي لا تتأثر بالظروف الجوية أو الجغرافية، مما يقلل من الاعتماد على الوقود\n",
       "الأحفوري ويسهم في الحفاظ على البيئة.\n",
       "\n",
       "</pre>\n"
      ],
      "text/plain": [
       "Prompt:  \n",
       "Acting as an Arabic language expert and a subject matter expert on the provided question, evaluate the quality of \n",
       "the following positive answer based on its accuracy, relevance, and clarity in addressing the question. Rate the \n",
       "answer on a confidence scale from \u001b[1;36m1\u001b[0m to \u001b[1;36m10\u001b[0m, where \u001b[1;36m1\u001b[0m represents the lowest confidence in the answer's validity and \u001b[1;36m10\u001b[0m\n",
       "represents the highest. If the question or answer is missing, incomplete, appears incorrect, or contains any words \n",
       "that are neither English nor Arabic, respond with \u001b[1;36m0\u001b[0m. Only respond with the evaluation number.\n",
       "\n",
       "Question: هل يمكن أن يؤدي زيادة مستويات الطاقة الشمسية إلى تقليل الاعتماد على الوقود الأحفوري؟\n",
       "Positive Answer: يمكن أن يؤدي زيادة مستويات الطاقة الشمسية إلى تقليل الاعتماد على الوقود الأحفوري، حيث يمكن استخدام\n",
       "الطاقة الشمسية ك источاء للطاقة المتجددة التي لا تتأثر بالظروف الجوية أو الجغرافية، مما يقلل من الاعتماد على الوقود\n",
       "الأحفوري ويسهم في الحفاظ على البيئة.\n",
       "\n"
      ]
     },
     "metadata": {},
     "output_type": "display_data"
    },
    {
     "data": {
      "text/html": [
       "<pre style=\"white-space:pre;overflow-x:auto;line-height:normal;font-family:Menlo,'DejaVu Sans Mono',consolas,'Courier New',monospace\"><span style=\"color: #008080; text-decoration-color: #008080; font-weight: bold\">10</span>\n",
       "</pre>\n"
      ],
      "text/plain": [
       "\u001b[1;36m10\u001b[0m\n"
      ]
     },
     "metadata": {},
     "output_type": "display_data"
    },
    {
     "data": {
      "text/html": [
       "<pre style=\"white-space:pre;overflow-x:auto;line-height:normal;font-family:Menlo,'DejaVu Sans Mono',consolas,'Courier New',monospace\">Prompt:  \n",
       "Acting as an Arabic language expert and a subject matter expert on the provided question, evaluate the quality of \n",
       "the following positive answer based on its accuracy, relevance, and clarity in addressing the question. Rate the \n",
       "answer on a confidence scale from <span style=\"color: #008080; text-decoration-color: #008080; font-weight: bold\">1</span> to <span style=\"color: #008080; text-decoration-color: #008080; font-weight: bold\">10</span>, where <span style=\"color: #008080; text-decoration-color: #008080; font-weight: bold\">1</span> represents the lowest confidence in the answer's validity and <span style=\"color: #008080; text-decoration-color: #008080; font-weight: bold\">10</span>\n",
       "represents the highest. If the question or answer is missing, incomplete, appears incorrect, or contains any words \n",
       "that are neither English nor Arabic, respond with <span style=\"color: #008080; text-decoration-color: #008080; font-weight: bold\">0</span>. Only respond with the evaluation number.\n",
       "\n",
       "Question: ما هي أهمية التعلم الرياضي في الحياة اليومية؟\n",
       "Positive Answer: يعد التعلم الرياضي من أهم المهارات التي يجب أن يتمتع بها الفرد في الحياة اليومية، حيث يساعده على \n",
       "التميز والتفوق في مختلف المجالات، ويسهم في تطوير مهاراته الذهنية والجسدية، مما يجعله قادرًا على مواجهة التحديات \n",
       "والمشكلات بفعالية.\n",
       "\n",
       "</pre>\n"
      ],
      "text/plain": [
       "Prompt:  \n",
       "Acting as an Arabic language expert and a subject matter expert on the provided question, evaluate the quality of \n",
       "the following positive answer based on its accuracy, relevance, and clarity in addressing the question. Rate the \n",
       "answer on a confidence scale from \u001b[1;36m1\u001b[0m to \u001b[1;36m10\u001b[0m, where \u001b[1;36m1\u001b[0m represents the lowest confidence in the answer's validity and \u001b[1;36m10\u001b[0m\n",
       "represents the highest. If the question or answer is missing, incomplete, appears incorrect, or contains any words \n",
       "that are neither English nor Arabic, respond with \u001b[1;36m0\u001b[0m. Only respond with the evaluation number.\n",
       "\n",
       "Question: ما هي أهمية التعلم الرياضي في الحياة اليومية؟\n",
       "Positive Answer: يعد التعلم الرياضي من أهم المهارات التي يجب أن يتمتع بها الفرد في الحياة اليومية، حيث يساعده على \n",
       "التميز والتفوق في مختلف المجالات، ويسهم في تطوير مهاراته الذهنية والجسدية، مما يجعله قادرًا على مواجهة التحديات \n",
       "والمشكلات بفعالية.\n",
       "\n"
      ]
     },
     "metadata": {},
     "output_type": "display_data"
    },
    {
     "data": {
      "text/html": [
       "<pre style=\"white-space:pre;overflow-x:auto;line-height:normal;font-family:Menlo,'DejaVu Sans Mono',consolas,'Courier New',monospace\"><span style=\"color: #008080; text-decoration-color: #008080; font-weight: bold\">10</span>\n",
       "</pre>\n"
      ],
      "text/plain": [
       "\u001b[1;36m10\u001b[0m\n"
      ]
     },
     "metadata": {},
     "output_type": "display_data"
    },
    {
     "data": {
      "text/html": [
       "<pre style=\"white-space:pre;overflow-x:auto;line-height:normal;font-family:Menlo,'DejaVu Sans Mono',consolas,'Courier New',monospace\">Prompt:  \n",
       "Acting as an Arabic language expert and a subject matter expert on the provided question, evaluate the quality of \n",
       "the following positive answer based on its accuracy, relevance, and clarity in addressing the question. Rate the \n",
       "answer on a confidence scale from <span style=\"color: #008080; text-decoration-color: #008080; font-weight: bold\">1</span> to <span style=\"color: #008080; text-decoration-color: #008080; font-weight: bold\">10</span>, where <span style=\"color: #008080; text-decoration-color: #008080; font-weight: bold\">1</span> represents the lowest confidence in the answer's validity and <span style=\"color: #008080; text-decoration-color: #008080; font-weight: bold\">10</span>\n",
       "represents the highest. If the question or answer is missing, incomplete, appears incorrect, or contains any words \n",
       "that are neither English nor Arabic, respond with <span style=\"color: #008080; text-decoration-color: #008080; font-weight: bold\">0</span>. Only respond with the evaluation number.\n",
       "\n",
       "Question: كيف يمكن أن تُستخدم الرياضيات في حل المشكلات البيئية؟\n",
       "Positive Answer: يمكن استخدام الرياضيات في حل المشكلات البيئية من خلال تحليل البيانات والتنبؤ بالتغيرات المستقبلية \n",
       "وتطوير الاستراتيجيات الفعالة للحد من التأثير السلبي على البيئة.\n",
       "\n",
       "</pre>\n"
      ],
      "text/plain": [
       "Prompt:  \n",
       "Acting as an Arabic language expert and a subject matter expert on the provided question, evaluate the quality of \n",
       "the following positive answer based on its accuracy, relevance, and clarity in addressing the question. Rate the \n",
       "answer on a confidence scale from \u001b[1;36m1\u001b[0m to \u001b[1;36m10\u001b[0m, where \u001b[1;36m1\u001b[0m represents the lowest confidence in the answer's validity and \u001b[1;36m10\u001b[0m\n",
       "represents the highest. If the question or answer is missing, incomplete, appears incorrect, or contains any words \n",
       "that are neither English nor Arabic, respond with \u001b[1;36m0\u001b[0m. Only respond with the evaluation number.\n",
       "\n",
       "Question: كيف يمكن أن تُستخدم الرياضيات في حل المشكلات البيئية؟\n",
       "Positive Answer: يمكن استخدام الرياضيات في حل المشكلات البيئية من خلال تحليل البيانات والتنبؤ بالتغيرات المستقبلية \n",
       "وتطوير الاستراتيجيات الفعالة للحد من التأثير السلبي على البيئة.\n",
       "\n"
      ]
     },
     "metadata": {},
     "output_type": "display_data"
    },
    {
     "data": {
      "text/html": [
       "<pre style=\"white-space:pre;overflow-x:auto;line-height:normal;font-family:Menlo,'DejaVu Sans Mono',consolas,'Courier New',monospace\"><span style=\"color: #008080; text-decoration-color: #008080; font-weight: bold\">10</span>\n",
       "</pre>\n"
      ],
      "text/plain": [
       "\u001b[1;36m10\u001b[0m\n"
      ]
     },
     "metadata": {},
     "output_type": "display_data"
    },
    {
     "data": {
      "text/html": [
       "<pre style=\"white-space:pre;overflow-x:auto;line-height:normal;font-family:Menlo,'DejaVu Sans Mono',consolas,'Courier New',monospace\">Prompt:  \n",
       "Acting as an Arabic language expert and a subject matter expert on the provided question, evaluate the quality of \n",
       "the following positive answer based on its accuracy, relevance, and clarity in addressing the question. Rate the \n",
       "answer on a confidence scale from <span style=\"color: #008080; text-decoration-color: #008080; font-weight: bold\">1</span> to <span style=\"color: #008080; text-decoration-color: #008080; font-weight: bold\">10</span>, where <span style=\"color: #008080; text-decoration-color: #008080; font-weight: bold\">1</span> represents the lowest confidence in the answer's validity and <span style=\"color: #008080; text-decoration-color: #008080; font-weight: bold\">10</span>\n",
       "represents the highest. If the question or answer is missing, incomplete, appears incorrect, or contains any words \n",
       "that are neither English nor Arabic, respond with <span style=\"color: #008080; text-decoration-color: #008080; font-weight: bold\">0</span>. Only respond with the evaluation number.\n",
       "\n",
       "Question: ما هي التغيرات التي طرأت على سطح الأرض منذ العصر الحجري؟\n",
       "Positive Answer: تسببت التغيرات الجيولوجية والبيئية في تغيير شكل سطح الأرض منذ العصر الحجري، حيث أدت عمليات التعرية\n",
       "والترسيب إلى تشكيل منحدرات ووديان جديدة، كما أدى التغييرات المناخية إلى ظهور مناطق جبلية ومستنقعات.\n",
       "\n",
       "</pre>\n"
      ],
      "text/plain": [
       "Prompt:  \n",
       "Acting as an Arabic language expert and a subject matter expert on the provided question, evaluate the quality of \n",
       "the following positive answer based on its accuracy, relevance, and clarity in addressing the question. Rate the \n",
       "answer on a confidence scale from \u001b[1;36m1\u001b[0m to \u001b[1;36m10\u001b[0m, where \u001b[1;36m1\u001b[0m represents the lowest confidence in the answer's validity and \u001b[1;36m10\u001b[0m\n",
       "represents the highest. If the question or answer is missing, incomplete, appears incorrect, or contains any words \n",
       "that are neither English nor Arabic, respond with \u001b[1;36m0\u001b[0m. Only respond with the evaluation number.\n",
       "\n",
       "Question: ما هي التغيرات التي طرأت على سطح الأرض منذ العصر الحجري؟\n",
       "Positive Answer: تسببت التغيرات الجيولوجية والبيئية في تغيير شكل سطح الأرض منذ العصر الحجري، حيث أدت عمليات التعرية\n",
       "والترسيب إلى تشكيل منحدرات ووديان جديدة، كما أدى التغييرات المناخية إلى ظهور مناطق جبلية ومستنقعات.\n",
       "\n"
      ]
     },
     "metadata": {},
     "output_type": "display_data"
    },
    {
     "data": {
      "text/html": [
       "<pre style=\"white-space:pre;overflow-x:auto;line-height:normal;font-family:Menlo,'DejaVu Sans Mono',consolas,'Courier New',monospace\"><span style=\"color: #008080; text-decoration-color: #008080; font-weight: bold\">9</span>\n",
       "</pre>\n"
      ],
      "text/plain": [
       "\u001b[1;36m9\u001b[0m\n"
      ]
     },
     "metadata": {},
     "output_type": "display_data"
    },
    {
     "data": {
      "text/html": [
       "<pre style=\"white-space:pre;overflow-x:auto;line-height:normal;font-family:Menlo,'DejaVu Sans Mono',consolas,'Courier New',monospace\">Prompt:  \n",
       "Acting as an Arabic language expert and a subject matter expert on the provided question, evaluate the quality of \n",
       "the following positive answer based on its accuracy, relevance, and clarity in addressing the question. Rate the \n",
       "answer on a confidence scale from <span style=\"color: #008080; text-decoration-color: #008080; font-weight: bold\">1</span> to <span style=\"color: #008080; text-decoration-color: #008080; font-weight: bold\">10</span>, where <span style=\"color: #008080; text-decoration-color: #008080; font-weight: bold\">1</span> represents the lowest confidence in the answer's validity and <span style=\"color: #008080; text-decoration-color: #008080; font-weight: bold\">10</span>\n",
       "represents the highest. If the question or answer is missing, incomplete, appears incorrect, or contains any words \n",
       "that are neither English nor Arabic, respond with <span style=\"color: #008080; text-decoration-color: #008080; font-weight: bold\">0</span>. Only respond with the evaluation number.\n",
       "\n",
       "Question: كيف تؤثر العمليات الجيولوجية على البيئة المحيطة بالمناطق الساحلية؟\n",
       "Positive Answer: تؤثر العمليات الجيولوجية على البيئة المحيطة بالمناطق الساحلية من خلال تغييرات في الشواطئ والجزر \n",
       "والخليج، مما يؤدي إلى تأثيرات محتملة على النظم الإيكولوجية والمصادر الطبيعية.\n",
       "\n",
       "</pre>\n"
      ],
      "text/plain": [
       "Prompt:  \n",
       "Acting as an Arabic language expert and a subject matter expert on the provided question, evaluate the quality of \n",
       "the following positive answer based on its accuracy, relevance, and clarity in addressing the question. Rate the \n",
       "answer on a confidence scale from \u001b[1;36m1\u001b[0m to \u001b[1;36m10\u001b[0m, where \u001b[1;36m1\u001b[0m represents the lowest confidence in the answer's validity and \u001b[1;36m10\u001b[0m\n",
       "represents the highest. If the question or answer is missing, incomplete, appears incorrect, or contains any words \n",
       "that are neither English nor Arabic, respond with \u001b[1;36m0\u001b[0m. Only respond with the evaluation number.\n",
       "\n",
       "Question: كيف تؤثر العمليات الجيولوجية على البيئة المحيطة بالمناطق الساحلية؟\n",
       "Positive Answer: تؤثر العمليات الجيولوجية على البيئة المحيطة بالمناطق الساحلية من خلال تغييرات في الشواطئ والجزر \n",
       "والخليج، مما يؤدي إلى تأثيرات محتملة على النظم الإيكولوجية والمصادر الطبيعية.\n",
       "\n"
      ]
     },
     "metadata": {},
     "output_type": "display_data"
    },
    {
     "data": {
      "text/html": [
       "<pre style=\"white-space:pre;overflow-x:auto;line-height:normal;font-family:Menlo,'DejaVu Sans Mono',consolas,'Courier New',monospace\"><span style=\"color: #008080; text-decoration-color: #008080; font-weight: bold\">10</span>\n",
       "</pre>\n"
      ],
      "text/plain": [
       "\u001b[1;36m10\u001b[0m\n"
      ]
     },
     "metadata": {},
     "output_type": "display_data"
    },
    {
     "data": {
      "text/html": [
       "<pre style=\"white-space:pre;overflow-x:auto;line-height:normal;font-family:Menlo,'DejaVu Sans Mono',consolas,'Courier New',monospace\">Prompt:  \n",
       "Acting as an Arabic language expert and a subject matter expert on the provided question, evaluate the quality of \n",
       "the following positive answer based on its accuracy, relevance, and clarity in addressing the question. Rate the \n",
       "answer on a confidence scale from <span style=\"color: #008080; text-decoration-color: #008080; font-weight: bold\">1</span> to <span style=\"color: #008080; text-decoration-color: #008080; font-weight: bold\">10</span>, where <span style=\"color: #008080; text-decoration-color: #008080; font-weight: bold\">1</span> represents the lowest confidence in the answer's validity and <span style=\"color: #008080; text-decoration-color: #008080; font-weight: bold\">10</span>\n",
       "represents the highest. If the question or answer is missing, incomplete, appears incorrect, or contains any words \n",
       "that are neither English nor Arabic, respond with <span style=\"color: #008080; text-decoration-color: #008080; font-weight: bold\">0</span>. Only respond with the evaluation number.\n",
       "\n",
       "Question: ما هي أهمية التوعية بالصحة النفسية في المجتمع؟\n",
       "Positive Answer: تعتبر التوعية بالصحة النفسية في المجتمع أمرًا ضروريًا لتحقيق الاستقرار والسلامة النفسية للفرد، حيث\n",
       "تسهم في زيادة الوعي بأهمية الحماية من الأمراض النفسية وتقليل الأثر السلبي لها على الفرد والمجتمع.\n",
       "\n",
       "</pre>\n"
      ],
      "text/plain": [
       "Prompt:  \n",
       "Acting as an Arabic language expert and a subject matter expert on the provided question, evaluate the quality of \n",
       "the following positive answer based on its accuracy, relevance, and clarity in addressing the question. Rate the \n",
       "answer on a confidence scale from \u001b[1;36m1\u001b[0m to \u001b[1;36m10\u001b[0m, where \u001b[1;36m1\u001b[0m represents the lowest confidence in the answer's validity and \u001b[1;36m10\u001b[0m\n",
       "represents the highest. If the question or answer is missing, incomplete, appears incorrect, or contains any words \n",
       "that are neither English nor Arabic, respond with \u001b[1;36m0\u001b[0m. Only respond with the evaluation number.\n",
       "\n",
       "Question: ما هي أهمية التوعية بالصحة النفسية في المجتمع؟\n",
       "Positive Answer: تعتبر التوعية بالصحة النفسية في المجتمع أمرًا ضروريًا لتحقيق الاستقرار والسلامة النفسية للفرد، حيث\n",
       "تسهم في زيادة الوعي بأهمية الحماية من الأمراض النفسية وتقليل الأثر السلبي لها على الفرد والمجتمع.\n",
       "\n"
      ]
     },
     "metadata": {},
     "output_type": "display_data"
    },
    {
     "data": {
      "text/html": [
       "<pre style=\"white-space:pre;overflow-x:auto;line-height:normal;font-family:Menlo,'DejaVu Sans Mono',consolas,'Courier New',monospace\"><span style=\"color: #008080; text-decoration-color: #008080; font-weight: bold\">10</span>\n",
       "</pre>\n"
      ],
      "text/plain": [
       "\u001b[1;36m10\u001b[0m\n"
      ]
     },
     "metadata": {},
     "output_type": "display_data"
    },
    {
     "data": {
      "text/html": [
       "<pre style=\"white-space:pre;overflow-x:auto;line-height:normal;font-family:Menlo,'DejaVu Sans Mono',consolas,'Courier New',monospace\">Prompt:  \n",
       "Acting as an Arabic language expert and a subject matter expert on the provided question, evaluate the quality of \n",
       "the following positive answer based on its accuracy, relevance, and clarity in addressing the question. Rate the \n",
       "answer on a confidence scale from <span style=\"color: #008080; text-decoration-color: #008080; font-weight: bold\">1</span> to <span style=\"color: #008080; text-decoration-color: #008080; font-weight: bold\">10</span>, where <span style=\"color: #008080; text-decoration-color: #008080; font-weight: bold\">1</span> represents the lowest confidence in the answer's validity and <span style=\"color: #008080; text-decoration-color: #008080; font-weight: bold\">10</span>\n",
       "represents the highest. If the question or answer is missing, incomplete, appears incorrect, or contains any words \n",
       "that are neither English nor Arabic, respond with <span style=\"color: #008080; text-decoration-color: #008080; font-weight: bold\">0</span>. Only respond with the evaluation number.\n",
       "\n",
       "Question: كيف يمكن أن تؤثر العوامل البيئية على الصحة النفسية للفرد؟\n",
       "Positive Answer: يمكن أن تؤثر العوامل البيئية على الصحة النفسية للفرد من خلال تأثيرها على مستويات التوتر والقلق، \n",
       "حيث يمكن أن يؤدي تغير المناخ أو التلوث إلى زيادة مستويات التوتر لدى الفرد مما يؤثر سلبًا على صحته النفسية. كما يمكن\n",
       "أن تؤثر العوامل البيئية على نمط الحياة اليومي للفرد، مما قد يؤدي إلى تغييرات في نمط النوم أو النظام الغذائي، مما \n",
       "يؤثر بدوره على الصحة النفسية.\n",
       "\n",
       "</pre>\n"
      ],
      "text/plain": [
       "Prompt:  \n",
       "Acting as an Arabic language expert and a subject matter expert on the provided question, evaluate the quality of \n",
       "the following positive answer based on its accuracy, relevance, and clarity in addressing the question. Rate the \n",
       "answer on a confidence scale from \u001b[1;36m1\u001b[0m to \u001b[1;36m10\u001b[0m, where \u001b[1;36m1\u001b[0m represents the lowest confidence in the answer's validity and \u001b[1;36m10\u001b[0m\n",
       "represents the highest. If the question or answer is missing, incomplete, appears incorrect, or contains any words \n",
       "that are neither English nor Arabic, respond with \u001b[1;36m0\u001b[0m. Only respond with the evaluation number.\n",
       "\n",
       "Question: كيف يمكن أن تؤثر العوامل البيئية على الصحة النفسية للفرد؟\n",
       "Positive Answer: يمكن أن تؤثر العوامل البيئية على الصحة النفسية للفرد من خلال تأثيرها على مستويات التوتر والقلق، \n",
       "حيث يمكن أن يؤدي تغير المناخ أو التلوث إلى زيادة مستويات التوتر لدى الفرد مما يؤثر سلبًا على صحته النفسية. كما يمكن\n",
       "أن تؤثر العوامل البيئية على نمط الحياة اليومي للفرد، مما قد يؤدي إلى تغييرات في نمط النوم أو النظام الغذائي، مما \n",
       "يؤثر بدوره على الصحة النفسية.\n",
       "\n"
      ]
     },
     "metadata": {},
     "output_type": "display_data"
    },
    {
     "data": {
      "text/html": [
       "<pre style=\"white-space:pre;overflow-x:auto;line-height:normal;font-family:Menlo,'DejaVu Sans Mono',consolas,'Courier New',monospace\"><span style=\"color: #008080; text-decoration-color: #008080; font-weight: bold\">10</span>\n",
       "</pre>\n"
      ],
      "text/plain": [
       "\u001b[1;36m10\u001b[0m\n"
      ]
     },
     "metadata": {},
     "output_type": "display_data"
    },
    {
     "data": {
      "text/html": [
       "<pre style=\"white-space:pre;overflow-x:auto;line-height:normal;font-family:Menlo,'DejaVu Sans Mono',consolas,'Courier New',monospace\">Prompt:  \n",
       "Acting as an Arabic language expert and a subject matter expert on the provided question, evaluate the quality of \n",
       "the following positive answer based on its accuracy, relevance, and clarity in addressing the question. Rate the \n",
       "answer on a confidence scale from <span style=\"color: #008080; text-decoration-color: #008080; font-weight: bold\">1</span> to <span style=\"color: #008080; text-decoration-color: #008080; font-weight: bold\">10</span>, where <span style=\"color: #008080; text-decoration-color: #008080; font-weight: bold\">1</span> represents the lowest confidence in the answer's validity and <span style=\"color: #008080; text-decoration-color: #008080; font-weight: bold\">10</span>\n",
       "represents the highest. If the question or answer is missing, incomplete, appears incorrect, or contains any words \n",
       "that are neither English nor Arabic, respond with <span style=\"color: #008080; text-decoration-color: #008080; font-weight: bold\">0</span>. Only respond with the evaluation number.\n",
       "\n",
       "Question: ما هي أهمية دراسة الأحياء في المجتمع؟\n",
       "Positive Answer: تعتبر دراسة الأحياء في المجتمع من أهمية كبيرة، حيث تساهم في فهم وتحليل البيئة والمنظومة \n",
       "الإيكولوجية التي نعيش فيها، مما يساعد على اتخاذ القرارات الصحية والبيئية المناسبة لتحسين جودة الحياة.\n",
       "\n",
       "</pre>\n"
      ],
      "text/plain": [
       "Prompt:  \n",
       "Acting as an Arabic language expert and a subject matter expert on the provided question, evaluate the quality of \n",
       "the following positive answer based on its accuracy, relevance, and clarity in addressing the question. Rate the \n",
       "answer on a confidence scale from \u001b[1;36m1\u001b[0m to \u001b[1;36m10\u001b[0m, where \u001b[1;36m1\u001b[0m represents the lowest confidence in the answer's validity and \u001b[1;36m10\u001b[0m\n",
       "represents the highest. If the question or answer is missing, incomplete, appears incorrect, or contains any words \n",
       "that are neither English nor Arabic, respond with \u001b[1;36m0\u001b[0m. Only respond with the evaluation number.\n",
       "\n",
       "Question: ما هي أهمية دراسة الأحياء في المجتمع؟\n",
       "Positive Answer: تعتبر دراسة الأحياء في المجتمع من أهمية كبيرة، حيث تساهم في فهم وتحليل البيئة والمنظومة \n",
       "الإيكولوجية التي نعيش فيها، مما يساعد على اتخاذ القرارات الصحية والبيئية المناسبة لتحسين جودة الحياة.\n",
       "\n"
      ]
     },
     "metadata": {},
     "output_type": "display_data"
    },
    {
     "data": {
      "text/html": [
       "<pre style=\"white-space:pre;overflow-x:auto;line-height:normal;font-family:Menlo,'DejaVu Sans Mono',consolas,'Courier New',monospace\"><span style=\"color: #008080; text-decoration-color: #008080; font-weight: bold\">10</span>\n",
       "</pre>\n"
      ],
      "text/plain": [
       "\u001b[1;36m10\u001b[0m\n"
      ]
     },
     "metadata": {},
     "output_type": "display_data"
    },
    {
     "data": {
      "text/html": [
       "<pre style=\"white-space:pre;overflow-x:auto;line-height:normal;font-family:Menlo,'DejaVu Sans Mono',consolas,'Courier New',monospace\">Prompt:  \n",
       "Acting as an Arabic language expert and a subject matter expert on the provided question, evaluate the quality of \n",
       "the following positive answer based on its accuracy, relevance, and clarity in addressing the question. Rate the \n",
       "answer on a confidence scale from <span style=\"color: #008080; text-decoration-color: #008080; font-weight: bold\">1</span> to <span style=\"color: #008080; text-decoration-color: #008080; font-weight: bold\">10</span>, where <span style=\"color: #008080; text-decoration-color: #008080; font-weight: bold\">1</span> represents the lowest confidence in the answer's validity and <span style=\"color: #008080; text-decoration-color: #008080; font-weight: bold\">10</span>\n",
       "represents the highest. If the question or answer is missing, incomplete, appears incorrect, or contains any words \n",
       "that are neither English nor Arabic, respond with <span style=\"color: #008080; text-decoration-color: #008080; font-weight: bold\">0</span>. Only respond with the evaluation number.\n",
       "\n",
       "Question: كيف يمكن أن تؤثر التغيرات البيئية على تنوع الحياة على الأرض؟\n",
       "Positive Answer: يمكن أن تؤثر التغيرات البيئية على تنوع الحياة على الأرض من خلال تغيير ظروف المناخ، مما يؤدي إلى \n",
       "اختفاء بعض الأنواع وتحول بيئة أخرى. كما يمكن أن تؤثر على توازن الأحياء وتنويعها، مما يؤدي إلى فقدان التنوع \n",
       "البيولوجي.\n",
       "\n",
       "</pre>\n"
      ],
      "text/plain": [
       "Prompt:  \n",
       "Acting as an Arabic language expert and a subject matter expert on the provided question, evaluate the quality of \n",
       "the following positive answer based on its accuracy, relevance, and clarity in addressing the question. Rate the \n",
       "answer on a confidence scale from \u001b[1;36m1\u001b[0m to \u001b[1;36m10\u001b[0m, where \u001b[1;36m1\u001b[0m represents the lowest confidence in the answer's validity and \u001b[1;36m10\u001b[0m\n",
       "represents the highest. If the question or answer is missing, incomplete, appears incorrect, or contains any words \n",
       "that are neither English nor Arabic, respond with \u001b[1;36m0\u001b[0m. Only respond with the evaluation number.\n",
       "\n",
       "Question: كيف يمكن أن تؤثر التغيرات البيئية على تنوع الحياة على الأرض؟\n",
       "Positive Answer: يمكن أن تؤثر التغيرات البيئية على تنوع الحياة على الأرض من خلال تغيير ظروف المناخ، مما يؤدي إلى \n",
       "اختفاء بعض الأنواع وتحول بيئة أخرى. كما يمكن أن تؤثر على توازن الأحياء وتنويعها، مما يؤدي إلى فقدان التنوع \n",
       "البيولوجي.\n",
       "\n"
      ]
     },
     "metadata": {},
     "output_type": "display_data"
    },
    {
     "data": {
      "text/html": [
       "<pre style=\"white-space:pre;overflow-x:auto;line-height:normal;font-family:Menlo,'DejaVu Sans Mono',consolas,'Courier New',monospace\"><span style=\"color: #008080; text-decoration-color: #008080; font-weight: bold\">10</span>\n",
       "</pre>\n"
      ],
      "text/plain": [
       "\u001b[1;36m10\u001b[0m\n"
      ]
     },
     "metadata": {},
     "output_type": "display_data"
    },
    {
     "data": {
      "text/html": [
       "<pre style=\"white-space:pre;overflow-x:auto;line-height:normal;font-family:Menlo,'DejaVu Sans Mono',consolas,'Courier New',monospace\">Prompt:  \n",
       "Acting as an Arabic language expert and a subject matter expert on the provided question, evaluate the quality of \n",
       "the following positive answer based on its accuracy, relevance, and clarity in addressing the question. Rate the \n",
       "answer on a confidence scale from <span style=\"color: #008080; text-decoration-color: #008080; font-weight: bold\">1</span> to <span style=\"color: #008080; text-decoration-color: #008080; font-weight: bold\">10</span>, where <span style=\"color: #008080; text-decoration-color: #008080; font-weight: bold\">1</span> represents the lowest confidence in the answer's validity and <span style=\"color: #008080; text-decoration-color: #008080; font-weight: bold\">10</span>\n",
       "represents the highest. If the question or answer is missing, incomplete, appears incorrect, or contains any words \n",
       "that are neither English nor Arabic, respond with <span style=\"color: #008080; text-decoration-color: #008080; font-weight: bold\">0</span>. Only respond with the evaluation number.\n",
       "\n",
       "Question: ما هي أهمية التكنولوجيا في مجال الطب الحديث؟\n",
       "Positive Answer: تعتبر التكنولوجيا من أهم العوامل التي تساهم في تقدم الطب الحديث، حيث تتيح للعلماء والباحثين \n",
       "استخدام أدوات ووسائل حديثة لتحليل وتطوير الأدوية والمعدات الطبية، مما يؤدي إلى تحسين جودة الرعاية الصحية وتقليل \n",
       "معدلات الأمراض.\n",
       "\n",
       "</pre>\n"
      ],
      "text/plain": [
       "Prompt:  \n",
       "Acting as an Arabic language expert and a subject matter expert on the provided question, evaluate the quality of \n",
       "the following positive answer based on its accuracy, relevance, and clarity in addressing the question. Rate the \n",
       "answer on a confidence scale from \u001b[1;36m1\u001b[0m to \u001b[1;36m10\u001b[0m, where \u001b[1;36m1\u001b[0m represents the lowest confidence in the answer's validity and \u001b[1;36m10\u001b[0m\n",
       "represents the highest. If the question or answer is missing, incomplete, appears incorrect, or contains any words \n",
       "that are neither English nor Arabic, respond with \u001b[1;36m0\u001b[0m. Only respond with the evaluation number.\n",
       "\n",
       "Question: ما هي أهمية التكنولوجيا في مجال الطب الحديث؟\n",
       "Positive Answer: تعتبر التكنولوجيا من أهم العوامل التي تساهم في تقدم الطب الحديث، حيث تتيح للعلماء والباحثين \n",
       "استخدام أدوات ووسائل حديثة لتحليل وتطوير الأدوية والمعدات الطبية، مما يؤدي إلى تحسين جودة الرعاية الصحية وتقليل \n",
       "معدلات الأمراض.\n",
       "\n"
      ]
     },
     "metadata": {},
     "output_type": "display_data"
    },
    {
     "data": {
      "text/html": [
       "<pre style=\"white-space:pre;overflow-x:auto;line-height:normal;font-family:Menlo,'DejaVu Sans Mono',consolas,'Courier New',monospace\"><span style=\"color: #008080; text-decoration-color: #008080; font-weight: bold\">10</span>\n",
       "</pre>\n"
      ],
      "text/plain": [
       "\u001b[1;36m10\u001b[0m\n"
      ]
     },
     "metadata": {},
     "output_type": "display_data"
    },
    {
     "data": {
      "text/html": [
       "<pre style=\"white-space:pre;overflow-x:auto;line-height:normal;font-family:Menlo,'DejaVu Sans Mono',consolas,'Courier New',monospace\">Prompt:  \n",
       "Acting as an Arabic language expert and a subject matter expert on the provided question, evaluate the quality of \n",
       "the following positive answer based on its accuracy, relevance, and clarity in addressing the question. Rate the \n",
       "answer on a confidence scale from <span style=\"color: #008080; text-decoration-color: #008080; font-weight: bold\">1</span> to <span style=\"color: #008080; text-decoration-color: #008080; font-weight: bold\">10</span>, where <span style=\"color: #008080; text-decoration-color: #008080; font-weight: bold\">1</span> represents the lowest confidence in the answer's validity and <span style=\"color: #008080; text-decoration-color: #008080; font-weight: bold\">10</span>\n",
       "represents the highest. If the question or answer is missing, incomplete, appears incorrect, or contains any words \n",
       "that are neither English nor Arabic, respond with <span style=\"color: #008080; text-decoration-color: #008080; font-weight: bold\">0</span>. Only respond with the evaluation number.\n",
       "\n",
       "Question: كيف يمكن للطب البديل أن يتعامل مع الأمراض التي لا يمكن علاجها بالعلاجات التقليدية؟\n",
       "Positive Answer: يمكن للطب البديل أن يتعامل مع الأمراض التي لا يمكن علاجها بالعلاجات التقليدية من خلال استخدام \n",
       "تقنيات مثل العلاج بالأشعة تحت الحمراء والتدليك والعلاج بالطاقة، مما يساعد في تحسين الصحة العامة وتحفيز الجهاز \n",
       "المناعي.\n",
       "\n",
       "</pre>\n"
      ],
      "text/plain": [
       "Prompt:  \n",
       "Acting as an Arabic language expert and a subject matter expert on the provided question, evaluate the quality of \n",
       "the following positive answer based on its accuracy, relevance, and clarity in addressing the question. Rate the \n",
       "answer on a confidence scale from \u001b[1;36m1\u001b[0m to \u001b[1;36m10\u001b[0m, where \u001b[1;36m1\u001b[0m represents the lowest confidence in the answer's validity and \u001b[1;36m10\u001b[0m\n",
       "represents the highest. If the question or answer is missing, incomplete, appears incorrect, or contains any words \n",
       "that are neither English nor Arabic, respond with \u001b[1;36m0\u001b[0m. Only respond with the evaluation number.\n",
       "\n",
       "Question: كيف يمكن للطب البديل أن يتعامل مع الأمراض التي لا يمكن علاجها بالعلاجات التقليدية؟\n",
       "Positive Answer: يمكن للطب البديل أن يتعامل مع الأمراض التي لا يمكن علاجها بالعلاجات التقليدية من خلال استخدام \n",
       "تقنيات مثل العلاج بالأشعة تحت الحمراء والتدليك والعلاج بالطاقة، مما يساعد في تحسين الصحة العامة وتحفيز الجهاز \n",
       "المناعي.\n",
       "\n"
      ]
     },
     "metadata": {},
     "output_type": "display_data"
    },
    {
     "data": {
      "text/html": [
       "<pre style=\"white-space:pre;overflow-x:auto;line-height:normal;font-family:Menlo,'DejaVu Sans Mono',consolas,'Courier New',monospace\"><span style=\"color: #008080; text-decoration-color: #008080; font-weight: bold\">9</span>\n",
       "</pre>\n"
      ],
      "text/plain": [
       "\u001b[1;36m9\u001b[0m\n"
      ]
     },
     "metadata": {},
     "output_type": "display_data"
    }
   ],
   "source": [
    "RESPONSE_PROMPT_TEMPLATE = \"\"\"\n",
    "Acting as an Arabic language expert and a subject matter expert on the provided question, evaluate the quality of the following positive answer based on its accuracy, relevance, and clarity in addressing the question. Rate the answer on a confidence scale from 1 to 10, where 1 represents the lowest confidence in the answer's validity and 10 represents the highest. If the question or answer is missing, incomplete, appears incorrect, or contains any words that are neither English nor Arabic, respond with 0. Only respond with the evaluation number.\n",
    "\n",
    "Question: {question}\n",
    "Positive Answer: {positive}\n",
    "\"\"\"\n",
    "def generate_evaluation(client, item):\n",
    "    question = item['question']\n",
    "    positive = item['positive']\n",
    "    prompt = RESPONSE_PROMPT_TEMPLATE.format(question=question, positive=positive)\n",
    "    print('Prompt: ', prompt)\n",
    "    response = client.chat.completions.create(\n",
    "        model=modelName,\n",
    "        messages=[\n",
    "            {\"role\": \"user\",\n",
    "             \"content\": prompt}\n",
    "        ],\n",
    "        temperature=0.2,\n",
    "        top_p=0.7,\n",
    "        max_tokens=1024,\n",
    "    )\n",
    "    print(response.choices[0].message.content)\n",
    "    return int(response.choices[0].message.content)\n",
    "finalItems = []\n",
    "\n",
    "for item in data:\n",
    "    if(generate_evaluation(client, item) > 7):\n",
    "        finalItems.append(item)"
   ]
  },
  {
   "cell_type": "code",
   "execution_count": 23,
   "id": "5c8837eb-9a26-4a74-a944-7f13c3037f56",
   "metadata": {
    "tags": []
   },
   "outputs": [],
   "source": [
    "with open(f\"final-{topic}.jsonl\".format(topic), 'w') as f:\n",
    "    for item in finalItems:\n",
    "        item['topic'] = topic\n",
    "        f.write(json.dumps(item))\n",
    "        f.write('\\n')"
   ]
  },
  {
   "cell_type": "code",
   "execution_count": null,
   "id": "ef6fee52-e99e-4651-971f-3760d415542f",
   "metadata": {},
   "outputs": [],
   "source": []
  },
  {
   "cell_type": "code",
   "execution_count": null,
   "id": "81628a08-75a1-4487-8996-8a3a6f63988b",
   "metadata": {},
   "outputs": [],
   "source": []
  }
 ],
 "metadata": {
  "kernelspec": {
   "display_name": "Python 3 (ipykernel)",
   "language": "python",
   "name": "python3"
  },
  "language_info": {
   "codemirror_mode": {
    "name": "ipython",
    "version": 3
   },
   "file_extension": ".py",
   "mimetype": "text/x-python",
   "name": "python",
   "nbconvert_exporter": "python",
   "pygments_lexer": "ipython3",
   "version": "3.11.7"
  }
 },
 "nbformat": 4,
 "nbformat_minor": 5
}
